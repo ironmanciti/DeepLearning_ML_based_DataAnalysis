{
 "cells": [
  {
   "cell_type": "markdown",
   "metadata": {},
   "source": [
    "# Flask and Deep Learning Web Services\n",
    "\n",
    "- 자동차 연비를 예측하는 model 작성  \n",
    "\n",
    "- Flask Webserver start  \n",
    "\n",
    "- 온라인 query를 통한 연비 예측 서비스 제공"
   ]
  },
  {
   "cell_type": "markdown",
   "metadata": {},
   "source": [
    "### UCI Machine Learning Repository 의 Auto MPG dataset 을 사용하여 Regression 예측 model 작성\n",
    "\n",
    "1. mpg:           continuous  \n",
    "2. cylinders:     multi-valued discrete  \n",
    "3. displacement:  continuous (배기량)   \n",
    "4. horsepower:    continuous  \n",
    "5. weight:        continuous  \n",
    "6. acceleration:  continuous  \n",
    "7. model year:    multi-valued discrete  \n",
    "8. origin:        multi-valued discrete, 1 - USA, 2 - Europe, 3 - Japan  \n",
    "9. car name:      string (unique for each instance)  \n",
    "\n",
    "Missing Attribute Values:  horsepower has 6 missing values  ==> \"?\" 로 들어 있으므로 read_csv 시 nan 으로 변환"
   ]
  },
  {
   "cell_type": "markdown",
   "metadata": {},
   "source": [
    "Flask 웹 서비스가 입력 JSON이 유효한지 확인하기를 원합니다. 이를 위해서는 우리가 기대하는 값과 논리적 범위가 무엇인지 알아야 합니다. 다음 코드는 예상 필드와 해당 범위를 출력하고 이 모든 정보를 Flask 웹 애플리케이션에 복사해야 하는 JSON 객체로 패키징합니다. 이 코드를 사용하면 들어오는 JSON 요청을 확인할 수 있습니다."
   ]
  },
  {
   "cell_type": "markdown",
   "metadata": {},
   "source": [
    "Python 코드를 작성하여 단일 자동차에 대한 모델을 호출하고 예측을 얻습니다. 이 코드를 Flask 웹 애플리케이션에 복사해야 합니다."
   ]
  },
  {
   "cell_type": "markdown",
   "metadata": {},
   "source": [
    "## Flask Hello World\n",
    "\n",
    "Jupyter 노트북에서 Flask를 실행하는 것은 드문 일입니다. Flask는 서버이고 Jupyter는 일반적으로 클라이언트의 역할을 수행합니다. 그러나 Jupyter에서 간단한 웹 서비스를 실행할 수 있습니다. Jupyter에서 Flask 웹 컨테이너를 실행해 보겠습니다.  \n",
    "\n",
    "플라스크는 Werkzeug를 랩핑하여 WSGI를 사용합니다. WSGI(Web Server Gateway Interface)는 웹 서버 소프트웨어와 파이썬으로 작성된 웹 응용 프로그램 간의 표준 인터페이스입니다."
   ]
  },
  {
   "cell_type": "markdown",
   "metadata": {},
   "source": [
    "이 프로그램은 컴퓨터의 포트 9000에서 웹 서비스를 시작합니다. 이 셀은 계속 실행됩니다(잠긴 상태로 표시됨). 그러나 브라우저가 연결되기를 기다리고 있을 뿐입니다. 브라우저에서 다음 URL을 가리키면 Flask 웹 서비스와 상호 작용합니다.\n",
    "\n",
    "* http://localhost:9000/\n",
    "\n",
    "\n",
    "### MPG Flask\n",
    "\n",
    "일반적으로 JSON을 통해 웹 서비스와 상호 작용합니다. 브라우저에서 Flask 애플리케이션에 JSON 메시지를 보내고 Flask 애플리케이션은 JSON을 반환합니다. 갤런당 마일을 예측하는 신경망용 Flask 웹 애플리케이션을 생성합니다. 샘플 JSON은 다음과 같습니다.\n",
    "\n",
    "```\n",
    "{\n",
    "  \"cylinders\": 8, \n",
    "  \"displacement\": 300,\n",
    "  \"horsepower\": 78, \n",
    "  \"weight\": 3500,\n",
    "  \"acceleration\": 20, \n",
    "  \"year\": 76,\n",
    "  \"origin\": 1\n",
    "}\n",
    "```\n",
    "\n",
    "이 JSON 데이터를 웹 서버에 post하는 두 가지 다른 방법이 있습니다.  \n",
    "\n",
    "- [POSTman](https://www.getpostman.com/)과 같은 유틸리티를 사용합니다.   \n",
    "\n",
    "- Python 코드를 사용하여 JSON 메시지를 구성하고 Flask와 상호 작용합니다."
   ]
  },
  {
   "cell_type": "markdown",
   "metadata": {},
   "source": [
    "### 다른 notebook 에서 아래 code 수행\n",
    "\n",
    "```\n",
    "import requests\n",
    "\n",
    "json = {\n",
    "  \"cylinders\": 8, \n",
    "  \"displacement\": 300,\n",
    "  \"horsepower\": 78, \n",
    "  \"weight\": 3500,\n",
    "  \"acceleration\": 20, \n",
    "  \"year\": 76,\n",
    "  \"origin\": 1\n",
    "}\n",
    "\n",
    "r = requests.post(\"http://localhost:9000/api/mpg\",json=json)\n",
    "if r.status_code == 200:\n",
    "    print(\"Success: {}\".format(r.text))\n",
    "else: print(\"Failure: {}\".format(r.text))\n",
    "```"
   ]
  }
 ],
 "metadata": {
  "anaconda-cloud": {},
  "kernelspec": {
   "display_name": "Python 3",
   "language": "python",
   "name": "python3"
  },
  "language_info": {
   "codemirror_mode": {
    "name": "ipython",
    "version": 3
   },
   "file_extension": ".py",
   "mimetype": "text/x-python",
   "name": "python",
   "nbconvert_exporter": "python",
   "pygments_lexer": "ipython3",
   "version": "3.7.10"
  }
 },
 "nbformat": 4,
 "nbformat_minor": 4
}
