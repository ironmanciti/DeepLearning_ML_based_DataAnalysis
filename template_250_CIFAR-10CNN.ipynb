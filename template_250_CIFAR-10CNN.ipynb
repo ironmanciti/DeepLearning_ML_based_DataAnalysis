{
 "cells": [
  {
   "cell_type": "markdown",
   "metadata": {},
   "source": [
    "# CIFAR-10 을 이용한 CNN 구축\n",
    "\n",
    "- CIFAR-10 및 CIFAR-100은 머신러닝과 컴퓨터 비전 알고리즘에 사용되는 8000만 개의 작은 이미지 데이터 세트의 하위 세트로 분류. \n",
    "\n",
    "\n",
    "- CIFAR-10은 32 x 32 크기의 60000개의 이미지로 이루어져 있다. 10개의 클래스로 분류(airplane, bird, cat ...) 되며 각각의 클래스는 6000개의 이미지로 이루어져 있다.\n",
    "\n",
    "\n",
    "\n",
    "- 5000개는 학습 데이터, 1000개는 테스트 데이터 (총, 50000개의 학습 데이터, 10000개의 테스트 데이터)로 구성"
   ]
  },
  {
   "cell_type": "markdown",
   "metadata": {},
   "source": [
    "## accuracy 시각화"
   ]
  },
  {
   "cell_type": "markdown",
   "metadata": {},
   "source": [
    "### heatmap 작성"
   ]
  },
  {
   "cell_type": "markdown",
   "metadata": {},
   "source": [
    "# 실습 :\n",
    "\n",
    "## Convolutional Layer 와 Pooling Layer 를  추가하고 Hyper-parameter 조정하여 성능 개선 혹은 epochs 늘려서 accuracy 향상 비교"
   ]
  }
 ],
 "metadata": {
  "kernelspec": {
   "display_name": "Python 3",
   "language": "python",
   "name": "python3"
  },
  "language_info": {
   "codemirror_mode": {
    "name": "ipython",
    "version": 3
   },
   "file_extension": ".py",
   "mimetype": "text/x-python",
   "name": "python",
   "nbconvert_exporter": "python",
   "pygments_lexer": "ipython3",
   "version": "3.7.10"
  }
 },
 "nbformat": 4,
 "nbformat_minor": 2
}
