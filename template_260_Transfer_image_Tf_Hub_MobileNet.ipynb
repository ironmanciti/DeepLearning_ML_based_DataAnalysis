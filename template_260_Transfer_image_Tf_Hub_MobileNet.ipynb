{
 "cells": [
  {
   "cell_type": "markdown",
   "metadata": {
    "id": "JnKRe0p9h35K"
   },
   "source": [
    "# TensorFlow Hub 를 이용한 Transfer Learning\n",
    "\n",
    "- Pre-trained Moblenet을 사용한 전이 학습"
   ]
  },
  {
   "cell_type": "markdown",
   "metadata": {
    "id": "qqOSkGp9R55q"
   },
   "source": [
    "## Fine Tuning 없이 사용 --> Full Model download"
   ]
  },
  {
   "cell_type": "markdown",
   "metadata": {
    "id": "jWb45OshSDsr"
   },
   "source": [
    "## PRE-TRAINED(no fine-tuning) MOBILENET 평가"
   ]
  },
  {
   "cell_type": "markdown",
   "metadata": {
    "id": "0HIZbeIujJva"
   },
   "source": [
    "임의의 사진을 internet에서 가져온다"
   ]
  },
  {
   "cell_type": "markdown",
   "metadata": {
    "id": "xzhxXLlaF7Nb"
   },
   "source": [
    "image를 numpy array로 변환"
   ]
  },
  {
   "cell_type": "markdown",
   "metadata": {
    "id": "_OFP70bEG8kJ"
   },
   "source": [
    "`decode_predictions` method를 이용하여 top 5 result 출력"
   ]
  },
  {
   "cell_type": "markdown",
   "metadata": {
    "id": "k2LYmvZ7HP3A"
   },
   "source": [
    "Imagenet label의 종류"
   ]
  },
  {
   "cell_type": "markdown",
   "metadata": {
    "id": "Bh5YVgd3NJkz"
   },
   "source": [
    "## 특정 domain(Flower domain)의 Batch Image 에 대한 MobileNet 평가 - No Fine Tuning \n",
    "\n",
    "- MobileNet 은 Flower 에 특화된 model 이 아니므로 정확도 낮을 것 예상"
   ]
  },
  {
   "cell_type": "markdown",
   "metadata": {
    "id": "VfS1K4nopQGL"
   },
   "source": [
    "- flower data 는 5 개의 class 로 구성"
   ]
  },
  {
   "cell_type": "markdown",
   "metadata": {
    "id": "PGtPtiQLphXC"
   },
   "source": [
    "- 10 개 image 시각화 (`ImageDataGenerator`의  `preprocess_input`에서 normalize가 되어 있으므로 denormalize 하여 image 를 복원)"
   ]
  },
  {
   "cell_type": "markdown",
   "metadata": {
    "id": "VTQ63ZY7pnU9"
   },
   "source": [
    "- 임의의 꽃 image 1 개를 선택하여 prediction 비교"
   ]
  },
  {
   "cell_type": "markdown",
   "metadata": {
    "id": "H38yzWMAn7hu"
   },
   "source": [
    "# 전이학습 MODEL 을 Flower 분류에 적합한 model 로 Retrain \n",
    "\n",
    "### Fine Tuning 을 위해 head 가 제거된 model 을 download  \n",
    "\n",
    "- https://tfhub.dev/s?module-type=image-feature-vector&q=tf2"
   ]
  },
  {
   "cell_type": "markdown",
   "metadata": {
    "id": "SaoQU-KZ_S2X"
   },
   "source": [
    "- MobileNet 의 pre-trained weight 는 update 않음  \n",
    "\n",
    "- Top layer 에 Dense layer 추가"
   ]
  },
  {
   "cell_type": "markdown",
   "metadata": {
    "id": "MxI0-oqa_sEB"
   },
   "source": [
    "- output shape 이 정확히 5개 category로 분류 되는지 training 전에 사전 check"
   ]
  },
  {
   "cell_type": "markdown",
   "metadata": {
    "id": "0wR3uKW8g5po"
   },
   "source": [
    "# Flower 분류에 특화하여 Fine Tuning한 MODEL 평가"
   ]
  }
 ],
 "metadata": {
  "accelerator": "GPU",
  "colab": {
   "collapsed_sections": [],
   "name": "260_Transfer_image_Tf_Hub_MobileNet.ipynb",
   "provenance": []
  },
  "kernelspec": {
   "display_name": "Python 3",
   "language": "python",
   "name": "python3"
  },
  "language_info": {
   "codemirror_mode": {
    "name": "ipython",
    "version": 3
   },
   "file_extension": ".py",
   "mimetype": "text/x-python",
   "name": "python",
   "nbconvert_exporter": "python",
   "pygments_lexer": "ipython3",
   "version": "3.7.10"
  }
 },
 "nbformat": 4,
 "nbformat_minor": 0
}
