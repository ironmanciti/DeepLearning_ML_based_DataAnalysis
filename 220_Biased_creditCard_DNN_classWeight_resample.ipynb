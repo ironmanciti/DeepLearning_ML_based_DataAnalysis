{
 "cells": [
  {
   "cell_type": "markdown",
   "metadata": {
    "id": "SyQuWKAJt3xq"
   },
   "source": [
    "# 220. Highly Imbalanced Fraud Data 의 분류\n",
    "## DNN 이용, Class Weight 조정, OverSampling\n",
    "## ROC 비교\n",
    "\n",
    "- [Credit Card Fraud Detection](https://www.kaggle.com/mlg-ulb/creditcardfraud) - Kaggle\n",
    "\n",
    "\n",
    "- Highly Imbalanced Dataset - dataset는 2013 년 9 월 유럽 카드 소지자 신용 카드 거래로 만들었습니다. 이 dataset는 2 일 동안 발생한 거래를 보여 주며, 284,807 건의 거래 중 492 건의 fraud가 있습니다. 데이터세트는 매우 불균형하며 포지티브 클래스(사기)는 모든 거래의 0.172 %를 차지합니다.\n",
    "\n",
    "\n",
    "- 이 dataset는 PCA 변환의 결과인 숫자 입력 변수만 포함합니다. 안타깝게도 기밀 유지 문제로 인해 데이터에 대한 원래 feature와 추가 background 정보를 제공할 수 없습니다. 특성 V1, V2, ... V28은 PCA로 얻은 principal component이며 PCA로 변환되지 않은 유일한 기능은 'Time' 과 'Amount' 입니다. '시간' 특성은 각 트랜잭션과 데이터 세트의 첫 번째 트랜잭션 사이에 경과된 시간(초) 입니다. 'Amount' 특성은 거래금액 입니다.  'Class'는 사기의 경우 1, 그렇지 않으면 0 입니다.\n",
    "\n",
    "\n",
    "- 클래스 불균형 비율이 주어지면 Area Under the Precision-Recall Curve (AUPRC)을 사용하여 정확도를 측정하는 것이 좋습니다. 불균형 data 분류에는 confusion matrix 정확도가 의미가 없습니다."
   ]
  },
  {
   "cell_type": "code",
   "execution_count": 1,
   "metadata": {
    "id": "dH4wHxmzt3xy"
   },
   "outputs": [],
   "source": [
    "import tensorflow as tf\n",
    "\n",
    "import matplotlib as mpl\n",
    "import matplotlib.pyplot as plt\n",
    "import numpy as np\n",
    "import pandas as pd\n",
    "import seaborn as sns\n",
    "from collections import Counter\n",
    "from sklearn.metrics import confusion_matrix, f1_score\n",
    "from sklearn.metrics import  accuracy_score, precision_score, recall_score, \\\n",
    "                            roc_curve, roc_auc_score\n",
    "\n",
    "from sklearn.model_selection import train_test_split\n",
    "from sklearn.preprocessing import StandardScaler"
   ]
  },
  {
   "cell_type": "markdown",
   "metadata": {
    "id": "IdW269nBt3x2"
   },
   "source": [
    "### Download the Kaggle Credit Card Fraud data set\n",
    "\n",
    "- [kaggle creditcard csv file](https://storage.googleapis.com/download.tensorflow.org/data/creditcard.csv)"
   ]
  },
  {
   "cell_type": "code",
   "execution_count": 8,
   "metadata": {
    "colab": {
     "base_uri": "https://localhost:8080/",
     "height": 226
    },
    "id": "Zo_ucpfIt3x4",
    "outputId": "0518a868-e434-4b82-b18d-dc28288e3fd7"
   },
   "outputs": [
    {
     "data": {
      "text/html": [
       "<div>\n",
       "<style scoped>\n",
       "    .dataframe tbody tr th:only-of-type {\n",
       "        vertical-align: middle;\n",
       "    }\n",
       "\n",
       "    .dataframe tbody tr th {\n",
       "        vertical-align: top;\n",
       "    }\n",
       "\n",
       "    .dataframe thead th {\n",
       "        text-align: right;\n",
       "    }\n",
       "</style>\n",
       "<table border=\"1\" class=\"dataframe\">\n",
       "  <thead>\n",
       "    <tr style=\"text-align: right;\">\n",
       "      <th></th>\n",
       "      <th>Time</th>\n",
       "      <th>V1</th>\n",
       "      <th>V2</th>\n",
       "      <th>V3</th>\n",
       "      <th>V4</th>\n",
       "      <th>V5</th>\n",
       "      <th>V6</th>\n",
       "      <th>V7</th>\n",
       "      <th>V8</th>\n",
       "      <th>V9</th>\n",
       "      <th>V10</th>\n",
       "      <th>V11</th>\n",
       "      <th>V12</th>\n",
       "      <th>V13</th>\n",
       "      <th>V14</th>\n",
       "      <th>V15</th>\n",
       "      <th>V16</th>\n",
       "      <th>V17</th>\n",
       "      <th>V18</th>\n",
       "      <th>V19</th>\n",
       "      <th>V20</th>\n",
       "      <th>V21</th>\n",
       "      <th>V22</th>\n",
       "      <th>V23</th>\n",
       "      <th>V24</th>\n",
       "      <th>V25</th>\n",
       "      <th>V26</th>\n",
       "      <th>V27</th>\n",
       "      <th>V28</th>\n",
       "      <th>Amount</th>\n",
       "      <th>Class</th>\n",
       "    </tr>\n",
       "  </thead>\n",
       "  <tbody>\n",
       "    <tr>\n",
       "      <th>0</th>\n",
       "      <td>0.0</td>\n",
       "      <td>-1.359807</td>\n",
       "      <td>-0.072781</td>\n",
       "      <td>2.536347</td>\n",
       "      <td>1.378155</td>\n",
       "      <td>-0.338321</td>\n",
       "      <td>0.462388</td>\n",
       "      <td>0.239599</td>\n",
       "      <td>0.098698</td>\n",
       "      <td>0.363787</td>\n",
       "      <td>0.090794</td>\n",
       "      <td>-0.551600</td>\n",
       "      <td>-0.617801</td>\n",
       "      <td>-0.991390</td>\n",
       "      <td>-0.311169</td>\n",
       "      <td>1.468177</td>\n",
       "      <td>-0.470401</td>\n",
       "      <td>0.207971</td>\n",
       "      <td>0.025791</td>\n",
       "      <td>0.403993</td>\n",
       "      <td>0.251412</td>\n",
       "      <td>-0.018307</td>\n",
       "      <td>0.277838</td>\n",
       "      <td>-0.110474</td>\n",
       "      <td>0.066928</td>\n",
       "      <td>0.128539</td>\n",
       "      <td>-0.189115</td>\n",
       "      <td>0.133558</td>\n",
       "      <td>-0.021053</td>\n",
       "      <td>149.62</td>\n",
       "      <td>0</td>\n",
       "    </tr>\n",
       "    <tr>\n",
       "      <th>1</th>\n",
       "      <td>0.0</td>\n",
       "      <td>1.191857</td>\n",
       "      <td>0.266151</td>\n",
       "      <td>0.166480</td>\n",
       "      <td>0.448154</td>\n",
       "      <td>0.060018</td>\n",
       "      <td>-0.082361</td>\n",
       "      <td>-0.078803</td>\n",
       "      <td>0.085102</td>\n",
       "      <td>-0.255425</td>\n",
       "      <td>-0.166974</td>\n",
       "      <td>1.612727</td>\n",
       "      <td>1.065235</td>\n",
       "      <td>0.489095</td>\n",
       "      <td>-0.143772</td>\n",
       "      <td>0.635558</td>\n",
       "      <td>0.463917</td>\n",
       "      <td>-0.114805</td>\n",
       "      <td>-0.183361</td>\n",
       "      <td>-0.145783</td>\n",
       "      <td>-0.069083</td>\n",
       "      <td>-0.225775</td>\n",
       "      <td>-0.638672</td>\n",
       "      <td>0.101288</td>\n",
       "      <td>-0.339846</td>\n",
       "      <td>0.167170</td>\n",
       "      <td>0.125895</td>\n",
       "      <td>-0.008983</td>\n",
       "      <td>0.014724</td>\n",
       "      <td>2.69</td>\n",
       "      <td>0</td>\n",
       "    </tr>\n",
       "    <tr>\n",
       "      <th>2</th>\n",
       "      <td>1.0</td>\n",
       "      <td>-1.358354</td>\n",
       "      <td>-1.340163</td>\n",
       "      <td>1.773209</td>\n",
       "      <td>0.379780</td>\n",
       "      <td>-0.503198</td>\n",
       "      <td>1.800499</td>\n",
       "      <td>0.791461</td>\n",
       "      <td>0.247676</td>\n",
       "      <td>-1.514654</td>\n",
       "      <td>0.207643</td>\n",
       "      <td>0.624501</td>\n",
       "      <td>0.066084</td>\n",
       "      <td>0.717293</td>\n",
       "      <td>-0.165946</td>\n",
       "      <td>2.345865</td>\n",
       "      <td>-2.890083</td>\n",
       "      <td>1.109969</td>\n",
       "      <td>-0.121359</td>\n",
       "      <td>-2.261857</td>\n",
       "      <td>0.524980</td>\n",
       "      <td>0.247998</td>\n",
       "      <td>0.771679</td>\n",
       "      <td>0.909412</td>\n",
       "      <td>-0.689281</td>\n",
       "      <td>-0.327642</td>\n",
       "      <td>-0.139097</td>\n",
       "      <td>-0.055353</td>\n",
       "      <td>-0.059752</td>\n",
       "      <td>378.66</td>\n",
       "      <td>0</td>\n",
       "    </tr>\n",
       "    <tr>\n",
       "      <th>3</th>\n",
       "      <td>1.0</td>\n",
       "      <td>-0.966272</td>\n",
       "      <td>-0.185226</td>\n",
       "      <td>1.792993</td>\n",
       "      <td>-0.863291</td>\n",
       "      <td>-0.010309</td>\n",
       "      <td>1.247203</td>\n",
       "      <td>0.237609</td>\n",
       "      <td>0.377436</td>\n",
       "      <td>-1.387024</td>\n",
       "      <td>-0.054952</td>\n",
       "      <td>-0.226487</td>\n",
       "      <td>0.178228</td>\n",
       "      <td>0.507757</td>\n",
       "      <td>-0.287924</td>\n",
       "      <td>-0.631418</td>\n",
       "      <td>-1.059647</td>\n",
       "      <td>-0.684093</td>\n",
       "      <td>1.965775</td>\n",
       "      <td>-1.232622</td>\n",
       "      <td>-0.208038</td>\n",
       "      <td>-0.108300</td>\n",
       "      <td>0.005274</td>\n",
       "      <td>-0.190321</td>\n",
       "      <td>-1.175575</td>\n",
       "      <td>0.647376</td>\n",
       "      <td>-0.221929</td>\n",
       "      <td>0.062723</td>\n",
       "      <td>0.061458</td>\n",
       "      <td>123.50</td>\n",
       "      <td>0</td>\n",
       "    </tr>\n",
       "    <tr>\n",
       "      <th>4</th>\n",
       "      <td>2.0</td>\n",
       "      <td>-1.158233</td>\n",
       "      <td>0.877737</td>\n",
       "      <td>1.548718</td>\n",
       "      <td>0.403034</td>\n",
       "      <td>-0.407193</td>\n",
       "      <td>0.095921</td>\n",
       "      <td>0.592941</td>\n",
       "      <td>-0.270533</td>\n",
       "      <td>0.817739</td>\n",
       "      <td>0.753074</td>\n",
       "      <td>-0.822843</td>\n",
       "      <td>0.538196</td>\n",
       "      <td>1.345852</td>\n",
       "      <td>-1.119670</td>\n",
       "      <td>0.175121</td>\n",
       "      <td>-0.451449</td>\n",
       "      <td>-0.237033</td>\n",
       "      <td>-0.038195</td>\n",
       "      <td>0.803487</td>\n",
       "      <td>0.408542</td>\n",
       "      <td>-0.009431</td>\n",
       "      <td>0.798278</td>\n",
       "      <td>-0.137458</td>\n",
       "      <td>0.141267</td>\n",
       "      <td>-0.206010</td>\n",
       "      <td>0.502292</td>\n",
       "      <td>0.219422</td>\n",
       "      <td>0.215153</td>\n",
       "      <td>69.99</td>\n",
       "      <td>0</td>\n",
       "    </tr>\n",
       "  </tbody>\n",
       "</table>\n",
       "</div>"
      ],
      "text/plain": [
       "   Time        V1        V2        V3  ...       V27       V28  Amount  Class\n",
       "0   0.0 -1.359807 -0.072781  2.536347  ...  0.133558 -0.021053  149.62      0\n",
       "1   0.0  1.191857  0.266151  0.166480  ... -0.008983  0.014724    2.69      0\n",
       "2   1.0 -1.358354 -1.340163  1.773209  ... -0.055353 -0.059752  378.66      0\n",
       "3   1.0 -0.966272 -0.185226  1.792993  ...  0.062723  0.061458  123.50      0\n",
       "4   2.0 -1.158233  0.877737  1.548718  ...  0.219422  0.215153   69.99      0\n",
       "\n",
       "[5 rows x 31 columns]"
      ]
     },
     "execution_count": 8,
     "metadata": {},
     "output_type": "execute_result"
    }
   ],
   "source": [
    "df = pd.read_csv('https://storage.googleapis.com/download.tensorflow.org/data/creditcard.csv')\n",
    "df.head()"
   ]
  },
  {
   "cell_type": "code",
   "execution_count": 9,
   "metadata": {
    "colab": {
     "base_uri": "https://localhost:8080/"
    },
    "id": "U8T7WiFiwuHG",
    "outputId": "6c333b86-3dcf-47d7-8c1b-4927768bde2e"
   },
   "outputs": [
    {
     "data": {
      "text/plain": [
       "(284807, 31)"
      ]
     },
     "execution_count": 9,
     "metadata": {},
     "output_type": "execute_result"
    }
   ],
   "source": [
    "df.shape"
   ]
  },
  {
   "cell_type": "markdown",
   "metadata": {
    "id": "738aexZRt3x-"
   },
   "source": [
    "### 클래스 레이블 불균형 조사"
   ]
  },
  {
   "cell_type": "code",
   "execution_count": 10,
   "metadata": {
    "colab": {
     "base_uri": "https://localhost:8080/"
    },
    "id": "2nnddVRjGIpU",
    "outputId": "e679176a-4da5-4535-b129-8e2eb0f04dc9"
   },
   "outputs": [
    {
     "data": {
      "text/plain": [
       "0    284315\n",
       "1       492\n",
       "Name: Class, dtype: int64"
      ]
     },
     "execution_count": 10,
     "metadata": {},
     "output_type": "execute_result"
    }
   ],
   "source": [
    "df['Class'].value_counts()"
   ]
  },
  {
   "cell_type": "code",
   "execution_count": 11,
   "metadata": {
    "colab": {
     "base_uri": "https://localhost:8080/"
    },
    "id": "k_Q_Zwbkt3x_",
    "outputId": "7fccdbb3-bce7-4c07-e0d3-2a8bf35d06a4"
   },
   "outputs": [
    {
     "name": "stdout",
     "output_type": "stream",
     "text": [
      "Total = 284,807\n",
      "Fraud = 0.17%\n",
      "Normal = 99.83%\n"
     ]
    }
   ],
   "source": [
    "fraud = (df['Class'] == 1).sum()\n",
    "normal = (df['Class'] == 0).sum()\n",
    "\n",
    "total = fraud + normal\n",
    "\n",
    "print(f\"Total = {total:,}\")\n",
    "print(f\"Fraud = {fraud/total*100:,.2f}%\")\n",
    "print(f\"Normal = {normal/total*100:,.2f}%\")"
   ]
  },
  {
   "cell_type": "markdown",
   "metadata": {
    "id": "USH9Dhvjt3yG"
   },
   "source": [
    "### Clean, split and normalize the data"
   ]
  },
  {
   "cell_type": "markdown",
   "metadata": {
    "id": "KJMpFuR9xSSx"
   },
   "source": [
    "- `Time` column을 일중 시간으로 변환. 첫번 transaction 이 00:00:00 에 시작되었으므로, `(경과한 second)/3600초 % 24`로 시간 변환 \n",
    "\n",
    "- `Amount`를 log 값으로 변환"
   ]
  },
  {
   "cell_type": "code",
   "execution_count": 12,
   "metadata": {
    "colab": {
     "base_uri": "https://localhost:8080/",
     "height": 226
    },
    "id": "pB2rdKDwvgsG",
    "outputId": "b47f8809-0ebd-47dc-a38b-40fe9a40e89a"
   },
   "outputs": [
    {
     "data": {
      "text/html": [
       "<div>\n",
       "<style scoped>\n",
       "    .dataframe tbody tr th:only-of-type {\n",
       "        vertical-align: middle;\n",
       "    }\n",
       "\n",
       "    .dataframe tbody tr th {\n",
       "        vertical-align: top;\n",
       "    }\n",
       "\n",
       "    .dataframe thead th {\n",
       "        text-align: right;\n",
       "    }\n",
       "</style>\n",
       "<table border=\"1\" class=\"dataframe\">\n",
       "  <thead>\n",
       "    <tr style=\"text-align: right;\">\n",
       "      <th></th>\n",
       "      <th>Time</th>\n",
       "      <th>V1</th>\n",
       "      <th>V2</th>\n",
       "      <th>V3</th>\n",
       "      <th>V4</th>\n",
       "      <th>V5</th>\n",
       "      <th>V6</th>\n",
       "      <th>V7</th>\n",
       "      <th>V8</th>\n",
       "      <th>V9</th>\n",
       "      <th>V10</th>\n",
       "      <th>V11</th>\n",
       "      <th>V12</th>\n",
       "      <th>V13</th>\n",
       "      <th>V14</th>\n",
       "      <th>V15</th>\n",
       "      <th>V16</th>\n",
       "      <th>V17</th>\n",
       "      <th>V18</th>\n",
       "      <th>V19</th>\n",
       "      <th>V20</th>\n",
       "      <th>V21</th>\n",
       "      <th>V22</th>\n",
       "      <th>V23</th>\n",
       "      <th>V24</th>\n",
       "      <th>V25</th>\n",
       "      <th>V26</th>\n",
       "      <th>V27</th>\n",
       "      <th>V28</th>\n",
       "      <th>Class</th>\n",
       "      <th>Amount</th>\n",
       "    </tr>\n",
       "  </thead>\n",
       "  <tbody>\n",
       "    <tr>\n",
       "      <th>0</th>\n",
       "      <td>0.000000</td>\n",
       "      <td>-1.359807</td>\n",
       "      <td>-0.072781</td>\n",
       "      <td>2.536347</td>\n",
       "      <td>1.378155</td>\n",
       "      <td>-0.338321</td>\n",
       "      <td>0.462388</td>\n",
       "      <td>0.239599</td>\n",
       "      <td>0.098698</td>\n",
       "      <td>0.363787</td>\n",
       "      <td>0.090794</td>\n",
       "      <td>-0.551600</td>\n",
       "      <td>-0.617801</td>\n",
       "      <td>-0.991390</td>\n",
       "      <td>-0.311169</td>\n",
       "      <td>1.468177</td>\n",
       "      <td>-0.470401</td>\n",
       "      <td>0.207971</td>\n",
       "      <td>0.025791</td>\n",
       "      <td>0.403993</td>\n",
       "      <td>0.251412</td>\n",
       "      <td>-0.018307</td>\n",
       "      <td>0.277838</td>\n",
       "      <td>-0.110474</td>\n",
       "      <td>0.066928</td>\n",
       "      <td>0.128539</td>\n",
       "      <td>-0.189115</td>\n",
       "      <td>0.133558</td>\n",
       "      <td>-0.021053</td>\n",
       "      <td>0</td>\n",
       "      <td>5.008105</td>\n",
       "    </tr>\n",
       "    <tr>\n",
       "      <th>1</th>\n",
       "      <td>0.000000</td>\n",
       "      <td>1.191857</td>\n",
       "      <td>0.266151</td>\n",
       "      <td>0.166480</td>\n",
       "      <td>0.448154</td>\n",
       "      <td>0.060018</td>\n",
       "      <td>-0.082361</td>\n",
       "      <td>-0.078803</td>\n",
       "      <td>0.085102</td>\n",
       "      <td>-0.255425</td>\n",
       "      <td>-0.166974</td>\n",
       "      <td>1.612727</td>\n",
       "      <td>1.065235</td>\n",
       "      <td>0.489095</td>\n",
       "      <td>-0.143772</td>\n",
       "      <td>0.635558</td>\n",
       "      <td>0.463917</td>\n",
       "      <td>-0.114805</td>\n",
       "      <td>-0.183361</td>\n",
       "      <td>-0.145783</td>\n",
       "      <td>-0.069083</td>\n",
       "      <td>-0.225775</td>\n",
       "      <td>-0.638672</td>\n",
       "      <td>0.101288</td>\n",
       "      <td>-0.339846</td>\n",
       "      <td>0.167170</td>\n",
       "      <td>0.125895</td>\n",
       "      <td>-0.008983</td>\n",
       "      <td>0.014724</td>\n",
       "      <td>0</td>\n",
       "      <td>0.989913</td>\n",
       "    </tr>\n",
       "    <tr>\n",
       "      <th>2</th>\n",
       "      <td>0.000278</td>\n",
       "      <td>-1.358354</td>\n",
       "      <td>-1.340163</td>\n",
       "      <td>1.773209</td>\n",
       "      <td>0.379780</td>\n",
       "      <td>-0.503198</td>\n",
       "      <td>1.800499</td>\n",
       "      <td>0.791461</td>\n",
       "      <td>0.247676</td>\n",
       "      <td>-1.514654</td>\n",
       "      <td>0.207643</td>\n",
       "      <td>0.624501</td>\n",
       "      <td>0.066084</td>\n",
       "      <td>0.717293</td>\n",
       "      <td>-0.165946</td>\n",
       "      <td>2.345865</td>\n",
       "      <td>-2.890083</td>\n",
       "      <td>1.109969</td>\n",
       "      <td>-0.121359</td>\n",
       "      <td>-2.261857</td>\n",
       "      <td>0.524980</td>\n",
       "      <td>0.247998</td>\n",
       "      <td>0.771679</td>\n",
       "      <td>0.909412</td>\n",
       "      <td>-0.689281</td>\n",
       "      <td>-0.327642</td>\n",
       "      <td>-0.139097</td>\n",
       "      <td>-0.055353</td>\n",
       "      <td>-0.059752</td>\n",
       "      <td>0</td>\n",
       "      <td>5.936641</td>\n",
       "    </tr>\n",
       "    <tr>\n",
       "      <th>3</th>\n",
       "      <td>0.000278</td>\n",
       "      <td>-0.966272</td>\n",
       "      <td>-0.185226</td>\n",
       "      <td>1.792993</td>\n",
       "      <td>-0.863291</td>\n",
       "      <td>-0.010309</td>\n",
       "      <td>1.247203</td>\n",
       "      <td>0.237609</td>\n",
       "      <td>0.377436</td>\n",
       "      <td>-1.387024</td>\n",
       "      <td>-0.054952</td>\n",
       "      <td>-0.226487</td>\n",
       "      <td>0.178228</td>\n",
       "      <td>0.507757</td>\n",
       "      <td>-0.287924</td>\n",
       "      <td>-0.631418</td>\n",
       "      <td>-1.059647</td>\n",
       "      <td>-0.684093</td>\n",
       "      <td>1.965775</td>\n",
       "      <td>-1.232622</td>\n",
       "      <td>-0.208038</td>\n",
       "      <td>-0.108300</td>\n",
       "      <td>0.005274</td>\n",
       "      <td>-0.190321</td>\n",
       "      <td>-1.175575</td>\n",
       "      <td>0.647376</td>\n",
       "      <td>-0.221929</td>\n",
       "      <td>0.062723</td>\n",
       "      <td>0.061458</td>\n",
       "      <td>0</td>\n",
       "      <td>4.816249</td>\n",
       "    </tr>\n",
       "    <tr>\n",
       "      <th>4</th>\n",
       "      <td>0.000556</td>\n",
       "      <td>-1.158233</td>\n",
       "      <td>0.877737</td>\n",
       "      <td>1.548718</td>\n",
       "      <td>0.403034</td>\n",
       "      <td>-0.407193</td>\n",
       "      <td>0.095921</td>\n",
       "      <td>0.592941</td>\n",
       "      <td>-0.270533</td>\n",
       "      <td>0.817739</td>\n",
       "      <td>0.753074</td>\n",
       "      <td>-0.822843</td>\n",
       "      <td>0.538196</td>\n",
       "      <td>1.345852</td>\n",
       "      <td>-1.119670</td>\n",
       "      <td>0.175121</td>\n",
       "      <td>-0.451449</td>\n",
       "      <td>-0.237033</td>\n",
       "      <td>-0.038195</td>\n",
       "      <td>0.803487</td>\n",
       "      <td>0.408542</td>\n",
       "      <td>-0.009431</td>\n",
       "      <td>0.798278</td>\n",
       "      <td>-0.137458</td>\n",
       "      <td>0.141267</td>\n",
       "      <td>-0.206010</td>\n",
       "      <td>0.502292</td>\n",
       "      <td>0.219422</td>\n",
       "      <td>0.215153</td>\n",
       "      <td>0</td>\n",
       "      <td>4.248367</td>\n",
       "    </tr>\n",
       "  </tbody>\n",
       "</table>\n",
       "</div>"
      ],
      "text/plain": [
       "       Time        V1        V2        V3  ...       V27       V28  Class    Amount\n",
       "0  0.000000 -1.359807 -0.072781  2.536347  ...  0.133558 -0.021053      0  5.008105\n",
       "1  0.000000  1.191857  0.266151  0.166480  ... -0.008983  0.014724      0  0.989913\n",
       "2  0.000278 -1.358354 -1.340163  1.773209  ... -0.055353 -0.059752      0  5.936641\n",
       "3  0.000278 -0.966272 -0.185226  1.792993  ...  0.062723  0.061458      0  4.816249\n",
       "4  0.000556 -1.158233  0.877737  1.548718  ...  0.219422  0.215153      0  4.248367\n",
       "\n",
       "[5 rows x 31 columns]"
      ]
     },
     "execution_count": 12,
     "metadata": {},
     "output_type": "execute_result"
    }
   ],
   "source": [
    "cleaned_df = df.copy()\n",
    "\n",
    "# Time 을 일중 시간으로 변환\n",
    "cleaned_df.loc[:, \"Time\"] = cleaned_df.loc[:, \"Time\"].apply(lambda x : x / 3600 % 24) \n",
    "\n",
    "# Amount column 은 편차가 크므로 log-scale 로 변환\n",
    "eps=0.001      # 0 => 0.1¢\n",
    "cleaned_df['Amount'] = np.log(cleaned_df.pop('Amount') + eps)\n",
    "\n",
    "cleaned_df.head()"
   ]
  },
  {
   "cell_type": "markdown",
   "metadata": {
    "id": "VbYCqbc-xX1T"
   },
   "source": [
    "- log 변환된 Amount의 분포 확인"
   ]
  },
  {
   "cell_type": "code",
   "execution_count": 13,
   "metadata": {
    "colab": {
     "base_uri": "https://localhost:8080/"
    },
    "id": "EdHm44M2GIpW",
    "outputId": "4862ec5e-3d00-489a-c825-e6faba9d409c"
   },
   "outputs": [
    {
     "data": {
      "text/plain": [
       "count    284807.000000\n",
       "mean          2.942089\n",
       "std           2.023685\n",
       "min          -6.907755\n",
       "25%           1.722945\n",
       "50%           3.091088\n",
       "75%           4.345959\n",
       "max          10.153902\n",
       "Name: Amount, dtype: float64"
      ]
     },
     "execution_count": 13,
     "metadata": {},
     "output_type": "execute_result"
    }
   ],
   "source": [
    "cleaned_df['Amount'].describe()"
   ]
  },
  {
   "cell_type": "markdown",
   "metadata": {
    "id": "PNahSRLoxeAx"
   },
   "source": [
    "- label data 작성"
   ]
  },
  {
   "cell_type": "code",
   "execution_count": 14,
   "metadata": {
    "colab": {
     "base_uri": "https://localhost:8080/"
    },
    "id": "4IEMWwojt3yO",
    "outputId": "b6e215d5-41d4-4c37-abf0-ea03b434b620"
   },
   "outputs": [
    {
     "data": {
      "text/plain": [
       "array([0, 0, 0, ..., 0, 0, 0])"
      ]
     },
     "execution_count": 14,
     "metadata": {},
     "output_type": "execute_result"
    }
   ],
   "source": [
    "labels = np.array(cleaned_df.pop('Class'))\n",
    "labels"
   ]
  },
  {
   "cell_type": "markdown",
   "metadata": {
    "id": "sRF5yi-xxjtc"
   },
   "source": [
    "- input data 작성"
   ]
  },
  {
   "cell_type": "code",
   "execution_count": 15,
   "metadata": {
    "colab": {
     "base_uri": "https://localhost:8080/"
    },
    "id": "_hqAVRiWt3yV",
    "outputId": "e4c50b0e-d92d-478e-adec-9be5da1dadfe"
   },
   "outputs": [
    {
     "data": {
      "text/plain": [
       "(284807, 30)"
      ]
     },
     "execution_count": 15,
     "metadata": {},
     "output_type": "execute_result"
    }
   ],
   "source": [
    "X = cleaned_df.values\n",
    "X.shape"
   ]
  },
  {
   "cell_type": "markdown",
   "metadata": {
    "id": "phza3y0DxrXv"
   },
   "source": [
    "- Class 분포 시각화"
   ]
  },
  {
   "cell_type": "code",
   "execution_count": 16,
   "metadata": {
    "colab": {
     "base_uri": "https://localhost:8080/",
     "height": 283
    },
    "id": "30uAMUAjxuR6",
    "outputId": "efa9b1a9-73ab-48cf-a37a-1dc55fd920ae"
   },
   "outputs": [
    {
     "data": {
      "text/plain": [
       "<matplotlib.axes._subplots.AxesSubplot at 0x7fef49d08310>"
      ]
     },
     "execution_count": 16,
     "metadata": {},
     "output_type": "execute_result"
    },
    {
     "data": {
      "image/png": "[encoded data removed]",
      "text/plain": [
       "<Figure size 432x288 with 1 Axes>"
      ]
     },
     "metadata": {
      "needs_background": "light"
     },
     "output_type": "display_data"
    }
   ],
   "source": [
    "sns.countplot(x=labels)"
   ]
  },
  {
   "cell_type": "markdown",
   "metadata": {
    "id": "YE82-HNex0Bv"
   },
   "source": [
    "label 1 의 비율"
   ]
  },
  {
   "cell_type": "code",
   "execution_count": 17,
   "metadata": {
    "colab": {
     "base_uri": "https://localhost:8080/"
    },
    "id": "ItKBV021x2Wm",
    "outputId": "a4a7c79e-882c-4608-bc7e-4187bfda2d44"
   },
   "outputs": [
    {
     "data": {
      "text/plain": [
       "0.001727485630620034"
      ]
     },
     "execution_count": 17,
     "metadata": {},
     "output_type": "execute_result"
    }
   ],
   "source": [
    "sum(labels == 1) / len(labels)"
   ]
  },
  {
   "cell_type": "markdown",
   "metadata": {
    "id": "tWKJ5MIhx6g2"
   },
   "source": [
    "dataset 을 Training 과 Test set 으로 분리"
   ]
  },
  {
   "cell_type": "code",
   "execution_count": 18,
   "metadata": {
    "colab": {
     "base_uri": "https://localhost:8080/"
    },
    "id": "RLiKtnt7t3ya",
    "outputId": "8da78a2f-80ad-4029-b41d-e490ae45ceec"
   },
   "outputs": [
    {
     "data": {
      "text/plain": [
       "((227845, 30), (56962, 30), (227845,), (56962,))"
      ]
     },
     "execution_count": 18,
     "metadata": {},
     "output_type": "execute_result"
    }
   ],
   "source": [
    "X_train, X_test, y_train, y_test = train_test_split(X, labels, \n",
    "                                        test_size=0.2, random_state=0)\n",
    "\n",
    "X_train.shape, X_test.shape, y_train.shape, y_test.shape"
   ]
  },
  {
   "cell_type": "markdown",
   "metadata": {
    "id": "vQoKR0viyEQT"
   },
   "source": [
    "- train, test 내의 class 분포가 원래의 분포와 유사함을 확인"
   ]
  },
  {
   "cell_type": "code",
   "execution_count": 19,
   "metadata": {
    "colab": {
     "base_uri": "https://localhost:8080/"
    },
    "id": "BB9u04SPyGgM",
    "outputId": "08ccf309-4acf-420c-fbaf-bb9cb3a38222"
   },
   "outputs": [
    {
     "data": {
      "text/plain": [
       "(Counter({0: 284315, 1: 492}),\n",
       " Counter({0: 227454, 1: 391}),\n",
       " Counter({0: 56861, 1: 101}))"
      ]
     },
     "execution_count": 19,
     "metadata": {},
     "output_type": "execute_result"
    }
   ],
   "source": [
    "Counter(labels), Counter(y_train), Counter(y_test)"
   ]
  },
  {
   "cell_type": "markdown",
   "metadata": {
    "id": "3awDKXA1yTde"
   },
   "source": [
    "### Feature Scaling"
   ]
  },
  {
   "cell_type": "code",
   "execution_count": 16,
   "metadata": {
    "id": "QwUNis6Zt3yc"
   },
   "outputs": [],
   "source": [
    "sc = StandardScaler()\n",
    "X_train = sc.fit_transform(X_train)\n",
    "X_test  = sc.transform(X_test)"
   ]
  },
  {
   "cell_type": "markdown",
   "metadata": {
    "id": "V7qJCSiht3yi"
   },
   "source": [
    "### metrics 정의\n",
    "\n",
    "- Accuracy 로 예측하면 항상 99.8%+ 정확성을 달성하므로, 다양한 metrics 활용하여 측정"
   ]
  },
  {
   "cell_type": "markdown",
   "metadata": {
    "id": "ejjpZM9Kt3ym"
   },
   "source": [
    "## Simple NN model 정의 - 이진 분류 모델"
   ]
  },
  {
   "cell_type": "code",
   "execution_count": 64,
   "metadata": {
    "id": "B0C59wlIp8lI"
   },
   "outputs": [],
   "source": [
    "METRICS = [\n",
    "      tf.keras.metrics.BinaryAccuracy(name='accuracy'),\n",
    "      tf.keras.metrics.Precision(name='precision'),\n",
    "      tf.keras.metrics.Recall(name='recall'),\n",
    "      tf.keras.metrics.AUC(name='auc'),\n",
    "]"
   ]
  },
  {
   "cell_type": "code",
   "execution_count": 65,
   "metadata": {
    "id": "IbbI4SZat3yn"
   },
   "outputs": [],
   "source": [
    "def make_model(metrics=METRICS):\n",
    "    \n",
    "    model = tf.keras.Sequential([\n",
    "      tf.keras.layers.Dense(32, activation='relu', \n",
    "                            input_shape=(X_train.shape[-1],)),\n",
    "      tf.keras.layers.Dropout(0.2),\n",
    "      tf.keras.layers.Dense(16, activation='relu'),\n",
    "      tf.keras.layers.Dropout(0.2),\n",
    "      tf.keras.layers.Dense(1, activation='sigmoid'),\n",
    "  ])\n",
    "\n",
    "    model.compile(\n",
    "      optimizer = tf.keras.optimizers.Adam(learning_rate=1e-3),\n",
    "      loss = 'binary_crossentropy',\n",
    "      metrics=metrics)\n",
    "\n",
    "    return model"
   ]
  },
  {
   "cell_type": "markdown",
   "metadata": {
    "id": "YuB7VrmAt3yr"
   },
   "source": [
    "## Baseline model build"
   ]
  },
  {
   "cell_type": "code",
   "execution_count": 66,
   "metadata": {
    "id": "gTRT9eKnt3ys"
   },
   "outputs": [],
   "source": [
    "EPOCHS = 100\n",
    "BATCH_SIZE = 2048\n",
    "\n",
    "early_stopping = tf.keras.callbacks.EarlyStopping(\n",
    "    monitor='val_auc', \n",
    "    verbose=1,\n",
    "    patience=10, # no of epochs of no improvement          \n",
    "    mode='max',  #val_auc 가 10 번 연속 증가 안하면 stop           \n",
    "    restore_best_weights=True)  # epoch 의 best weight 저장"
   ]
  },
  {
   "cell_type": "code",
   "execution_count": 67,
   "metadata": {
    "colab": {
     "base_uri": "https://localhost:8080/"
    },
    "id": "i3qmzy34t3yw",
    "outputId": "52ebd9ce-3459-4f2a-d761-fd3f1dfb18fa",
    "scrolled": true
   },
   "outputs": [
    {
     "name": "stdout",
     "output_type": "stream",
     "text": [
      "Model: \"sequential_8\"\n",
      "_________________________________________________________________\n",
      " Layer (type)                Output Shape              Param #   \n",
      "=================================================================\n",
      " dense_24 (Dense)            (None, 32)                992       \n",
      "                                                                 \n",
      " dropout_16 (Dropout)        (None, 32)                0         \n",
      "                                                                 \n",
      " dense_25 (Dense)            (None, 16)                528       \n",
      "                                                                 \n",
      " dropout_17 (Dropout)        (None, 16)                0         \n",
      "                                                                 \n",
      " dense_26 (Dense)            (None, 1)                 17        \n",
      "                                                                 \n",
      "=================================================================\n",
      "Total params: 1,537\n",
      "Trainable params: 1,537\n",
      "Non-trainable params: 0\n",
      "_________________________________________________________________\n"
     ]
    }
   ],
   "source": [
    "model = make_model()\n",
    "model.summary()"
   ]
  },
  {
   "cell_type": "markdown",
   "metadata": {
    "id": "B-Ftgdtct3zb"
   },
   "source": [
    "## Train the model"
   ]
  },
  {
   "cell_type": "code",
   "execution_count": 68,
   "metadata": {
    "colab": {
     "base_uri": "https://localhost:8080/"
    },
    "id": "qyxi6P6Pt3zd",
    "outputId": "400efb54-b148-49fc-fd27-0499f22d261b",
    "scrolled": true
   },
   "outputs": [
    {
     "name": "stdout",
     "output_type": "stream",
     "text": [
      "Epoch 1/100\n",
      "112/112 [==============================] - 2s 8ms/step - loss: 0.2688 - accuracy: 0.8827 - precision: 0.0031 - recall: 0.2072 - auc: 0.5663 - val_loss: 0.0102 - val_accuracy: 0.9985 - val_precision: 0.8148 - val_recall: 0.2178 - val_auc: 0.8476\n",
      "Epoch 2/100\n",
      "112/112 [==============================] - 1s 5ms/step - loss: 0.0152 - accuracy: 0.9983 - precision: 0.5124 - recall: 0.3171 - auc: 0.8313 - val_loss: 0.0061 - val_accuracy: 0.9990 - val_precision: 0.8525 - val_recall: 0.5149 - val_auc: 0.8816\n",
      "Epoch 3/100\n",
      "112/112 [==============================] - 0s 4ms/step - loss: 0.0085 - accuracy: 0.9989 - precision: 0.7713 - recall: 0.5090 - auc: 0.8736 - val_loss: 0.0054 - val_accuracy: 0.9991 - val_precision: 0.8696 - val_recall: 0.5941 - val_auc: 0.8943\n",
      "Epoch 4/100\n",
      "112/112 [==============================] - 1s 5ms/step - loss: 0.0065 - accuracy: 0.9991 - precision: 0.8308 - recall: 0.5652 - auc: 0.9074 - val_loss: 0.0049 - val_accuracy: 0.9992 - val_precision: 0.8718 - val_recall: 0.6733 - val_auc: 0.9246\n",
      "Epoch 5/100\n",
      "112/112 [==============================] - 1s 5ms/step - loss: 0.0059 - accuracy: 0.9991 - precision: 0.8249 - recall: 0.6266 - auc: 0.9086 - val_loss: 0.0047 - val_accuracy: 0.9992 - val_precision: 0.8625 - val_recall: 0.6832 - val_auc: 0.9250\n",
      "Epoch 6/100\n",
      "112/112 [==============================] - 1s 5ms/step - loss: 0.0057 - accuracy: 0.9992 - precision: 0.8173 - recall: 0.6522 - auc: 0.9105 - val_loss: 0.0044 - val_accuracy: 0.9993 - val_precision: 0.8659 - val_recall: 0.7030 - val_auc: 0.9251\n",
      "Epoch 7/100\n",
      "112/112 [==============================] - 1s 5ms/step - loss: 0.0055 - accuracy: 0.9991 - precision: 0.8221 - recall: 0.6266 - auc: 0.9164 - val_loss: 0.0042 - val_accuracy: 0.9993 - val_precision: 0.8690 - val_recall: 0.7228 - val_auc: 0.9251\n",
      "Epoch 8/100\n",
      "112/112 [==============================] - 1s 4ms/step - loss: 0.0050 - accuracy: 0.9992 - precision: 0.8269 - recall: 0.6598 - auc: 0.9151 - val_loss: 0.0041 - val_accuracy: 0.9994 - val_precision: 0.8721 - val_recall: 0.7426 - val_auc: 0.9252\n",
      "Epoch 9/100\n",
      "112/112 [==============================] - 1s 5ms/step - loss: 0.0051 - accuracy: 0.9992 - precision: 0.8354 - recall: 0.6880 - auc: 0.9204 - val_loss: 0.0039 - val_accuracy: 0.9994 - val_precision: 0.8750 - val_recall: 0.7624 - val_auc: 0.9252\n",
      "Epoch 10/100\n",
      "112/112 [==============================] - 1s 5ms/step - loss: 0.0047 - accuracy: 0.9992 - precision: 0.8428 - recall: 0.6854 - auc: 0.9269 - val_loss: 0.0039 - val_accuracy: 0.9994 - val_precision: 0.8750 - val_recall: 0.7624 - val_auc: 0.9253\n",
      "Epoch 11/100\n",
      "112/112 [==============================] - 1s 4ms/step - loss: 0.0046 - accuracy: 0.9993 - precision: 0.8359 - recall: 0.7033 - auc: 0.9312 - val_loss: 0.0038 - val_accuracy: 0.9994 - val_precision: 0.8791 - val_recall: 0.7921 - val_auc: 0.9204\n",
      "Epoch 12/100\n",
      "112/112 [==============================] - 1s 5ms/step - loss: 0.0046 - accuracy: 0.9993 - precision: 0.8549 - recall: 0.7084 - auc: 0.9233 - val_loss: 0.0037 - val_accuracy: 0.9995 - val_precision: 0.8804 - val_recall: 0.8020 - val_auc: 0.9254\n",
      "Epoch 13/100\n",
      "112/112 [==============================] - 1s 5ms/step - loss: 0.0043 - accuracy: 0.9992 - precision: 0.8198 - recall: 0.6982 - auc: 0.9300 - val_loss: 0.0038 - val_accuracy: 0.9994 - val_precision: 0.8791 - val_recall: 0.7921 - val_auc: 0.9304\n",
      "Epoch 14/100\n",
      "112/112 [==============================] - 1s 5ms/step - loss: 0.0044 - accuracy: 0.9992 - precision: 0.8212 - recall: 0.6931 - auc: 0.9339 - val_loss: 0.0037 - val_accuracy: 0.9994 - val_precision: 0.8696 - val_recall: 0.7921 - val_auc: 0.9304\n",
      "Epoch 15/100\n",
      "112/112 [==============================] - 1s 5ms/step - loss: 0.0041 - accuracy: 0.9993 - precision: 0.8378 - recall: 0.7136 - auc: 0.9328 - val_loss: 0.0036 - val_accuracy: 0.9994 - val_precision: 0.8696 - val_recall: 0.7921 - val_auc: 0.9353\n",
      "Epoch 16/100\n",
      "112/112 [==============================] - 1s 4ms/step - loss: 0.0039 - accuracy: 0.9993 - precision: 0.8416 - recall: 0.7340 - auc: 0.9380 - val_loss: 0.0037 - val_accuracy: 0.9994 - val_precision: 0.8696 - val_recall: 0.7921 - val_auc: 0.9354\n",
      "Epoch 17/100\n",
      "112/112 [==============================] - 1s 5ms/step - loss: 0.0039 - accuracy: 0.9993 - precision: 0.8464 - recall: 0.7468 - auc: 0.9382 - val_loss: 0.0035 - val_accuracy: 0.9994 - val_precision: 0.8710 - val_recall: 0.8020 - val_auc: 0.9403\n",
      "Epoch 18/100\n",
      "112/112 [==============================] - 1s 4ms/step - loss: 0.0038 - accuracy: 0.9993 - precision: 0.8386 - recall: 0.7442 - auc: 0.9381 - val_loss: 0.0034 - val_accuracy: 0.9994 - val_precision: 0.8710 - val_recall: 0.8020 - val_auc: 0.9452\n",
      "Epoch 19/100\n",
      "112/112 [==============================] - 1s 5ms/step - loss: 0.0040 - accuracy: 0.9993 - precision: 0.8554 - recall: 0.7263 - auc: 0.9343 - val_loss: 0.0034 - val_accuracy: 0.9994 - val_precision: 0.8632 - val_recall: 0.8119 - val_auc: 0.9403\n",
      "Epoch 20/100\n",
      "112/112 [==============================] - 1s 4ms/step - loss: 0.0037 - accuracy: 0.9993 - precision: 0.8429 - recall: 0.7545 - auc: 0.9448 - val_loss: 0.0033 - val_accuracy: 0.9994 - val_precision: 0.8632 - val_recall: 0.8119 - val_auc: 0.9403\n",
      "Epoch 21/100\n",
      "112/112 [==============================] - 1s 4ms/step - loss: 0.0036 - accuracy: 0.9993 - precision: 0.8453 - recall: 0.7545 - auc: 0.9472 - val_loss: 0.0033 - val_accuracy: 0.9994 - val_precision: 0.8632 - val_recall: 0.8119 - val_auc: 0.9452\n",
      "Epoch 22/100\n",
      "112/112 [==============================] - 1s 5ms/step - loss: 0.0037 - accuracy: 0.9993 - precision: 0.8319 - recall: 0.7340 - auc: 0.9421 - val_loss: 0.0033 - val_accuracy: 0.9995 - val_precision: 0.8723 - val_recall: 0.8119 - val_auc: 0.9403\n",
      "Epoch 23/100\n",
      "112/112 [==============================] - 0s 4ms/step - loss: 0.0034 - accuracy: 0.9994 - precision: 0.8642 - recall: 0.7647 - auc: 0.9475 - val_loss: 0.0033 - val_accuracy: 0.9995 - val_precision: 0.8723 - val_recall: 0.8119 - val_auc: 0.9453\n",
      "Epoch 24/100\n",
      "112/112 [==============================] - 1s 5ms/step - loss: 0.0034 - accuracy: 0.9994 - precision: 0.8596 - recall: 0.7673 - auc: 0.9501 - val_loss: 0.0033 - val_accuracy: 0.9994 - val_precision: 0.8632 - val_recall: 0.8119 - val_auc: 0.9403\n",
      "Epoch 25/100\n",
      "112/112 [==============================] - 1s 5ms/step - loss: 0.0037 - accuracy: 0.9993 - precision: 0.8329 - recall: 0.7519 - auc: 0.9397 - val_loss: 0.0032 - val_accuracy: 0.9994 - val_precision: 0.8542 - val_recall: 0.8119 - val_auc: 0.9453\n",
      "Epoch 26/100\n",
      "112/112 [==============================] - 0s 4ms/step - loss: 0.0034 - accuracy: 0.9994 - precision: 0.8462 - recall: 0.7596 - auc: 0.9500 - val_loss: 0.0032 - val_accuracy: 0.9994 - val_precision: 0.8632 - val_recall: 0.8119 - val_auc: 0.9404\n",
      "Epoch 27/100\n",
      "112/112 [==============================] - 1s 5ms/step - loss: 0.0033 - accuracy: 0.9994 - precision: 0.8651 - recall: 0.7545 - auc: 0.9502 - val_loss: 0.0031 - val_accuracy: 0.9994 - val_precision: 0.8542 - val_recall: 0.8119 - val_auc: 0.9452\n",
      "Epoch 28/100\n",
      "112/112 [==============================] - 0s 4ms/step - loss: 0.0033 - accuracy: 0.9994 - precision: 0.8436 - recall: 0.7724 - auc: 0.9462 - val_loss: 0.0031 - val_accuracy: 0.9995 - val_precision: 0.8723 - val_recall: 0.8119 - val_auc: 0.9453\n",
      "Epoch 29/100\n",
      "112/112 [==============================] - 1s 5ms/step - loss: 0.0034 - accuracy: 0.9994 - precision: 0.8483 - recall: 0.7724 - auc: 0.9449 - val_loss: 0.0031 - val_accuracy: 0.9994 - val_precision: 0.8632 - val_recall: 0.8119 - val_auc: 0.9453\n",
      "Epoch 30/100\n",
      "112/112 [==============================] - 1s 5ms/step - loss: 0.0033 - accuracy: 0.9994 - precision: 0.8563 - recall: 0.7621 - auc: 0.9540 - val_loss: 0.0032 - val_accuracy: 0.9994 - val_precision: 0.8542 - val_recall: 0.8119 - val_auc: 0.9453\n",
      "Epoch 31/100\n",
      "112/112 [==============================] - 0s 4ms/step - loss: 0.0031 - accuracy: 0.9994 - precision: 0.8455 - recall: 0.7698 - auc: 0.9542 - val_loss: 0.0032 - val_accuracy: 0.9994 - val_precision: 0.8542 - val_recall: 0.8119 - val_auc: 0.9453\n",
      "Epoch 32/100\n",
      "112/112 [==============================] - 1s 5ms/step - loss: 0.0033 - accuracy: 0.9994 - precision: 0.8563 - recall: 0.7621 - auc: 0.9502 - val_loss: 0.0032 - val_accuracy: 0.9994 - val_precision: 0.8454 - val_recall: 0.8119 - val_auc: 0.9453\n",
      "Epoch 33/100\n",
      "112/112 [==============================] - 1s 5ms/step - loss: 0.0032 - accuracy: 0.9994 - precision: 0.8571 - recall: 0.7826 - auc: 0.9477 - val_loss: 0.0031 - val_accuracy: 0.9994 - val_precision: 0.8454 - val_recall: 0.8119 - val_auc: 0.9453\n",
      "Epoch 34/100\n",
      "112/112 [==============================] - 1s 4ms/step - loss: 0.0033 - accuracy: 0.9994 - precision: 0.8470 - recall: 0.7647 - auc: 0.9490 - val_loss: 0.0031 - val_accuracy: 0.9994 - val_precision: 0.8454 - val_recall: 0.8119 - val_auc: 0.9453\n",
      "Epoch 35/100\n",
      "112/112 [==============================] - ETA: 0s - loss: 0.0031 - accuracy: 0.9994 - precision: 0.8619 - recall: 0.7980 - auc: 0.9516Restoring model weights from the end of the best epoch: 25.\n",
      "112/112 [==============================] - 1s 5ms/step - loss: 0.0031 - accuracy: 0.9994 - precision: 0.8619 - recall: 0.7980 - auc: 0.9516 - val_loss: 0.0032 - val_accuracy: 0.9994 - val_precision: 0.8454 - val_recall: 0.8119 - val_auc: 0.9354\n",
      "Epoch 00035: early stopping\n"
     ]
    }
   ],
   "source": [
    "model = make_model()\n",
    "baseline_history = model.fit(X_train, y_train, batch_size=BATCH_SIZE,\n",
    "                             epochs=EPOCHS, \n",
    "                             callbacks=[early_stopping],\n",
    "                             validation_data=(X_test, y_test))"
   ]
  },
  {
   "cell_type": "code",
   "execution_count": 69,
   "metadata": {
    "colab": {
     "base_uri": "https://localhost:8080/"
    },
    "id": "7X3VrwhFvgsK",
    "outputId": "0284d556-4be4-4d74-f4ca-190c9a3975b8"
   },
   "outputs": [
    {
     "data": {
      "text/plain": [
       "0.9994031190872192"
      ]
     },
     "execution_count": 69,
     "metadata": {},
     "output_type": "execute_result"
    }
   ],
   "source": [
    "baseline_history.history['val_accuracy'][-1]"
   ]
  },
  {
   "cell_type": "markdown",
   "metadata": {
    "id": "EEf7OlXQt3zf"
   },
   "source": [
    "## Plot trainig history"
   ]
  },
  {
   "cell_type": "code",
   "execution_count": 70,
   "metadata": {
    "id": "OnYt_2T3t3zg"
   },
   "outputs": [],
   "source": [
    "def plot_metrics(history):\n",
    "    metrics = ['loss', 'accuracy', 'precision', 'recall']\n",
    "    \n",
    "    plt.figure(figsize=(12, 8))\n",
    "    for i, metric in enumerate(metrics):\n",
    "        name = metric.capitalize()\n",
    "        plt.subplot(2, 2, i+1)\n",
    "        plt.plot(history.history[metric], label='Train')\n",
    "        plt.plot(history.history['val_' + metric], label='Val')\n",
    "        plt.title(metric)\n",
    "        plt.xlabel('Epoch')\n",
    "        plt.ylabel(name)\n",
    "        plt.legend()\n",
    "    plt.tight_layout()"
   ]
  },
  {
   "cell_type": "code",
   "execution_count": 71,
   "metadata": {
    "colab": {
     "base_uri": "https://localhost:8080/",
     "height": 585
    },
    "id": "8H3Omag9t3zj",
    "outputId": "4b71c612-ce6c-443a-8e6b-efc54eac7348"
   },
   "outputs": [
    {
     "data": {
      "image/png": "[encoded data removed]",
      "text/plain": [
       "<Figure size 864x576 with 4 Axes>"
      ]
     },
     "metadata": {
      "needs_background": "light"
     },
     "output_type": "display_data"
    }
   ],
   "source": [
    "plot_metrics(baseline_history)"
   ]
  },
  {
   "cell_type": "markdown",
   "metadata": {
    "id": "PROwAK95t3zl"
   },
   "source": [
    "## Evaluate Metric\n",
    "\n",
    "- confusion matrix 를 이용하여 metrics 요약"
   ]
  },
  {
   "cell_type": "code",
   "execution_count": 72,
   "metadata": {
    "colab": {
     "base_uri": "https://localhost:8080/"
    },
    "id": "ZSXfIygjGIpe",
    "outputId": "93d9c49b-b878-4743-e702-a23b47f428c7"
   },
   "outputs": [
    {
     "data": {
      "text/plain": [
       "(56962, 1)"
      ]
     },
     "execution_count": 72,
     "metadata": {},
     "output_type": "execute_result"
    }
   ],
   "source": [
    "predictions_baseline  = model.predict(X_test, batch_size=BATCH_SIZE)\n",
    "\n",
    "predictions_baseline.shape"
   ]
  },
  {
   "cell_type": "code",
   "execution_count": 73,
   "metadata": {
    "id": "GKBFC56Nt3zq"
   },
   "outputs": [],
   "source": [
    "def plot_cm(labels, pred_proba, threshold=0.5):\n",
    "    \n",
    "    y_predict = pred_proba > threshold\n",
    "    \n",
    "    cm = confusion_matrix(y_test, y_predict)\n",
    "    \n",
    "    print(\"confution matrix\\n\", cm)\n",
    "    print()\n",
    "    print(\"f1 score\\n\", f1_score(y_test, y_predict))\n",
    "    print()\n",
    "    print(\"Accuracy: {:.5f}\".format(accuracy_score(y_test, y_predict)))\n",
    "    print(\"Precision: {:.5f}\".format(precision_score(y_test, y_predict)))\n",
    "    print(\"Recall: {:.5f}\".format(recall_score(y_test, y_predict)))\n",
    "    \n",
    "    plt.figure(figsize=(5,5))\n",
    "\n",
    "    sns.heatmap(cm, annot=True, fmt=\"d\")\n",
    "    plt.title('Confusion matrix @>{:.2f} '.format(threshold))\n",
    "    plt.ylabel('Actual label')\n",
    "    plt.xlabel('Predicted label')"
   ]
  },
  {
   "cell_type": "markdown",
   "metadata": {
    "id": "LWD-EIM7t3zt"
   },
   "source": [
    "### Test dataset 으로 evaluate 하고, confusion matrix 를 그린다"
   ]
  },
  {
   "cell_type": "code",
   "execution_count": 74,
   "metadata": {
    "colab": {
     "base_uri": "https://localhost:8080/",
     "height": 524
    },
    "id": "Y3nVjXCUt3zu",
    "outputId": "ed4b41ea-b371-4d60-e187-633f0672fdcb"
   },
   "outputs": [
    {
     "name": "stdout",
     "output_type": "stream",
     "text": [
      "confution matrix\n",
      " [[56847    14]\n",
      " [   19    82]]\n",
      "\n",
      "f1 score\n",
      " 0.83248730964467\n",
      "\n",
      "Accuracy: 0.99942\n",
      "Precision: 0.85417\n",
      "Recall: 0.81188\n"
     ]
    },
    {
     "data": {
      "image/png": "[encoded data removed]",
      "text/plain": [
       "<Figure size 360x360 with 2 Axes>"
      ]
     },
     "metadata": {
      "needs_background": "light"
     },
     "output_type": "display_data"
    }
   ],
   "source": [
    "plot_cm(y_test, predictions_baseline, threshold=0.5)"
   ]
  },
  {
   "cell_type": "markdown",
   "metadata": {
    "id": "AUmSfpyzl0m1"
   },
   "source": [
    "## 방법1 - minority class를 Oversample 하고 majority class를 Undersample\n",
    "\n",
    "- Over/Under Sampling 기법으로 minority data 의 수를 증가시켜 새로이 fitting"
   ]
  },
  {
   "cell_type": "code",
   "execution_count": 75,
   "metadata": {
    "id": "fo2eBywXl6VU"
   },
   "outputs": [],
   "source": [
    "from imblearn.over_sampling import RandomOverSampler\n",
    "from imblearn.under_sampling import RandomUnderSampler"
   ]
  },
  {
   "cell_type": "markdown",
   "metadata": {
    "id": "vWQJN7nAl-Tw"
   },
   "source": [
    "RandomOverSampler(sampling_strategy=0.1)\n",
    "\n",
    "- 리샘플링 후 다수 클래스의 샘플 수에 대한 소수 클래스의 샘플 수의 원하는 비율  "
   ]
  },
  {
   "cell_type": "code",
   "execution_count": 76,
   "metadata": {
    "colab": {
     "base_uri": "https://localhost:8080/"
    },
    "id": "9Xj0Nxy8l6Sz",
    "outputId": "85a2e316-7b84-40e1-8ce8-65aa64129521"
   },
   "outputs": [
    {
     "data": {
      "text/plain": [
       "((250199, 30), (250199,), Counter({0: 227454, 1: 22745}))"
      ]
     },
     "execution_count": 76,
     "metadata": {},
     "output_type": "execute_result"
    }
   ],
   "source": [
    "over = RandomOverSampler(sampling_strategy=0.1)\n",
    "X, y = over.fit_resample(X_train, y_train)\n",
    "X.shape, y.shape, Counter(y)"
   ]
  },
  {
   "cell_type": "markdown",
   "metadata": {
    "id": "ZmP271v2mFuV"
   },
   "source": [
    "RandomUnderSampler(sampling_strategy=0.5)\n",
    "\n",
    "- 리샘플링 후 다수 클래스의 샘플 수에 대한 소수 클래스의 샘플 수의 원하는 비율"
   ]
  },
  {
   "cell_type": "code",
   "execution_count": 77,
   "metadata": {
    "colab": {
     "base_uri": "https://localhost:8080/"
    },
    "id": "SlHd7N1Cl6Mr",
    "outputId": "4595692d-7a75-40e8-ffab-4ea2362bcbe2"
   },
   "outputs": [
    {
     "data": {
      "text/plain": [
       "((68235, 30), (68235,), Counter({0: 45490, 1: 22745}))"
      ]
     },
     "execution_count": 77,
     "metadata": {},
     "output_type": "execute_result"
    }
   ],
   "source": [
    "under = RandomUnderSampler(sampling_strategy=0.5)\n",
    "X, y = under.fit_resample(X, y)\n",
    "X.shape, y.shape, Counter(y)"
   ]
  },
  {
   "cell_type": "code",
   "execution_count": 78,
   "metadata": {
    "colab": {
     "base_uri": "https://localhost:8080/",
     "height": 283
    },
    "id": "E9xik1sbmNWi",
    "outputId": "94d64bb8-a56c-4ff4-aceb-304d29c4e6f8"
   },
   "outputs": [
    {
     "data": {
      "text/plain": [
       "<matplotlib.axes._subplots.AxesSubplot at 0x7feea72da090>"
      ]
     },
     "execution_count": 78,
     "metadata": {},
     "output_type": "execute_result"
    },
    {
     "data": {
      "image/png": "[encoded data removed]",
      "text/plain": [
       "<Figure size 432x288 with 1 Axes>"
      ]
     },
     "metadata": {
      "needs_background": "light"
     },
     "output_type": "display_data"
    }
   ],
   "source": [
    "sns.countplot(x=y)"
   ]
  },
  {
   "cell_type": "markdown",
   "metadata": {
    "id": "soHwmUzmmSNV"
   },
   "source": [
    "### 2:1%로 resampling된 dataset 에 대해 new model 을 fitting"
   ]
  },
  {
   "cell_type": "code",
   "execution_count": 79,
   "metadata": {
    "colab": {
     "base_uri": "https://localhost:8080/"
    },
    "id": "R-UFAIOFmUlL",
    "outputId": "fe0cadcc-a0b7-46b3-eed1-4f09174a6988"
   },
   "outputs": [
    {
     "name": "stdout",
     "output_type": "stream",
     "text": [
      "Epoch 1/100\n",
      "27/27 [==============================] - 1s 20ms/step - loss: 0.8007 - accuracy: 0.7916 - precision: 0.2500 - recall: 0.7632 - auc: 0.8836 - val_loss: 0.4222 - val_accuracy: 0.7953 - val_precision: 1.0000 - val_recall: 0.7953 - val_auc: 0.0000e+00\n",
      "Epoch 2/100\n",
      "27/27 [==============================] - 0s 5ms/step - loss: 0.2769 - accuracy: 0.9138 - precision: 0.7493 - recall: 0.7258 - auc: 0.8983 - val_loss: 0.5569 - val_accuracy: 0.8016 - val_precision: 1.0000 - val_recall: 0.8016 - val_auc: 0.0000e+00\n",
      "Epoch 3/100\n",
      "27/27 [==============================] - 0s 5ms/step - loss: 0.1788 - accuracy: 0.9519 - precision: 0.9258 - recall: 0.7736 - auc: 0.9364 - val_loss: 0.5393 - val_accuracy: 0.8358 - val_precision: 1.0000 - val_recall: 0.8358 - val_auc: 0.0000e+00\n",
      "Epoch 4/100\n",
      "27/27 [==============================] - 0s 5ms/step - loss: 0.1520 - accuracy: 0.9590 - precision: 0.9324 - recall: 0.8129 - auc: 0.9501 - val_loss: 0.5034 - val_accuracy: 0.8405 - val_precision: 1.0000 - val_recall: 0.8405 - val_auc: 0.0000e+00\n",
      "Epoch 5/100\n",
      "27/27 [==============================] - 0s 5ms/step - loss: 0.1391 - accuracy: 0.9639 - precision: 0.9426 - recall: 0.8341 - auc: 0.9550 - val_loss: 0.4686 - val_accuracy: 0.8521 - val_precision: 1.0000 - val_recall: 0.8521 - val_auc: 0.0000e+00\n",
      "Epoch 6/100\n",
      "27/27 [==============================] - 0s 5ms/step - loss: 0.1286 - accuracy: 0.9660 - precision: 0.9439 - recall: 0.8463 - auc: 0.9608 - val_loss: 0.4430 - val_accuracy: 0.8653 - val_precision: 1.0000 - val_recall: 0.8653 - val_auc: 0.0000e+00\n",
      "Epoch 7/100\n",
      "27/27 [==============================] - 0s 5ms/step - loss: 0.1218 - accuracy: 0.9674 - precision: 0.9505 - recall: 0.8484 - auc: 0.9645 - val_loss: 0.4284 - val_accuracy: 0.8673 - val_precision: 1.0000 - val_recall: 0.8673 - val_auc: 0.0000e+00\n",
      "Epoch 8/100\n",
      "27/27 [==============================] - 0s 5ms/step - loss: 0.1155 - accuracy: 0.9686 - precision: 0.9540 - recall: 0.8528 - auc: 0.9674 - val_loss: 0.4021 - val_accuracy: 0.8774 - val_precision: 1.0000 - val_recall: 0.8774 - val_auc: 0.0000e+00\n",
      "Epoch 9/100\n",
      "27/27 [==============================] - 0s 5ms/step - loss: 0.1109 - accuracy: 0.9692 - precision: 0.9534 - recall: 0.8573 - auc: 0.9705 - val_loss: 0.3809 - val_accuracy: 0.8774 - val_precision: 1.0000 - val_recall: 0.8774 - val_auc: 0.0000e+00\n",
      "Epoch 10/100\n",
      "27/27 [==============================] - 0s 5ms/step - loss: 0.1059 - accuracy: 0.9706 - precision: 0.9565 - recall: 0.8626 - auc: 0.9732 - val_loss: 0.3753 - val_accuracy: 0.8774 - val_precision: 1.0000 - val_recall: 0.8774 - val_auc: 0.0000e+00\n",
      "Epoch 11/100\n",
      "14/27 [==============>...............] - ETA: 0s - loss: 0.1017 - accuracy: 0.9712 - precision: 0.9603 - recall: 0.8642 - auc: 0.9749Restoring model weights from the end of the best epoch: 1.\n",
      "27/27 [==============================] - 0s 5ms/step - loss: 0.1007 - accuracy: 0.9716 - precision: 0.9605 - recall: 0.8654 - auc: 0.9759 - val_loss: 0.3631 - val_accuracy: 0.8774 - val_precision: 1.0000 - val_recall: 0.8774 - val_auc: 0.0000e+00\n",
      "Epoch 00011: early stopping\n"
     ]
    }
   ],
   "source": [
    "resampled_model = make_model()\n",
    "\n",
    "resampled_history = resampled_model.fit(X, y, batch_size=BATCH_SIZE,\n",
    "                             epochs=EPOCHS, \n",
    "                             callbacks=[early_stopping],\n",
    "                             validation_split=0.2)"
   ]
  },
  {
   "cell_type": "code",
   "execution_count": 80,
   "metadata": {
    "colab": {
     "base_uri": "https://localhost:8080/",
     "height": 585
    },
    "id": "sj3KWYG9nFvf",
    "outputId": "0b78dc12-a9b0-418b-f7f1-e285b71e2abd"
   },
   "outputs": [
    {
     "data": {
      "image/png": "[encoded data removed]",
      "text/plain": [
       "<Figure size 864x576 with 4 Axes>"
      ]
     },
     "metadata": {
      "needs_background": "light"
     },
     "output_type": "display_data"
    }
   ],
   "source": [
    "plot_metrics(resampled_history)"
   ]
  },
  {
   "cell_type": "code",
   "execution_count": 82,
   "metadata": {
    "colab": {
     "base_uri": "https://localhost:8080/",
     "height": 524
    },
    "id": "k4Najc5RnFsI",
    "outputId": "380a28d9-b87c-4333-aea9-ce4aa7c17c0a"
   },
   "outputs": [
    {
     "name": "stdout",
     "output_type": "stream",
     "text": [
      "confution matrix\n",
      " [[55405  1456]\n",
      " [   18    83]]\n",
      "\n",
      "f1 score\n",
      " 0.10121951219512194\n",
      "\n",
      "Accuracy: 0.97412\n",
      "Precision: 0.05393\n",
      "Recall: 0.82178\n"
     ]
    },
    {
     "data": {
      "image/png": "[encoded data removed]",
      "text/plain": [
       "<Figure size 360x360 with 2 Axes>"
      ]
     },
     "metadata": {
      "needs_background": "light"
     },
     "output_type": "display_data"
    }
   ],
   "source": [
    "predictions_resampled = resampled_model.predict(X_test, batch_size=BATCH_SIZE)\n",
    "\n",
    "plot_cm(y_test, predictions_resampled, threshold=0.5)"
   ]
  },
  {
   "cell_type": "markdown",
   "metadata": {
    "id": "8F2krKGSt3zx"
   },
   "source": [
    "## Plot ROC"
   ]
  },
  {
   "cell_type": "code",
   "execution_count": 84,
   "metadata": {
    "id": "gAeL0U1et3zy"
   },
   "outputs": [],
   "source": [
    "def plot_roc(name, labels, predictions, **kwargs):\n",
    "    \n",
    "    fp, tp, _ = roc_curve(labels, predictions)\n",
    "    auc = roc_auc_score(y_test, predictions)\n",
    "    \n",
    "    plt.plot(100*fp, 100*tp, label=f\"auc of {name}={auc:.5f}\", linewidth=2, **kwargs)\n",
    "    plt.xlabel('FP [%]')\n",
    "    plt.ylabel('TP [%]')\n",
    "    plt.xlim([-0.5,20])\n",
    "    plt.ylim([80,100.5])\n",
    "    plt.grid(True)\n",
    "    ax = plt.gca()\n",
    "    ax.set_aspect('equal')\n",
    "    fig = plt.gcf()\n",
    "    fig.set_size_inches(8, 6)"
   ]
  },
  {
   "cell_type": "code",
   "execution_count": 85,
   "metadata": {
    "colab": {
     "base_uri": "https://localhost:8080/",
     "height": 405
    },
    "id": "_-fDmxMTt3z0",
    "outputId": "f2f7761a-7f3d-402a-8c92-c62fbe9008cf"
   },
   "outputs": [
    {
     "data": {
      "text/plain": [
       "<matplotlib.legend.Legend at 0x7fef3036ab50>"
      ]
     },
     "execution_count": 85,
     "metadata": {},
     "output_type": "execute_result"
    },
    {
     "data": {
      "image/png": "[encoded data removed]",
      "text/plain": [
       "<Figure size 576x432 with 1 Axes>"
      ]
     },
     "metadata": {
      "needs_background": "light"
     },
     "output_type": "display_data"
    }
   ],
   "source": [
    "plot_roc(\"Test Baseline\", y_test, predictions_baseline, color='blue', linestyle='--')\n",
    "plot_roc(\"Test Resampled\", y_test, predictions_resampled, color='red', linestyle='--')\n",
    "plt.legend(loc='lower right')"
   ]
  },
  {
   "cell_type": "markdown",
   "metadata": {
    "id": "_d83CAb9t3z5"
   },
   "source": [
    "리콜 및 ROC 곡선 아래 면적 (AUC)은 원하는만큼 높지 않습니다. 분류기는 종종 정밀도와 재현율을 모두 극대화하려고 할 때 어려움에 직면합니다. 특히 불균형 데이터 세트로 작업 할 때는 더욱 그렇습니다. "
   ]
  },
  {
   "cell_type": "markdown",
   "metadata": {
    "id": "-P-iJJ1pt3z5"
   },
   "source": [
    "## 방법 2 - Class Weight 조정\n",
    "\n",
    "사용할 positive 샘플이 많지 않기 때문에 가용한 적은 수의 sample 에 classifier 가 더 비중을 두도록 할 수 있다. \n",
    "\n",
    "step1 - 레이블 및 관련 가중치로 dictionary 정의 \n",
    "```\n",
    "class_weight = {0: 1.,\n",
    "                1: 50.,\n",
    "                2: 2.}\n",
    "```                \n",
    "step2 - dictionary를 매개 변수로 공급:  \n",
    "```\n",
    "    model.fit(X_train, Y_train, nb_epoch=5, batch_size=32, class_weight=class_weight)\n",
    "```\n",
    "\n",
    "- class 1 하나를 50 개의 classs 0 로 취급 $\\rightarrow$ loss function 계산 시 class_weight 에 지정된 대로 가중 평균"
   ]
  },
  {
   "cell_type": "code",
   "execution_count": 86,
   "metadata": {
    "colab": {
     "base_uri": "https://localhost:8080/"
    },
    "id": "RXUhBTqWvgsM",
    "outputId": "7e65e4bd-8cac-46e1-dfd0-0b8917a967ab"
   },
   "outputs": [
    {
     "data": {
      "text/plain": [
       "(284315, 492, 284807)"
      ]
     },
     "execution_count": 86,
     "metadata": {},
     "output_type": "execute_result"
    }
   ],
   "source": [
    "normal, fraud, total"
   ]
  },
  {
   "cell_type": "code",
   "execution_count": 87,
   "metadata": {
    "colab": {
     "base_uri": "https://localhost:8080/"
    },
    "id": "8VevE6hHt3z6",
    "outputId": "4fe33a6b-79d2-47cf-e961-c8a488ffec1e"
   },
   "outputs": [
    {
     "name": "stdout",
     "output_type": "stream",
     "text": [
      "Weight for class 0: 0.50\n",
      "Weight for class 1: 289.44\n"
     ]
    }
   ],
   "source": [
    "# total/2 로 scale 하면 loss를 비슷한 크기로 유지하는 데 도움이됩니다.\n",
    "# 모든 example의 가중치 합계는 동일하게 유지됩니다.\n",
    "\n",
    "weight_for_0 = (1 / normal)*(total) / 2.0 \n",
    "weight_for_1 = (1 / fraud)*(total) / 2.0\n",
    "\n",
    "class_weight = {0: weight_for_0, 1: weight_for_1}\n",
    "\n",
    "print('Weight for class 0: {:.2f}'.format(weight_for_0))\n",
    "print('Weight for class 1: {:.2f}'.format(weight_for_1))"
   ]
  },
  {
   "cell_type": "markdown",
   "metadata": {
    "id": "_p87Ma2CvgsM"
   },
   "source": [
    "class_weight  \n",
    "\n",
    "    학습 클래스의 샘플에 대한 모델 손실에 적용할 가중치에 대한 사전 매핑 클래스 인덱스(정수). 이는 모델이 과소 표현된 클래스의 샘플에 \"더 많은주의를 기울이도록\"지시하는 데 유용."
   ]
  },
  {
   "cell_type": "code",
   "execution_count": 88,
   "metadata": {
    "colab": {
     "base_uri": "https://localhost:8080/"
    },
    "id": "Am_veDXSt3z9",
    "outputId": "57976b13-ec54-4c8d-94ce-3ed9fbc3fab0",
    "scrolled": true
   },
   "outputs": [
    {
     "name": "stdout",
     "output_type": "stream",
     "text": [
      "Epoch 1/100\n",
      "112/112 [==============================] - 2s 8ms/step - loss: 0.7263 - accuracy: 0.5962 - precision: 0.1137 - recall: 0.8754 - auc: 0.8623 - val_loss: 0.2260 - val_accuracy: 0.9812 - val_precision: 0.0754 - val_recall: 0.8515 - val_auc: 0.9503\n",
      "Epoch 2/100\n",
      "112/112 [==============================] - 1s 5ms/step - loss: 0.2949 - accuracy: 0.9234 - precision: 0.0185 - recall: 0.8389 - auc: 0.9385 - val_loss: 0.1202 - val_accuracy: 0.9856 - val_precision: 0.0990 - val_recall: 0.8812 - val_auc: 0.9597\n",
      "Epoch 3/100\n",
      "112/112 [==============================] - 1s 5ms/step - loss: 0.2374 - accuracy: 0.9602 - precision: 0.0360 - recall: 0.8619 - auc: 0.9559 - val_loss: 0.1726 - val_accuracy: 0.9691 - val_precision: 0.0499 - val_recall: 0.9109 - val_auc: 0.9642\n",
      "Epoch 4/100\n",
      "112/112 [==============================] - 1s 5ms/step - loss: 0.2352 - accuracy: 0.9521 - precision: 0.0306 - recall: 0.8772 - auc: 0.9553 - val_loss: 0.1344 - val_accuracy: 0.9747 - val_precision: 0.0604 - val_recall: 0.9109 - val_auc: 0.9678\n",
      "Epoch 5/100\n",
      "112/112 [==============================] - 1s 5ms/step - loss: 0.1948 - accuracy: 0.9603 - precision: 0.0377 - recall: 0.9028 - auc: 0.9691 - val_loss: 0.1059 - val_accuracy: 0.9813 - val_precision: 0.0795 - val_recall: 0.9010 - val_auc: 0.9702\n",
      "Epoch 6/100\n",
      "112/112 [==============================] - 1s 5ms/step - loss: 0.1905 - accuracy: 0.9631 - precision: 0.0405 - recall: 0.9054 - auc: 0.9704 - val_loss: 0.1050 - val_accuracy: 0.9811 - val_precision: 0.0787 - val_recall: 0.9010 - val_auc: 0.9729\n",
      "Epoch 7/100\n",
      "112/112 [==============================] - 1s 5ms/step - loss: 0.1911 - accuracy: 0.9672 - precision: 0.0447 - recall: 0.8900 - auc: 0.9709 - val_loss: 0.1157 - val_accuracy: 0.9759 - val_precision: 0.0631 - val_recall: 0.9109 - val_auc: 0.9738\n",
      "Epoch 8/100\n",
      "112/112 [==============================] - 1s 5ms/step - loss: 0.1843 - accuracy: 0.9621 - precision: 0.0398 - recall: 0.9105 - auc: 0.9712 - val_loss: 0.1283 - val_accuracy: 0.9758 - val_precision: 0.0628 - val_recall: 0.9109 - val_auc: 0.9760\n",
      "Epoch 9/100\n",
      "112/112 [==============================] - 1s 5ms/step - loss: 0.1826 - accuracy: 0.9611 - precision: 0.0382 - recall: 0.8951 - auc: 0.9735 - val_loss: 0.1502 - val_accuracy: 0.9688 - val_precision: 0.0513 - val_recall: 0.9505 - val_auc: 0.9796\n",
      "Epoch 10/100\n",
      "112/112 [==============================] - 1s 5ms/step - loss: 0.1766 - accuracy: 0.9630 - precision: 0.0404 - recall: 0.9028 - auc: 0.9748 - val_loss: 0.1328 - val_accuracy: 0.9734 - val_precision: 0.0591 - val_recall: 0.9406 - val_auc: 0.9785\n",
      "Epoch 11/100\n",
      "112/112 [==============================] - 1s 5ms/step - loss: 0.1673 - accuracy: 0.9643 - precision: 0.0420 - recall: 0.9079 - auc: 0.9789 - val_loss: 0.0897 - val_accuracy: 0.9828 - val_precision: 0.0858 - val_recall: 0.9010 - val_auc: 0.9772\n",
      "Epoch 12/100\n",
      "112/112 [==============================] - 1s 5ms/step - loss: 0.1552 - accuracy: 0.9668 - precision: 0.0451 - recall: 0.9079 - auc: 0.9824 - val_loss: 0.1058 - val_accuracy: 0.9752 - val_precision: 0.0620 - val_recall: 0.9208 - val_auc: 0.9780\n",
      "Epoch 13/100\n",
      "112/112 [==============================] - 1s 5ms/step - loss: 0.1557 - accuracy: 0.9677 - precision: 0.0465 - recall: 0.9156 - auc: 0.9806 - val_loss: 0.1070 - val_accuracy: 0.9761 - val_precision: 0.0643 - val_recall: 0.9208 - val_auc: 0.9800\n",
      "Epoch 14/100\n",
      "112/112 [==============================] - 1s 5ms/step - loss: 0.1538 - accuracy: 0.9642 - precision: 0.0424 - recall: 0.9182 - auc: 0.9821 - val_loss: 0.0861 - val_accuracy: 0.9808 - val_precision: 0.0784 - val_recall: 0.9109 - val_auc: 0.9786\n",
      "Epoch 15/100\n",
      "112/112 [==============================] - 1s 5ms/step - loss: 0.1492 - accuracy: 0.9689 - precision: 0.0487 - recall: 0.9233 - auc: 0.9833 - val_loss: 0.0988 - val_accuracy: 0.9776 - val_precision: 0.0689 - val_recall: 0.9307 - val_auc: 0.9799\n",
      "Epoch 16/100\n",
      "112/112 [==============================] - 1s 5ms/step - loss: 0.1510 - accuracy: 0.9691 - precision: 0.0482 - recall: 0.9079 - auc: 0.9833 - val_loss: 0.0906 - val_accuracy: 0.9813 - val_precision: 0.0803 - val_recall: 0.9109 - val_auc: 0.9810\n",
      "Epoch 17/100\n",
      "112/112 [==============================] - 1s 5ms/step - loss: 0.1403 - accuracy: 0.9726 - precision: 0.0545 - recall: 0.9156 - auc: 0.9857 - val_loss: 0.0899 - val_accuracy: 0.9811 - val_precision: 0.0800 - val_recall: 0.9208 - val_auc: 0.9801\n",
      "Epoch 18/100\n",
      "112/112 [==============================] - 1s 5ms/step - loss: 0.1480 - accuracy: 0.9695 - precision: 0.0494 - recall: 0.9207 - auc: 0.9835 - val_loss: 0.0915 - val_accuracy: 0.9836 - val_precision: 0.0905 - val_recall: 0.9109 - val_auc: 0.9819\n",
      "Epoch 19/100\n",
      "112/112 [==============================] - 1s 5ms/step - loss: 0.1434 - accuracy: 0.9729 - precision: 0.0546 - recall: 0.9079 - auc: 0.9854 - val_loss: 0.1006 - val_accuracy: 0.9784 - val_precision: 0.0715 - val_recall: 0.9307 - val_auc: 0.9823\n",
      "Epoch 20/100\n",
      "112/112 [==============================] - 1s 5ms/step - loss: 0.1448 - accuracy: 0.9711 - precision: 0.0517 - recall: 0.9130 - auc: 0.9851 - val_loss: 0.0872 - val_accuracy: 0.9839 - val_precision: 0.0922 - val_recall: 0.9109 - val_auc: 0.9817\n",
      "Epoch 21/100\n",
      "112/112 [==============================] - 1s 5ms/step - loss: 0.1302 - accuracy: 0.9723 - precision: 0.0544 - recall: 0.9233 - auc: 0.9882 - val_loss: 0.0873 - val_accuracy: 0.9819 - val_precision: 0.0842 - val_recall: 0.9307 - val_auc: 0.9837\n",
      "Epoch 22/100\n",
      "112/112 [==============================] - 1s 5ms/step - loss: 0.1346 - accuracy: 0.9705 - precision: 0.0511 - recall: 0.9233 - auc: 0.9864 - val_loss: 0.0967 - val_accuracy: 0.9815 - val_precision: 0.0819 - val_recall: 0.9208 - val_auc: 0.9839\n",
      "Epoch 23/100\n",
      "112/112 [==============================] - 1s 5ms/step - loss: 0.1296 - accuracy: 0.9725 - precision: 0.0549 - recall: 0.9258 - auc: 0.9886 - val_loss: 0.0851 - val_accuracy: 0.9815 - val_precision: 0.0816 - val_recall: 0.9208 - val_auc: 0.9827\n",
      "Epoch 24/100\n",
      "112/112 [==============================] - 1s 5ms/step - loss: 0.1286 - accuracy: 0.9718 - precision: 0.0539 - recall: 0.9309 - auc: 0.9879 - val_loss: 0.0789 - val_accuracy: 0.9838 - val_precision: 0.0917 - val_recall: 0.9109 - val_auc: 0.9835\n",
      "Epoch 25/100\n",
      "112/112 [==============================] - 1s 5ms/step - loss: 0.1115 - accuracy: 0.9735 - precision: 0.0577 - recall: 0.9412 - auc: 0.9917 - val_loss: 0.0617 - val_accuracy: 0.9885 - val_precision: 0.1236 - val_recall: 0.9010 - val_auc: 0.9835\n",
      "Epoch 26/100\n",
      "112/112 [==============================] - 1s 5ms/step - loss: 0.1159 - accuracy: 0.9749 - precision: 0.0601 - recall: 0.9309 - auc: 0.9912 - val_loss: 0.0716 - val_accuracy: 0.9841 - val_precision: 0.0933 - val_recall: 0.9109 - val_auc: 0.9840\n",
      "Epoch 27/100\n",
      "112/112 [==============================] - 1s 5ms/step - loss: 0.1206 - accuracy: 0.9729 - precision: 0.0558 - recall: 0.9309 - auc: 0.9897 - val_loss: 0.0938 - val_accuracy: 0.9754 - val_precision: 0.0633 - val_recall: 0.9307 - val_auc: 0.9860\n",
      "Epoch 28/100\n",
      "112/112 [==============================] - 1s 5ms/step - loss: 0.1271 - accuracy: 0.9721 - precision: 0.0543 - recall: 0.9309 - auc: 0.9880 - val_loss: 0.0859 - val_accuracy: 0.9810 - val_precision: 0.0797 - val_recall: 0.9208 - val_auc: 0.9840\n",
      "Epoch 29/100\n",
      "112/112 [==============================] - 1s 5ms/step - loss: 0.1236 - accuracy: 0.9714 - precision: 0.0529 - recall: 0.9258 - auc: 0.9896 - val_loss: 0.0864 - val_accuracy: 0.9797 - val_precision: 0.0742 - val_recall: 0.9109 - val_auc: 0.9838\n",
      "Epoch 30/100\n",
      "112/112 [==============================] - 1s 5ms/step - loss: 0.1052 - accuracy: 0.9710 - precision: 0.0530 - recall: 0.9412 - auc: 0.9935 - val_loss: 0.0592 - val_accuracy: 0.9862 - val_precision: 0.1060 - val_recall: 0.9109 - val_auc: 0.9841\n",
      "Epoch 31/100\n",
      "112/112 [==============================] - 1s 5ms/step - loss: 0.1145 - accuracy: 0.9730 - precision: 0.0563 - recall: 0.9361 - auc: 0.9909 - val_loss: 0.0697 - val_accuracy: 0.9848 - val_precision: 0.0970 - val_recall: 0.9109 - val_auc: 0.9842\n",
      "Epoch 32/100\n",
      "112/112 [==============================] - 1s 5ms/step - loss: 0.1157 - accuracy: 0.9736 - precision: 0.0571 - recall: 0.9258 - auc: 0.9915 - val_loss: 0.0735 - val_accuracy: 0.9826 - val_precision: 0.0857 - val_recall: 0.9109 - val_auc: 0.9847\n",
      "Epoch 33/100\n",
      "112/112 [==============================] - 1s 5ms/step - loss: 0.1126 - accuracy: 0.9754 - precision: 0.0618 - recall: 0.9412 - auc: 0.9908 - val_loss: 0.0660 - val_accuracy: 0.9861 - val_precision: 0.1050 - val_recall: 0.9109 - val_auc: 0.9846\n",
      "Epoch 34/100\n",
      "112/112 [==============================] - 1s 5ms/step - loss: 0.1091 - accuracy: 0.9762 - precision: 0.0629 - recall: 0.9258 - auc: 0.9922 - val_loss: 0.0715 - val_accuracy: 0.9830 - val_precision: 0.0875 - val_recall: 0.9109 - val_auc: 0.9848\n",
      "Epoch 35/100\n",
      "112/112 [==============================] - 1s 5ms/step - loss: 0.1111 - accuracy: 0.9746 - precision: 0.0603 - recall: 0.9488 - auc: 0.9911 - val_loss: 0.0637 - val_accuracy: 0.9880 - val_precision: 0.1208 - val_recall: 0.9208 - val_auc: 0.9851\n",
      "Epoch 36/100\n",
      "112/112 [==============================] - 1s 5ms/step - loss: 0.1034 - accuracy: 0.9738 - precision: 0.0586 - recall: 0.9463 - auc: 0.9934 - val_loss: 0.0716 - val_accuracy: 0.9811 - val_precision: 0.0800 - val_recall: 0.9208 - val_auc: 0.9851\n",
      "Epoch 37/100\n",
      "109/112 [============================>.] - ETA: 0s - loss: 0.1039 - accuracy: 0.9700 - precision: 0.0520 - recall: 0.9482 - auc: 0.9931Restoring model weights from the end of the best epoch: 27.\n",
      "112/112 [==============================] - 1s 5ms/step - loss: 0.1039 - accuracy: 0.9702 - precision: 0.0517 - recall: 0.9463 - auc: 0.9931 - val_loss: 0.0586 - val_accuracy: 0.9869 - val_precision: 0.1106 - val_recall: 0.9109 - val_auc: 0.9840\n",
      "Epoch 00037: early stopping\n"
     ]
    }
   ],
   "source": [
    "weighted_model = make_model()\n",
    "\n",
    "weighted_history = weighted_model.fit(X_train, y_train, \n",
    "                                    batch_size=BATCH_SIZE,\n",
    "                                    epochs=EPOCHS, \n",
    "                                    callbacks = [early_stopping], \n",
    "                                    validation_data=(X_test, y_test),\n",
    "                                    class_weight=class_weight) "
   ]
  },
  {
   "cell_type": "code",
   "execution_count": 89,
   "metadata": {
    "colab": {
     "base_uri": "https://localhost:8080/",
     "height": 585
    },
    "id": "N5iUrVe6t30B",
    "outputId": "e9958d89-c55d-40c0-8e75-b8feae0ec646"
   },
   "outputs": [
    {
     "data": {
      "image/png": "[encoded data removed]",
      "text/plain": [
       "<Figure size 864x576 with 4 Axes>"
      ]
     },
     "metadata": {
      "needs_background": "light"
     },
     "output_type": "display_data"
    }
   ],
   "source": [
    "plot_metrics(weighted_history)"
   ]
  },
  {
   "cell_type": "code",
   "execution_count": 90,
   "metadata": {
    "id": "ErH9Ehhct30D"
   },
   "outputs": [],
   "source": [
    "predictions_weighted = weighted_model.predict(X_test, batch_size=BATCH_SIZE)"
   ]
  },
  {
   "cell_type": "code",
   "execution_count": 92,
   "metadata": {
    "colab": {
     "base_uri": "https://localhost:8080/",
     "height": 627
    },
    "id": "59NLR77Kt30E",
    "outputId": "09430d93-090e-4927-c221-b80595a89e0e"
   },
   "outputs": [
    {
     "name": "stdout",
     "output_type": "stream",
     "text": [
      "loss :  0.09382768720388412\n",
      "accuracy :  0.9754397869110107\n",
      "precision :  0.06325706839561462\n",
      "recall :  0.9306930899620056\n",
      "auc :  0.985973596572876\n",
      "\n",
      "confution matrix\n",
      " [[55469  1392]\n",
      " [    7    94]]\n",
      "\n",
      "f1 score\n",
      " 0.11846250787649655\n",
      "\n",
      "Accuracy: 0.97544\n",
      "Precision: 0.06326\n",
      "Recall: 0.93069\n"
     ]
    },
    {
     "data": {
      "image/png": "[encoded data removed]",
      "text/plain": [
       "<Figure size 360x360 with 2 Axes>"
      ]
     },
     "metadata": {
      "needs_background": "light"
     },
     "output_type": "display_data"
    }
   ],
   "source": [
    "weighted_results = weighted_model.evaluate(X_test, y_test,\n",
    "                                           batch_size=BATCH_SIZE, verbose=0)\n",
    "\n",
    "for name, value in zip(weighted_model.metrics_names, weighted_results):\n",
    "    print(name, ': ', value)\n",
    "    \n",
    "print()\n",
    "\n",
    "plot_cm(y_test, predictions_weighted, threshold=0.5)"
   ]
  },
  {
   "cell_type": "markdown",
   "metadata": {
    "id": "FF42Tjcdt30K"
   },
   "source": [
    "## Plot the ROC"
   ]
  },
  {
   "cell_type": "code",
   "execution_count": 93,
   "metadata": {
    "colab": {
     "base_uri": "https://localhost:8080/",
     "height": 405
    },
    "id": "DmZ5bpDEt30N",
    "outputId": "d5402c4a-19a7-41fd-f57d-33c85b22086d"
   },
   "outputs": [
    {
     "data": {
      "text/plain": [
       "<matplotlib.legend.Legend at 0x7feec85ebdd0>"
      ]
     },
     "execution_count": 93,
     "metadata": {},
     "output_type": "execute_result"
    },
    {
     "data": {
      "image/png": "[encoded data removed]",
      "text/plain": [
       "<Figure size 576x432 with 1 Axes>"
      ]
     },
     "metadata": {
      "needs_background": "light"
     },
     "output_type": "display_data"
    }
   ],
   "source": [
    "plot_roc(\"Baseline ROC\", y_test, predictions_baseline, color='blue', linestyle='--')\n",
    "plot_roc(\"Resampled ROC\", y_test, predictions_resampled, color='red', linestyle='--')\n",
    "plot_roc(\"Weighted ROC\", y_test, predictions_weighted, color='green', linestyle='--')\n",
    "\n",
    "plt.legend(loc='lower right')"
   ]
  },
  {
   "cell_type": "code",
   "execution_count": null,
   "metadata": {
    "id": "rcbHFEtjGzxD"
   },
   "outputs": [],
   "source": []
  }
 ],
 "metadata": {
  "accelerator": "GPU",
  "colab": {
   "collapsed_sections": [],
   "machine_shape": "hm",
   "name": "220_Biased_creditCard_DNN_classWeight_resample.ipynb",
   "provenance": []
  },
  "kernelspec": {
   "display_name": "Python 3",
   "language": "python",
   "name": "python3"
  },
  "language_info": {
   "codemirror_mode": {
    "name": "ipython",
    "version": 3
   },
   "file_extension": ".py",
   "mimetype": "text/x-python",
   "name": "python",
   "nbconvert_exporter": "python",
   "pygments_lexer": "ipython3",
   "version": "3.7.3"
  }
 },
 "nbformat": 4,
 "nbformat_minor": 1
}
