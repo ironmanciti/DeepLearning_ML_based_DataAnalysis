{
 "cells": [
  {
   "cell_type": "markdown",
   "id": "13898b70",
   "metadata": {
    "id": "cutting-glenn"
   },
   "source": [
    "# Malware Detection - binary classification"
   ]
  },
  {
   "cell_type": "markdown",
   "id": "a18deccb",
   "metadata": {
    "id": "parallel-asthma"
   },
   "source": [
    "- Name : 제외\n",
    "- md5 : hash value 제외"
   ]
  },
  {
   "cell_type": "markdown",
   "id": "5bee1a06",
   "metadata": {
    "id": "planned-compression"
   },
   "source": [
    "### confusion matrix"
   ]
  }
 ],
 "metadata": {
  "accelerator": "GPU",
  "colab": {
   "machine_shape": "hm",
   "name": "210_Malware_Detection_binary_classification.ipynb",
   "provenance": []
  },
  "kernelspec": {
   "display_name": "Python 3",
   "language": "python",
   "name": "python3"
  },
  "language_info": {
   "codemirror_mode": {
    "name": "ipython",
    "version": 3
   },
   "file_extension": ".py",
   "mimetype": "text/x-python",
   "name": "python",
   "nbconvert_exporter": "python",
   "pygments_lexer": "ipython3",
   "version": "3.7.3"
  }
 },
 "nbformat": 4,
 "nbformat_minor": 5
}
