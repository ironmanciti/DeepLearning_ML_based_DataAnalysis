{
 "cells": [
  {
   "cell_type": "code",
   "execution_count": 1,
   "id": "eacbb370",
   "metadata": {},
   "outputs": [
    {
     "name": "stdout",
     "output_type": "stream",
     "text": [
      "['000_Crash0_Python Crash Course.ipynb', '002_Numpy and Linear Algebra.ipynb', '004.Pandas Basic.ipynb', '005.Pandas-Advanced.ipynb', '008. Matplolib Basic WordCloud.ipynb', '009. Pandas Visualization.ipynb', '010.Pandas_RandomVariables_Frequency_Distribution.ipynb', '012.Seaborn Introduction.ipynb', '071.exploratory_data_analysis_McDonal.ipynb', '072.FeatureScaling.ipynb', '075_Feature_Engineering_Titanic.ipynb', '200.Boston Regression.ipynb', '210_Malware_Detection_binary_classification.ipynb', '220_Biased_creditCard_DNN_classWeight_resample.ipynb', '240_Mnist_LeNet.ipynb', '250_CIFAR-10CNN.ipynb', '260_Transfer_image_Tf_Hub_MobileNet.ipynb', '270_Simple_LSTM.ipynb', '280_Multivariate_Multistep_TimeSeries_Household_Energy.ipynb', '290_keras_word_encoding_tokenizer_padsequence.ipynb', '300_IMDB_korean_movie_reviews.ipynb', 'CapstoneProject_1_flask_model_deploy_mpg.ipynb', 'CapstoneProject_1_python_requests.ipynb']\n"
     ]
    }
   ],
   "source": [
    "import nbformat as nbf\n",
    "import os\n",
    "\n",
    "notebooks = [file for file in os.listdir(os.getcwd())  if file.endswith('.ipynb') and \n",
    "                    file not in ['Merging_Notebooks.ipynb', 'empty_page.ipynb', 'Untitled.ipynb',  \n",
    "                                 'Create_Template.ipynb'] and not file.startswith('combine') and\n",
    "                                 not file.startswith('Solution')]\n",
    "\n",
    "print(notebooks)\n",
    "\n",
    "for note in notebooks:\n",
    "    ntbk = nbf.read(note, nbf.NO_CONVERT)\n",
    "    new_ntbk = ntbk\n",
    "    new_ntbk.cells = [cell for cell in ntbk.cells if cell.cell_type == \"markdown\"]\n",
    "    nbf.write(new_ntbk, \"template_\" + note, version=nbf.NO_CONVERT)"
   ]
  },
  {
   "cell_type": "code",
   "execution_count": null,
   "id": "def6e8a0",
   "metadata": {},
   "outputs": [],
   "source": []
  }
 ],
 "metadata": {
  "kernelspec": {
   "display_name": "Python 3",
   "language": "python",
   "name": "python3"
  },
  "language_info": {
   "codemirror_mode": {
    "name": "ipython",
    "version": 3
   },
   "file_extension": ".py",
   "mimetype": "text/x-python",
   "name": "python",
   "nbconvert_exporter": "python",
   "pygments_lexer": "ipython3",
   "version": "3.7.3"
  }
 },
 "nbformat": 4,
 "nbformat_minor": 5
}
