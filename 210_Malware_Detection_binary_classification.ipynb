{
  "nbformat": 4,
  "nbformat_minor": 5,
  "metadata": {
    "accelerator": "GPU",
    "colab": {
      "name": "210_Malware_Detection_binary_classification.ipynb",
      "provenance": [],
      "machine_shape": "hm"
    },
    "kernelspec": {
      "display_name": "Python 3",
      "language": "python",
      "name": "python3"
    },
    "language_info": {
      "codemirror_mode": {
        "name": "ipython",
        "version": 3
      },
      "file_extension": ".py",
      "mimetype": "text/x-python",
      "name": "python",
      "nbconvert_exporter": "python",
      "pygments_lexer": "ipython3",
      "version": "3.7.10"
    }
  },
  "cells": [
    {
      "cell_type": "markdown",
      "metadata": {
        "id": "cutting-glenn"
      },
      "source": [
        "# Malware Detection - binary classification"
      ],
      "id": "cutting-glenn"
    },
    {
      "cell_type": "code",
      "metadata": {
        "colab": {
          "base_uri": "https://localhost:8080/",
          "height": 226
        },
        "id": "serious-january",
        "outputId": "2cf208d8-ae1f-4906-d774-24d2fad5a5b4"
      },
      "source": [
        "import pandas as pd\n",
        "import numpy as np\n",
        "from sklearn.model_selection import train_test_split\n",
        "from sklearn.preprocessing import StandardScaler\n",
        "import tensorflow as tf\n",
        "from tensorflow.keras.layers import Dense\n",
        "import matplotlib.pyplot as plt\n",
        "\n",
        "df = pd.read_csv('https://raw.githubusercontent.com/ironmanciti/DeepLearning_ML_based_DataAnalysis/main/security_data/malware.csv', index_col=0)\n",
        "df.head()"
      ],
      "id": "serious-january",
      "execution_count": 1,
      "outputs": [
        {
          "output_type": "execute_result",
          "data": {
            "text/html": [
              "<div>\n",
              "<style scoped>\n",
              "    .dataframe tbody tr th:only-of-type {\n",
              "        vertical-align: middle;\n",
              "    }\n",
              "\n",
              "    .dataframe tbody tr th {\n",
              "        vertical-align: top;\n",
              "    }\n",
              "\n",
              "    .dataframe thead th {\n",
              "        text-align: right;\n",
              "    }\n",
              "</style>\n",
              "<table border=\"1\" class=\"dataframe\">\n",
              "  <thead>\n",
              "    <tr style=\"text-align: right;\">\n",
              "      <th></th>\n",
              "      <th>Name</th>\n",
              "      <th>md5</th>\n",
              "      <th>Machine</th>\n",
              "      <th>SizeOfOptionalHeader</th>\n",
              "      <th>Characteristics</th>\n",
              "      <th>MajorLinkerVersion</th>\n",
              "      <th>MinorLinkerVersion</th>\n",
              "      <th>SizeOfCode</th>\n",
              "      <th>SizeOfInitializedData</th>\n",
              "      <th>SizeOfUninitializedData</th>\n",
              "      <th>AddressOfEntryPoint</th>\n",
              "      <th>BaseOfCode</th>\n",
              "      <th>BaseOfData</th>\n",
              "      <th>ImageBase</th>\n",
              "      <th>SectionAlignment</th>\n",
              "      <th>FileAlignment</th>\n",
              "      <th>MajorOperatingSystemVersion</th>\n",
              "      <th>MinorOperatingSystemVersion</th>\n",
              "      <th>MajorImageVersion</th>\n",
              "      <th>MinorImageVersion</th>\n",
              "      <th>MajorSubsystemVersion</th>\n",
              "      <th>MinorSubsystemVersion</th>\n",
              "      <th>SizeOfImage</th>\n",
              "      <th>SizeOfHeaders</th>\n",
              "      <th>CheckSum</th>\n",
              "      <th>Subsystem</th>\n",
              "      <th>DllCharacteristics</th>\n",
              "      <th>SizeOfStackReserve</th>\n",
              "      <th>SizeOfStackCommit</th>\n",
              "      <th>SizeOfHeapReserve</th>\n",
              "      <th>SizeOfHeapCommit</th>\n",
              "      <th>LoaderFlags</th>\n",
              "      <th>NumberOfRvaAndSizes</th>\n",
              "      <th>SectionsNb</th>\n",
              "      <th>SectionsMeanEntropy</th>\n",
              "      <th>SectionsMinEntropy</th>\n",
              "      <th>SectionsMaxEntropy</th>\n",
              "      <th>SectionsMeanRawsize</th>\n",
              "      <th>SectionsMinRawsize</th>\n",
              "      <th>SectionMaxRawsize</th>\n",
              "      <th>SectionsMeanVirtualsize</th>\n",
              "      <th>SectionsMinVirtualsize</th>\n",
              "      <th>SectionMaxVirtualsize</th>\n",
              "      <th>ImportsNbDLL</th>\n",
              "      <th>ImportsNb</th>\n",
              "      <th>ImportsNbOrdinal</th>\n",
              "      <th>ExportNb</th>\n",
              "      <th>ResourcesNb</th>\n",
              "      <th>ResourcesMeanEntropy</th>\n",
              "      <th>ResourcesMinEntropy</th>\n",
              "      <th>ResourcesMaxEntropy</th>\n",
              "      <th>ResourcesMeanSize</th>\n",
              "      <th>ResourcesMinSize</th>\n",
              "      <th>ResourcesMaxSize</th>\n",
              "      <th>LoadConfigurationSize</th>\n",
              "      <th>VersionInformationSize</th>\n",
              "      <th>legitimate</th>\n",
              "    </tr>\n",
              "  </thead>\n",
              "  <tbody>\n",
              "    <tr>\n",
              "      <th>26978</th>\n",
              "      <td>iexplore.exe</td>\n",
              "      <td>ff484b9824dcc3580e244a85352b425a</td>\n",
              "      <td>332</td>\n",
              "      <td>224</td>\n",
              "      <td>258</td>\n",
              "      <td>9</td>\n",
              "      <td>0</td>\n",
              "      <td>44544</td>\n",
              "      <td>624640</td>\n",
              "      <td>0</td>\n",
              "      <td>6922</td>\n",
              "      <td>4096</td>\n",
              "      <td>163840</td>\n",
              "      <td>4.194304e+06</td>\n",
              "      <td>4096</td>\n",
              "      <td>512</td>\n",
              "      <td>6</td>\n",
              "      <td>1</td>\n",
              "      <td>6</td>\n",
              "      <td>1</td>\n",
              "      <td>5</td>\n",
              "      <td>1</td>\n",
              "      <td>679936</td>\n",
              "      <td>1024</td>\n",
              "      <td>728205</td>\n",
              "      <td>2</td>\n",
              "      <td>32832</td>\n",
              "      <td>1048576</td>\n",
              "      <td>57344</td>\n",
              "      <td>1048576</td>\n",
              "      <td>4096</td>\n",
              "      <td>0</td>\n",
              "      <td>16</td>\n",
              "      <td>4</td>\n",
              "      <td>4.818222</td>\n",
              "      <td>0.291754</td>\n",
              "      <td>6.777117</td>\n",
              "      <td>167296.000000</td>\n",
              "      <td>2048</td>\n",
              "      <td>619008</td>\n",
              "      <td>166940.25</td>\n",
              "      <td>1748</td>\n",
              "      <td>618544</td>\n",
              "      <td>10</td>\n",
              "      <td>152</td>\n",
              "      <td>22</td>\n",
              "      <td>0</td>\n",
              "      <td>180</td>\n",
              "      <td>4.384464</td>\n",
              "      <td>2.186408</td>\n",
              "      <td>7.990925</td>\n",
              "      <td>3386.7000</td>\n",
              "      <td>20</td>\n",
              "      <td>67585</td>\n",
              "      <td>72</td>\n",
              "      <td>16</td>\n",
              "      <td>1</td>\n",
              "    </tr>\n",
              "    <tr>\n",
              "      <th>71368</th>\n",
              "      <td>VirusShare_aba338aa279d2edc208ea8c3adc2cdb4</td>\n",
              "      <td>aba338aa279d2edc208ea8c3adc2cdb4</td>\n",
              "      <td>332</td>\n",
              "      <td>224</td>\n",
              "      <td>258</td>\n",
              "      <td>10</td>\n",
              "      <td>0</td>\n",
              "      <td>120320</td>\n",
              "      <td>385024</td>\n",
              "      <td>0</td>\n",
              "      <td>61562</td>\n",
              "      <td>4096</td>\n",
              "      <td>126976</td>\n",
              "      <td>4.194304e+06</td>\n",
              "      <td>4096</td>\n",
              "      <td>512</td>\n",
              "      <td>5</td>\n",
              "      <td>1</td>\n",
              "      <td>0</td>\n",
              "      <td>0</td>\n",
              "      <td>5</td>\n",
              "      <td>1</td>\n",
              "      <td>528384</td>\n",
              "      <td>1024</td>\n",
              "      <td>573215</td>\n",
              "      <td>2</td>\n",
              "      <td>33088</td>\n",
              "      <td>1048576</td>\n",
              "      <td>4096</td>\n",
              "      <td>1048576</td>\n",
              "      <td>4096</td>\n",
              "      <td>0</td>\n",
              "      <td>16</td>\n",
              "      <td>5</td>\n",
              "      <td>5.633449</td>\n",
              "      <td>4.053766</td>\n",
              "      <td>7.962578</td>\n",
              "      <td>101068.800000</td>\n",
              "      <td>9728</td>\n",
              "      <td>330752</td>\n",
              "      <td>102626.20</td>\n",
              "      <td>9400</td>\n",
              "      <td>339652</td>\n",
              "      <td>3</td>\n",
              "      <td>89</td>\n",
              "      <td>0</td>\n",
              "      <td>0</td>\n",
              "      <td>6</td>\n",
              "      <td>3.671986</td>\n",
              "      <td>2.458492</td>\n",
              "      <td>5.317552</td>\n",
              "      <td>2739.5000</td>\n",
              "      <td>48</td>\n",
              "      <td>9640</td>\n",
              "      <td>72</td>\n",
              "      <td>15</td>\n",
              "      <td>0</td>\n",
              "    </tr>\n",
              "    <tr>\n",
              "      <th>106224</th>\n",
              "      <td>VirusShare_c8b22b719bcf452e61df803c55476327</td>\n",
              "      <td>c8b22b719bcf452e61df803c55476327</td>\n",
              "      <td>332</td>\n",
              "      <td>224</td>\n",
              "      <td>258</td>\n",
              "      <td>10</td>\n",
              "      <td>0</td>\n",
              "      <td>118784</td>\n",
              "      <td>383488</td>\n",
              "      <td>0</td>\n",
              "      <td>59882</td>\n",
              "      <td>4096</td>\n",
              "      <td>122880</td>\n",
              "      <td>4.194304e+06</td>\n",
              "      <td>4096</td>\n",
              "      <td>512</td>\n",
              "      <td>5</td>\n",
              "      <td>1</td>\n",
              "      <td>0</td>\n",
              "      <td>0</td>\n",
              "      <td>5</td>\n",
              "      <td>1</td>\n",
              "      <td>520192</td>\n",
              "      <td>1024</td>\n",
              "      <td>570975</td>\n",
              "      <td>2</td>\n",
              "      <td>33088</td>\n",
              "      <td>1048576</td>\n",
              "      <td>4096</td>\n",
              "      <td>1048576</td>\n",
              "      <td>4096</td>\n",
              "      <td>0</td>\n",
              "      <td>16</td>\n",
              "      <td>5</td>\n",
              "      <td>5.673942</td>\n",
              "      <td>4.226479</td>\n",
              "      <td>7.965301</td>\n",
              "      <td>100454.400000</td>\n",
              "      <td>9728</td>\n",
              "      <td>334336</td>\n",
              "      <td>101857.40</td>\n",
              "      <td>9364</td>\n",
              "      <td>334084</td>\n",
              "      <td>7</td>\n",
              "      <td>113</td>\n",
              "      <td>0</td>\n",
              "      <td>0</td>\n",
              "      <td>16</td>\n",
              "      <td>6.378131</td>\n",
              "      <td>2.458492</td>\n",
              "      <td>7.992688</td>\n",
              "      <td>20821.9375</td>\n",
              "      <td>48</td>\n",
              "      <td>33945</td>\n",
              "      <td>72</td>\n",
              "      <td>14</td>\n",
              "      <td>0</td>\n",
              "    </tr>\n",
              "    <tr>\n",
              "      <th>10238</th>\n",
              "      <td>mcstoredb.ni.dll</td>\n",
              "      <td>fcf892732a5d81c2e88a2bf3c7d04ebe</td>\n",
              "      <td>34404</td>\n",
              "      <td>240</td>\n",
              "      <td>8226</td>\n",
              "      <td>8</td>\n",
              "      <td>0</td>\n",
              "      <td>0</td>\n",
              "      <td>0</td>\n",
              "      <td>0</td>\n",
              "      <td>0</td>\n",
              "      <td>0</td>\n",
              "      <td>0</td>\n",
              "      <td>6.880832e+12</td>\n",
              "      <td>4096</td>\n",
              "      <td>512</td>\n",
              "      <td>5</td>\n",
              "      <td>2</td>\n",
              "      <td>0</td>\n",
              "      <td>0</td>\n",
              "      <td>5</td>\n",
              "      <td>2</td>\n",
              "      <td>544768</td>\n",
              "      <td>1024</td>\n",
              "      <td>0</td>\n",
              "      <td>3</td>\n",
              "      <td>320</td>\n",
              "      <td>0</td>\n",
              "      <td>0</td>\n",
              "      <td>0</td>\n",
              "      <td>0</td>\n",
              "      <td>0</td>\n",
              "      <td>16</td>\n",
              "      <td>6</td>\n",
              "      <td>4.038110</td>\n",
              "      <td>1.419196</td>\n",
              "      <td>6.548427</td>\n",
              "      <td>88746.666667</td>\n",
              "      <td>512</td>\n",
              "      <td>383488</td>\n",
              "      <td>88489.00</td>\n",
              "      <td>108</td>\n",
              "      <td>383306</td>\n",
              "      <td>0</td>\n",
              "      <td>0</td>\n",
              "      <td>0</td>\n",
              "      <td>0</td>\n",
              "      <td>1</td>\n",
              "      <td>3.543663</td>\n",
              "      <td>3.543663</td>\n",
              "      <td>3.543663</td>\n",
              "      <td>968.0000</td>\n",
              "      <td>968</td>\n",
              "      <td>968</td>\n",
              "      <td>0</td>\n",
              "      <td>16</td>\n",
              "      <td>1</td>\n",
              "    </tr>\n",
              "    <tr>\n",
              "      <th>75450</th>\n",
              "      <td>VirusShare_6770aaaf853db1ace6f7b0ed3fc5ce9c</td>\n",
              "      <td>6770aaaf853db1ace6f7b0ed3fc5ce9c</td>\n",
              "      <td>332</td>\n",
              "      <td>224</td>\n",
              "      <td>258</td>\n",
              "      <td>10</td>\n",
              "      <td>0</td>\n",
              "      <td>120320</td>\n",
              "      <td>385024</td>\n",
              "      <td>0</td>\n",
              "      <td>61578</td>\n",
              "      <td>4096</td>\n",
              "      <td>126976</td>\n",
              "      <td>4.194304e+06</td>\n",
              "      <td>4096</td>\n",
              "      <td>512</td>\n",
              "      <td>5</td>\n",
              "      <td>1</td>\n",
              "      <td>0</td>\n",
              "      <td>0</td>\n",
              "      <td>5</td>\n",
              "      <td>1</td>\n",
              "      <td>528384</td>\n",
              "      <td>1024</td>\n",
              "      <td>539101</td>\n",
              "      <td>2</td>\n",
              "      <td>33088</td>\n",
              "      <td>1048576</td>\n",
              "      <td>4096</td>\n",
              "      <td>1048576</td>\n",
              "      <td>4096</td>\n",
              "      <td>0</td>\n",
              "      <td>16</td>\n",
              "      <td>5</td>\n",
              "      <td>5.646444</td>\n",
              "      <td>4.117264</td>\n",
              "      <td>7.962776</td>\n",
              "      <td>101068.800000</td>\n",
              "      <td>9728</td>\n",
              "      <td>330752</td>\n",
              "      <td>102623.80</td>\n",
              "      <td>9404</td>\n",
              "      <td>339652</td>\n",
              "      <td>3</td>\n",
              "      <td>89</td>\n",
              "      <td>0</td>\n",
              "      <td>0</td>\n",
              "      <td>6</td>\n",
              "      <td>3.729824</td>\n",
              "      <td>2.458492</td>\n",
              "      <td>5.317552</td>\n",
              "      <td>2739.5000</td>\n",
              "      <td>48</td>\n",
              "      <td>9640</td>\n",
              "      <td>72</td>\n",
              "      <td>15</td>\n",
              "      <td>0</td>\n",
              "    </tr>\n",
              "  </tbody>\n",
              "</table>\n",
              "</div>"
            ],
            "text/plain": [
              "                                               Name  ... legitimate\n",
              "26978                                  iexplore.exe  ...          1\n",
              "71368   VirusShare_aba338aa279d2edc208ea8c3adc2cdb4  ...          0\n",
              "106224  VirusShare_c8b22b719bcf452e61df803c55476327  ...          0\n",
              "10238                              mcstoredb.ni.dll  ...          1\n",
              "75450   VirusShare_6770aaaf853db1ace6f7b0ed3fc5ce9c  ...          0\n",
              "\n",
              "[5 rows x 57 columns]"
            ]
          },
          "metadata": {},
          "execution_count": 1
        }
      ]
    },
    {
      "cell_type": "code",
      "metadata": {
        "colab": {
          "base_uri": "https://localhost:8080/"
        },
        "id": "humanitarian-doctrine",
        "outputId": "113ce014-4d31-44f4-d4ff-666019e9fa69"
      },
      "source": [
        "df.shape"
      ],
      "id": "humanitarian-doctrine",
      "execution_count": 2,
      "outputs": [
        {
          "output_type": "execute_result",
          "data": {
            "text/plain": [
              "(100000, 57)"
            ]
          },
          "metadata": {},
          "execution_count": 2
        }
      ]
    },
    {
      "cell_type": "code",
      "metadata": {
        "colab": {
          "base_uri": "https://localhost:8080/"
        },
        "id": "criminal-comparison",
        "outputId": "8d88ee4a-390c-4666-97a0-5aeb0e21ee07"
      },
      "source": [
        "df['legitimate'].value_counts()"
      ],
      "id": "criminal-comparison",
      "execution_count": 4,
      "outputs": [
        {
          "output_type": "execute_result",
          "data": {
            "text/plain": [
              "0    69881\n",
              "1    30119\n",
              "Name: legitimate, dtype: int64"
            ]
          },
          "metadata": {},
          "execution_count": 4
        }
      ]
    },
    {
      "cell_type": "code",
      "metadata": {
        "colab": {
          "base_uri": "https://localhost:8080/"
        },
        "id": "dressed-river",
        "outputId": "5b905783-dced-4116-dbfb-444aa7b7595a"
      },
      "source": [
        "df.columns"
      ],
      "id": "dressed-river",
      "execution_count": 5,
      "outputs": [
        {
          "output_type": "execute_result",
          "data": {
            "text/plain": [
              "Index(['Name', 'md5', 'Machine', 'SizeOfOptionalHeader', 'Characteristics',\n",
              "       'MajorLinkerVersion', 'MinorLinkerVersion', 'SizeOfCode',\n",
              "       'SizeOfInitializedData', 'SizeOfUninitializedData',\n",
              "       'AddressOfEntryPoint', 'BaseOfCode', 'BaseOfData', 'ImageBase',\n",
              "       'SectionAlignment', 'FileAlignment', 'MajorOperatingSystemVersion',\n",
              "       'MinorOperatingSystemVersion', 'MajorImageVersion', 'MinorImageVersion',\n",
              "       'MajorSubsystemVersion', 'MinorSubsystemVersion', 'SizeOfImage',\n",
              "       'SizeOfHeaders', 'CheckSum', 'Subsystem', 'DllCharacteristics',\n",
              "       'SizeOfStackReserve', 'SizeOfStackCommit', 'SizeOfHeapReserve',\n",
              "       'SizeOfHeapCommit', 'LoaderFlags', 'NumberOfRvaAndSizes', 'SectionsNb',\n",
              "       'SectionsMeanEntropy', 'SectionsMinEntropy', 'SectionsMaxEntropy',\n",
              "       'SectionsMeanRawsize', 'SectionsMinRawsize', 'SectionMaxRawsize',\n",
              "       'SectionsMeanVirtualsize', 'SectionsMinVirtualsize',\n",
              "       'SectionMaxVirtualsize', 'ImportsNbDLL', 'ImportsNb',\n",
              "       'ImportsNbOrdinal', 'ExportNb', 'ResourcesNb', 'ResourcesMeanEntropy',\n",
              "       'ResourcesMinEntropy', 'ResourcesMaxEntropy', 'ResourcesMeanSize',\n",
              "       'ResourcesMinSize', 'ResourcesMaxSize', 'LoadConfigurationSize',\n",
              "       'VersionInformationSize', 'legitimate'],\n",
              "      dtype='object')"
            ]
          },
          "metadata": {},
          "execution_count": 5
        }
      ]
    },
    {
      "cell_type": "markdown",
      "metadata": {
        "id": "parallel-asthma"
      },
      "source": [
        "- Name : 제외\n",
        "- md5 : hash value 제외"
      ],
      "id": "parallel-asthma"
    },
    {
      "cell_type": "code",
      "metadata": {
        "id": "formed-spouse"
      },
      "source": [
        "df = df.iloc[:, 2:]"
      ],
      "id": "formed-spouse",
      "execution_count": 6,
      "outputs": []
    },
    {
      "cell_type": "code",
      "metadata": {
        "colab": {
          "base_uri": "https://localhost:8080/"
        },
        "id": "agricultural-sentence",
        "outputId": "a94443ef-d67f-4270-d92e-2edbd8b0fc61"
      },
      "source": [
        "df.shape"
      ],
      "id": "agricultural-sentence",
      "execution_count": 7,
      "outputs": [
        {
          "output_type": "execute_result",
          "data": {
            "text/plain": [
              "(100000, 55)"
            ]
          },
          "metadata": {},
          "execution_count": 7
        }
      ]
    },
    {
      "cell_type": "code",
      "metadata": {
        "id": "experimental-latest"
      },
      "source": [
        "y = df.pop('legitimate').values\n",
        "X = df.values"
      ],
      "id": "experimental-latest",
      "execution_count": 8,
      "outputs": []
    },
    {
      "cell_type": "code",
      "metadata": {
        "colab": {
          "base_uri": "https://localhost:8080/"
        },
        "id": "wooden-afghanistan",
        "outputId": "fba4de5c-97de-488a-bdc1-ea43c021b417"
      },
      "source": [
        "X.shape, y.shape"
      ],
      "id": "wooden-afghanistan",
      "execution_count": 9,
      "outputs": [
        {
          "output_type": "execute_result",
          "data": {
            "text/plain": [
              "((100000, 54), (100000,))"
            ]
          },
          "metadata": {},
          "execution_count": 9
        }
      ]
    },
    {
      "cell_type": "code",
      "metadata": {
        "colab": {
          "base_uri": "https://localhost:8080/"
        },
        "id": "answering-feeling",
        "outputId": "1f0afaaf-d4db-494a-d202-c8a4e6bd9603"
      },
      "source": [
        "X_train, X_test, y_train, y_test = train_test_split(X, y, test_size=0.2, random_state=0)\n",
        "\n",
        "X_train.shape, X_test.shape, y_train.shape, y_test.shape"
      ],
      "id": "answering-feeling",
      "execution_count": 10,
      "outputs": [
        {
          "output_type": "execute_result",
          "data": {
            "text/plain": [
              "((80000, 54), (20000, 54), (80000,), (20000,))"
            ]
          },
          "metadata": {},
          "execution_count": 10
        }
      ]
    },
    {
      "cell_type": "code",
      "metadata": {
        "id": "comfortable-ideal"
      },
      "source": [
        "sc = StandardScaler()\n",
        "X_train = sc.fit_transform(X_train)\n",
        "X_test  = sc.transform(X_test)"
      ],
      "id": "comfortable-ideal",
      "execution_count": 11,
      "outputs": []
    },
    {
      "cell_type": "code",
      "metadata": {
        "id": "exterior-guyana"
      },
      "source": [
        "model = tf.keras.Sequential()\n",
        "\n",
        "model.add(Dense(64, input_shape=(54,), activation=\"relu\"))\n",
        "model.add(Dense(32, activation=\"relu\"))\n",
        "model.add(Dense(1, activation=\"sigmoid\"))"
      ],
      "id": "exterior-guyana",
      "execution_count": 12,
      "outputs": []
    },
    {
      "cell_type": "code",
      "metadata": {
        "colab": {
          "base_uri": "https://localhost:8080/"
        },
        "id": "frank-divide",
        "outputId": "52e5d502-dc7e-4688-a519-df0bb428c6d7"
      },
      "source": [
        "model.summary()"
      ],
      "id": "frank-divide",
      "execution_count": 13,
      "outputs": [
        {
          "output_type": "stream",
          "name": "stdout",
          "text": [
            "Model: \"sequential\"\n",
            "_________________________________________________________________\n",
            " Layer (type)                Output Shape              Param #   \n",
            "=================================================================\n",
            " dense (Dense)               (None, 64)                3520      \n",
            "                                                                 \n",
            " dense_1 (Dense)             (None, 32)                2080      \n",
            "                                                                 \n",
            " dense_2 (Dense)             (None, 1)                 33        \n",
            "                                                                 \n",
            "=================================================================\n",
            "Total params: 5,633\n",
            "Trainable params: 5,633\n",
            "Non-trainable params: 0\n",
            "_________________________________________________________________\n"
          ]
        }
      ]
    },
    {
      "cell_type": "code",
      "metadata": {
        "id": "false-intervention"
      },
      "source": [
        "model.compile(loss='binary_crossentropy', optimizer='adam', metrics=[\"accuracy\"])"
      ],
      "id": "false-intervention",
      "execution_count": 14,
      "outputs": []
    },
    {
      "cell_type": "code",
      "metadata": {
        "colab": {
          "base_uri": "https://localhost:8080/"
        },
        "id": "greek-alfred",
        "scrolled": true,
        "outputId": "661f920f-ff2a-4d41-ccb5-45c66275da8d"
      },
      "source": [
        "history = model.fit(X_train, y_train, epochs=20, \n",
        "                    validation_data=(X_test, y_test))"
      ],
      "id": "greek-alfred",
      "execution_count": 15,
      "outputs": [
        {
          "output_type": "stream",
          "name": "stdout",
          "text": [
            "Epoch 1/20\n",
            "2500/2500 [==============================] - 8s 2ms/step - loss: 0.0610 - accuracy: 0.9835 - val_loss: 0.0400 - val_accuracy: 0.9884\n",
            "Epoch 2/20\n",
            "2500/2500 [==============================] - 6s 2ms/step - loss: 0.0388 - accuracy: 0.9888 - val_loss: 0.0369 - val_accuracy: 0.9894\n",
            "Epoch 3/20\n",
            "2500/2500 [==============================] - 5s 2ms/step - loss: 0.0338 - accuracy: 0.9891 - val_loss: 0.0326 - val_accuracy: 0.9899\n",
            "Epoch 4/20\n",
            "2500/2500 [==============================] - 5s 2ms/step - loss: 0.0310 - accuracy: 0.9898 - val_loss: 0.0317 - val_accuracy: 0.9896\n",
            "Epoch 5/20\n",
            "2500/2500 [==============================] - 5s 2ms/step - loss: 0.0306 - accuracy: 0.9901 - val_loss: 0.0307 - val_accuracy: 0.9905\n",
            "Epoch 6/20\n",
            "2500/2500 [==============================] - 5s 2ms/step - loss: 0.0277 - accuracy: 0.9901 - val_loss: 0.0295 - val_accuracy: 0.9907\n",
            "Epoch 7/20\n",
            "2500/2500 [==============================] - 5s 2ms/step - loss: 0.0262 - accuracy: 0.9910 - val_loss: 0.0291 - val_accuracy: 0.9905\n",
            "Epoch 8/20\n",
            "2500/2500 [==============================] - 5s 2ms/step - loss: 0.0255 - accuracy: 0.9913 - val_loss: 0.0283 - val_accuracy: 0.9914\n",
            "Epoch 9/20\n",
            "2500/2500 [==============================] - 6s 2ms/step - loss: 0.0248 - accuracy: 0.9915 - val_loss: 0.0335 - val_accuracy: 0.9898\n",
            "Epoch 10/20\n",
            "2500/2500 [==============================] - 5s 2ms/step - loss: 0.0234 - accuracy: 0.9918 - val_loss: 0.0286 - val_accuracy: 0.9919\n",
            "Epoch 11/20\n",
            "2500/2500 [==============================] - 5s 2ms/step - loss: 0.0231 - accuracy: 0.9920 - val_loss: 0.0283 - val_accuracy: 0.9916\n",
            "Epoch 12/20\n",
            "2500/2500 [==============================] - 5s 2ms/step - loss: 0.0222 - accuracy: 0.9923 - val_loss: 0.0294 - val_accuracy: 0.9912\n",
            "Epoch 13/20\n",
            "2500/2500 [==============================] - 5s 2ms/step - loss: 0.0215 - accuracy: 0.9927 - val_loss: 0.0270 - val_accuracy: 0.9912\n",
            "Epoch 14/20\n",
            "2500/2500 [==============================] - 5s 2ms/step - loss: 0.0213 - accuracy: 0.9928 - val_loss: 0.0281 - val_accuracy: 0.9913\n",
            "Epoch 15/20\n",
            "2500/2500 [==============================] - 5s 2ms/step - loss: 0.0205 - accuracy: 0.9929 - val_loss: 0.0283 - val_accuracy: 0.9919\n",
            "Epoch 16/20\n",
            "2500/2500 [==============================] - 5s 2ms/step - loss: 0.0207 - accuracy: 0.9928 - val_loss: 0.0281 - val_accuracy: 0.9914\n",
            "Epoch 17/20\n",
            "2500/2500 [==============================] - 5s 2ms/step - loss: 0.0192 - accuracy: 0.9931 - val_loss: 0.0282 - val_accuracy: 0.9914\n",
            "Epoch 18/20\n",
            "2500/2500 [==============================] - 5s 2ms/step - loss: 0.0194 - accuracy: 0.9934 - val_loss: 0.0284 - val_accuracy: 0.9911\n",
            "Epoch 19/20\n",
            "2500/2500 [==============================] - 5s 2ms/step - loss: 0.0186 - accuracy: 0.9934 - val_loss: 0.0271 - val_accuracy: 0.9922\n",
            "Epoch 20/20\n",
            "2500/2500 [==============================] - 5s 2ms/step - loss: 0.0180 - accuracy: 0.9935 - val_loss: 0.0284 - val_accuracy: 0.9912\n"
          ]
        }
      ]
    },
    {
      "cell_type": "code",
      "metadata": {
        "colab": {
          "base_uri": "https://localhost:8080/"
        },
        "id": "molecular-interaction",
        "outputId": "33a0e6fe-0684-42c1-d27f-a481c428eced"
      },
      "source": [
        "score = model.evaluate(X_test, y_test, verbose=0)\n",
        "\n",
        "print(model.metrics_names)\n",
        "print(\"Test score : {:.2f}\".format(score[0]))\n",
        "print(\"Test accuracy : {:.2f}\".format(score[1]))"
      ],
      "id": "molecular-interaction",
      "execution_count": 16,
      "outputs": [
        {
          "output_type": "stream",
          "name": "stdout",
          "text": [
            "['loss', 'accuracy']\n",
            "Test score : 0.03\n",
            "Test accuracy : 0.99\n"
          ]
        }
      ]
    },
    {
      "cell_type": "code",
      "metadata": {
        "colab": {
          "base_uri": "https://localhost:8080/"
        },
        "id": "preceding-norwegian",
        "outputId": "18ba6a7e-7d9d-4f87-f559-b44773939b91"
      },
      "source": [
        "y_pred = model.predict(X_test)[:, 0] > 0.5\n",
        "y_pred"
      ],
      "id": "preceding-norwegian",
      "execution_count": 17,
      "outputs": [
        {
          "output_type": "execute_result",
          "data": {
            "text/plain": [
              "array([False, False,  True, ...,  True,  True, False])"
            ]
          },
          "metadata": {},
          "execution_count": 17
        }
      ]
    },
    {
      "cell_type": "code",
      "metadata": {
        "colab": {
          "base_uri": "https://localhost:8080/"
        },
        "id": "august-grill",
        "outputId": "420c0d99-c1dd-45f7-bb23-1c369a05718d"
      },
      "source": [
        "y_test"
      ],
      "id": "august-grill",
      "execution_count": 18,
      "outputs": [
        {
          "output_type": "execute_result",
          "data": {
            "text/plain": [
              "array([0, 0, 1, ..., 1, 1, 0])"
            ]
          },
          "metadata": {},
          "execution_count": 18
        }
      ]
    },
    {
      "cell_type": "code",
      "metadata": {
        "colab": {
          "base_uri": "https://localhost:8080/"
        },
        "id": "handed-opinion",
        "outputId": "a600a3f0-7c52-45fb-9659-ed4c23ff14d9"
      },
      "source": [
        "from sklearn.metrics import balanced_accuracy_score\n",
        "from sklearn.metrics import accuracy_score, precision_score, recall_score\n",
        "\n",
        "print(\"accuracy: {:.2f}\".format(accuracy_score(y_test, y_pred)))\n",
        "print(\"balanced_accuracy: {:.2f}\".format(balanced_accuracy_score(y_test, y_pred)))\n",
        "print(\"precision: {:.2f}\".format(precision_score(y_test, y_pred)))\n",
        "print(\"recall: {:.2f}\".format(recall_score(y_test, y_pred)))"
      ],
      "id": "handed-opinion",
      "execution_count": 19,
      "outputs": [
        {
          "output_type": "stream",
          "name": "stdout",
          "text": [
            "accuracy: 0.99\n",
            "balanced_accuracy: 0.99\n",
            "precision: 0.98\n",
            "recall: 0.99\n"
          ]
        }
      ]
    },
    {
      "cell_type": "code",
      "metadata": {
        "colab": {
          "base_uri": "https://localhost:8080/",
          "height": 313
        },
        "id": "forced-visibility",
        "outputId": "9135c3b3-abdc-4b09-961b-b14b2b0f23ab"
      },
      "source": [
        "plt.figure(figsize=(12,4))\n",
        "plt.subplot(1, 2, 1)\n",
        "plt.plot(history.history['accuracy'])\n",
        "plt.plot(history.history['val_accuracy'])\n",
        "plt.title('model accuracy')\n",
        "plt.xlabel('epoch')\n",
        "plt.ylabel('accuracy')\n",
        "plt.legend(['train', 'test'])\n",
        "\n",
        "plt.subplot(1, 2, 2)\n",
        "plt.plot(history.history['loss'])\n",
        "plt.plot(history.history['val_loss'])\n",
        "plt.title('model loss')\n",
        "plt.xlabel('epoch')\n",
        "plt.ylabel('loss')\n",
        "plt.legend(['train', 'test'])"
      ],
      "id": "forced-visibility",
      "execution_count": 20,
      "outputs": [
        {
          "output_type": "execute_result",
          "data": {
            "text/plain": [
              "<matplotlib.legend.Legend at 0x7f4954771fd0>"
            ]
          },
          "metadata": {},
          "execution_count": 20
        },
        {
          "output_type": "display_data",
          "data": {
            "image/png": "[encoded data removed]",
            "text/plain": [
              "<Figure size 864x288 with 2 Axes>"
            ]
          },
          "metadata": {
            "needs_background": "light"
          }
        }
      ]
    },
    {
      "cell_type": "markdown",
      "metadata": {
        "id": "planned-compression"
      },
      "source": [
        "### confusion matrix"
      ],
      "id": "planned-compression"
    },
    {
      "cell_type": "code",
      "metadata": {
        "colab": {
          "base_uri": "https://localhost:8080/",
          "height": 283
        },
        "id": "compatible-mambo",
        "outputId": "710bee13-3ac2-45be-e538-a29bd6510bef"
      },
      "source": [
        "from sklearn.metrics import confusion_matrix\n",
        "import seaborn as sns\n",
        "\n",
        "cm = confusion_matrix(y_test, y_pred)\n",
        "\n",
        "ax = sns.heatmap(cm, annot=True, fmt='d')\n",
        "ax.xaxis.set_ticklabels(['malware', 'legitimate'])\n",
        "ax.yaxis.set_ticklabels(['malware', 'legitimate'])"
      ],
      "id": "compatible-mambo",
      "execution_count": 23,
      "outputs": [
        {
          "output_type": "execute_result",
          "data": {
            "text/plain": [
              "[Text(0, 0.5, 'malware'), Text(0, 1.5, 'legitimate')]"
            ]
          },
          "metadata": {},
          "execution_count": 23
        },
        {
          "output_type": "display_data",
          "data": {
            "image/png": "[encoded data removed]",
            "text/plain": [
              "<Figure size 432x288 with 2 Axes>"
            ]
          },
          "metadata": {
            "needs_background": "light"
          }
        }
      ]
    },
    {
      "cell_type": "code",
      "metadata": {
        "id": "automated-arrival"
      },
      "source": [
        ""
      ],
      "id": "automated-arrival",
      "execution_count": null,
      "outputs": []
    }
  ]
}