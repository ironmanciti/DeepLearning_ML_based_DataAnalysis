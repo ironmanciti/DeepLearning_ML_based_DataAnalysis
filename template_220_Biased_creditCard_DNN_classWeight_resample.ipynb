{
 "cells": [
  {
   "cell_type": "markdown",
   "metadata": {
    "id": "SyQuWKAJt3xq"
   },
   "source": [
    "# 220. Highly Imbalanced Fraud Data 의 분류\n",
    "## DNN 이용, Class Weight 조정, OverSampling\n",
    "## ROC 비교\n",
    "\n",
    "- [Credit Card Fraud Detection](https://www.kaggle.com/mlg-ulb/creditcardfraud) - Kaggle\n",
    "\n",
    "\n",
    "- Highly Imbalanced Dataset - dataset는 2013 년 9 월 유럽 카드 소지자 신용 카드 거래로 만들었습니다. 이 dataset는 2 일 동안 발생한 거래를 보여 주며, 284,807 건의 거래 중 492 건의 fraud가 있습니다. 데이터세트는 매우 불균형하며 포지티브 클래스(사기)는 모든 거래의 0.172 %를 차지합니다.\n",
    "\n",
    "\n",
    "- 이 dataset는 PCA 변환의 결과인 숫자 입력 변수만 포함합니다. 안타깝게도 기밀 유지 문제로 인해 데이터에 대한 원래 feature와 추가 background 정보를 제공할 수 없습니다. 특성 V1, V2, ... V28은 PCA로 얻은 principal component이며 PCA로 변환되지 않은 유일한 기능은 'Time' 과 'Amount' 입니다. '시간' 특성은 각 트랜잭션과 데이터 세트의 첫 번째 트랜잭션 사이에 경과된 시간(초) 입니다. 'Amount' 특성은 거래금액 입니다.  'Class'는 사기의 경우 1, 그렇지 않으면 0 입니다.\n",
    "\n",
    "\n",
    "- 클래스 불균형 비율이 주어지면 Area Under the Precision-Recall Curve (AUPRC)을 사용하여 정확도를 측정하는 것이 좋습니다. 불균형 data 분류에는 confusion matrix 정확도가 의미가 없습니다."
   ]
  },
  {
   "cell_type": "markdown",
   "metadata": {
    "id": "IdW269nBt3x2"
   },
   "source": [
    "### Download the Kaggle Credit Card Fraud data set\n",
    "\n",
    "- [kaggle creditcard csv file](https://storage.googleapis.com/download.tensorflow.org/data/creditcard.csv)"
   ]
  },
  {
   "cell_type": "markdown",
   "metadata": {
    "id": "738aexZRt3x-"
   },
   "source": [
    "### 클래스 레이블 불균형 조사"
   ]
  },
  {
   "cell_type": "markdown",
   "metadata": {
    "id": "USH9Dhvjt3yG"
   },
   "source": [
    "### Clean, split and normalize the data"
   ]
  },
  {
   "cell_type": "markdown",
   "metadata": {
    "id": "KJMpFuR9xSSx"
   },
   "source": [
    "- `Time` column을 일중 시간으로 변환. 첫번 transaction 이 00:00:00 에 시작되었으므로, `(경과한 second)/3600초 % 24`로 시간 변환 \n",
    "\n",
    "- `Amount`를 log 값으로 변환"
   ]
  },
  {
   "cell_type": "markdown",
   "metadata": {
    "id": "VbYCqbc-xX1T"
   },
   "source": [
    "- log 변환된 Amount의 분포 확인"
   ]
  },
  {
   "cell_type": "markdown",
   "metadata": {
    "id": "PNahSRLoxeAx"
   },
   "source": [
    "- label data 작성"
   ]
  },
  {
   "cell_type": "markdown",
   "metadata": {
    "id": "sRF5yi-xxjtc"
   },
   "source": [
    "- input data 작성"
   ]
  },
  {
   "cell_type": "markdown",
   "metadata": {
    "id": "phza3y0DxrXv"
   },
   "source": [
    "- Class 분포 시각화"
   ]
  },
  {
   "cell_type": "markdown",
   "metadata": {
    "id": "YE82-HNex0Bv"
   },
   "source": [
    "label 1 의 비율"
   ]
  },
  {
   "cell_type": "markdown",
   "metadata": {
    "id": "tWKJ5MIhx6g2"
   },
   "source": [
    "dataset 을 Training 과 Test set 으로 분리"
   ]
  },
  {
   "cell_type": "markdown",
   "metadata": {
    "id": "vQoKR0viyEQT"
   },
   "source": [
    "- train, test 내의 class 분포가 원래의 분포와 유사함을 확인"
   ]
  },
  {
   "cell_type": "markdown",
   "metadata": {
    "id": "3awDKXA1yTde"
   },
   "source": [
    "### Feature Scaling"
   ]
  },
  {
   "cell_type": "markdown",
   "metadata": {
    "id": "V7qJCSiht3yi"
   },
   "source": [
    "### metrics 정의\n",
    "\n",
    "- Accuracy 로 예측하면 항상 99.8%+ 정확성을 달성하므로, 다양한 metrics 활용하여 측정"
   ]
  },
  {
   "cell_type": "markdown",
   "metadata": {
    "id": "ejjpZM9Kt3ym"
   },
   "source": [
    "## Simple NN model 정의 - 이진 분류 모델"
   ]
  },
  {
   "cell_type": "markdown",
   "metadata": {
    "id": "YuB7VrmAt3yr"
   },
   "source": [
    "## Baseline model build"
   ]
  },
  {
   "cell_type": "markdown",
   "metadata": {
    "id": "B-Ftgdtct3zb"
   },
   "source": [
    "## Train the model"
   ]
  },
  {
   "cell_type": "markdown",
   "metadata": {
    "id": "EEf7OlXQt3zf"
   },
   "source": [
    "## Plot trainig history"
   ]
  },
  {
   "cell_type": "markdown",
   "metadata": {
    "id": "PROwAK95t3zl"
   },
   "source": [
    "## Evaluate Metric\n",
    "\n",
    "- confusion matrix 를 이용하여 metrics 요약"
   ]
  },
  {
   "cell_type": "markdown",
   "metadata": {
    "id": "LWD-EIM7t3zt"
   },
   "source": [
    "### Test dataset 으로 evaluate 하고, confusion matrix 를 그린다"
   ]
  },
  {
   "cell_type": "markdown",
   "metadata": {
    "id": "AUmSfpyzl0m1"
   },
   "source": [
    "## 방법1 - minority class를 Oversample 하고 majority class를 Undersample\n",
    "\n",
    "- Over/Under Sampling 기법으로 minority data 의 수를 증가시켜 새로이 fitting"
   ]
  },
  {
   "cell_type": "markdown",
   "metadata": {
    "id": "vWQJN7nAl-Tw"
   },
   "source": [
    "RandomOverSampler(sampling_strategy=0.1)\n",
    "\n",
    "- 리샘플링 후 다수 클래스의 샘플 수에 대한 소수 클래스의 샘플 수의 원하는 비율  "
   ]
  },
  {
   "cell_type": "markdown",
   "metadata": {
    "id": "ZmP271v2mFuV"
   },
   "source": [
    "RandomUnderSampler(sampling_strategy=0.5)\n",
    "\n",
    "- 리샘플링 후 다수 클래스의 샘플 수에 대한 소수 클래스의 샘플 수의 원하는 비율"
   ]
  },
  {
   "cell_type": "markdown",
   "metadata": {
    "id": "soHwmUzmmSNV"
   },
   "source": [
    "### 2:1%로 resampling된 dataset 에 대해 new model 을 fitting"
   ]
  },
  {
   "cell_type": "markdown",
   "metadata": {
    "id": "8F2krKGSt3zx"
   },
   "source": [
    "## Plot ROC"
   ]
  },
  {
   "cell_type": "markdown",
   "metadata": {
    "id": "_d83CAb9t3z5"
   },
   "source": [
    "리콜 및 ROC 곡선 아래 면적 (AUC)은 원하는만큼 높지 않습니다. 분류기는 종종 정밀도와 재현율을 모두 극대화하려고 할 때 어려움에 직면합니다. 특히 불균형 데이터 세트로 작업 할 때는 더욱 그렇습니다. "
   ]
  },
  {
   "cell_type": "markdown",
   "metadata": {
    "id": "-P-iJJ1pt3z5"
   },
   "source": [
    "## 방법 2 - Class Weight 조정\n",
    "\n",
    "사용할 positive 샘플이 많지 않기 때문에 가용한 적은 수의 sample 에 classifier 가 더 비중을 두도록 할 수 있다. \n",
    "\n",
    "step1 - 레이블 및 관련 가중치로 dictionary 정의 \n",
    "```\n",
    "class_weight = {0: 1.,\n",
    "                1: 50.,\n",
    "                2: 2.}\n",
    "```                \n",
    "step2 - dictionary를 매개 변수로 공급:  \n",
    "```\n",
    "    model.fit(X_train, Y_train, nb_epoch=5, batch_size=32, class_weight=class_weight)\n",
    "```\n",
    "\n",
    "- class 1 하나를 50 개의 classs 0 로 취급 $\\rightarrow$ loss function 계산 시 class_weight 에 지정된 대로 가중 평균"
   ]
  },
  {
   "cell_type": "markdown",
   "metadata": {
    "id": "_p87Ma2CvgsM"
   },
   "source": [
    "class_weight  \n",
    "\n",
    "    학습 클래스의 샘플에 대한 모델 손실에 적용할 가중치에 대한 사전 매핑 클래스 인덱스(정수). 이는 모델이 과소 표현된 클래스의 샘플에 \"더 많은주의를 기울이도록\"지시하는 데 유용."
   ]
  },
  {
   "cell_type": "markdown",
   "metadata": {
    "id": "FF42Tjcdt30K"
   },
   "source": [
    "## Plot the ROC"
   ]
  }
 ],
 "metadata": {
  "accelerator": "GPU",
  "colab": {
   "collapsed_sections": [],
   "machine_shape": "hm",
   "name": "220_Biased_creditCard_DNN_classWeight_resample.ipynb",
   "provenance": []
  },
  "kernelspec": {
   "display_name": "Python 3",
   "language": "python",
   "name": "python3"
  },
  "language_info": {
   "codemirror_mode": {
    "name": "ipython",
    "version": 3
   },
   "file_extension": ".py",
   "mimetype": "text/x-python",
   "name": "python",
   "nbconvert_exporter": "python",
   "pygments_lexer": "ipython3",
   "version": "3.7.3"
  }
 },
 "nbformat": 4,
 "nbformat_minor": 1
}
