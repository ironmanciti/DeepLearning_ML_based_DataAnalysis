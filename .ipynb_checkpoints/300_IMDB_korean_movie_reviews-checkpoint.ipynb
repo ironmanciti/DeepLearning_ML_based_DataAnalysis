{
 "cells": [
  {
   "cell_type": "markdown",
   "metadata": {
    "id": "76TRr3twsSGR"
   },
   "source": [
    "# 영화평 Text 분류 - Naver 영화평 이용"
   ]
  },
  {
   "cell_type": "code",
   "execution_count": 1,
   "metadata": {
    "id": "hg6PPQxkqBaF"
   },
   "outputs": [],
   "source": [
    "import tensorflow as tf\n",
    "from tensorflow.keras.layers import Dense, LSTM, Embedding, Bidirectional\n",
    "from tensorflow.keras.models import Sequential\n",
    "from tensorflow.keras.preprocessing.text import Tokenizer\n",
    "from tensorflow.keras.preprocessing.sequence import pad_sequences\n",
    "import tensorflow_datasets as tfds\n",
    "import numpy as np\n",
    "import matplotlib.pyplot as plt\n",
    "import re"
   ]
  },
  {
   "cell_type": "code",
   "execution_count": 2,
   "metadata": {
    "id": "0CP10pwVg9Bq"
   },
   "outputs": [],
   "source": [
    "def read_data(filename):    \n",
    "    with open(filename, 'r') as f:\n",
    "        data = [line.split('\\t') for line in f.read().splitlines()]        \n",
    "        data = data[1:]   # header 제외 #    \n",
    "    return data "
   ]
  },
  {
   "cell_type": "code",
   "execution_count": 3,
   "metadata": {
    "colab": {
     "base_uri": "https://localhost:8080/"
    },
    "id": "KJ1XvPXSbFgG",
    "outputId": "1ef85090-6384-406a-ccd9-8bb9b221dd67"
   },
   "outputs": [
    {
     "name": "stdout",
     "output_type": "stream",
     "text": [
      "Downloading...\n",
      "From: https://drive.google.com/uc?id=1HH-AhSeHCsxPn1uJSqBx2rHdkNmvGkfW\n",
      "To: /Users/ohyoungjea/OneDrive/DeepLearning_ML_based_DataAnalysis/ratings_train.txt\n",
      "100%|██████████████████████████████████████| 14.6M/14.6M [00:02<00:00, 5.99MB/s]\n",
      "Downloading...\n",
      "From: https://drive.google.com/uc?id=1HJsE-NahezCBMuaIHXJq5msB5WeNTEwv\n",
      "To: /Users/ohyoungjea/OneDrive/DeepLearning_ML_based_DataAnalysis/ratings_test.txt\n",
      "100%|██████████████████████████████████████| 4.89M/4.89M [00:02<00:00, 2.35MB/s]\n"
     ]
    }
   ],
   "source": [
    "!gdown --id 1HH-AhSeHCsxPn1uJSqBx2rHdkNmvGkfW\n",
    "!gdown --id 1HJsE-NahezCBMuaIHXJq5msB5WeNTEwv"
   ]
  },
  {
   "cell_type": "code",
   "execution_count": 8,
   "metadata": {
    "colab": {
     "base_uri": "https://localhost:8080/"
    },
    "id": "5RSL0c-Og9Br",
    "outputId": "b070404e-020a-4337-f65d-7bbe8eb5e20c"
   },
   "outputs": [
    {
     "name": "stdout",
     "output_type": "stream",
     "text": [
      "150000\n",
      "50000\n"
     ]
    }
   ],
   "source": [
    "train_data = read_data('/content/ratings_train.txt') \n",
    "test_data = read_data('/content/ratings_test.txt') \n",
    "\n",
    "print(len(train_data))\n",
    "print(len(test_data))"
   ]
  },
  {
   "cell_type": "code",
   "execution_count": 9,
   "metadata": {
    "colab": {
     "base_uri": "https://localhost:8080/"
    },
    "id": "fA8iDaQKg9Bt",
    "outputId": "d7cf833f-5655-45b3-ff55-3890452b1e7a"
   },
   "outputs": [
    {
     "name": "stdout",
     "output_type": "stream",
     "text": [
      "150000 150000\n",
      "50000 50000\n"
     ]
    }
   ],
   "source": [
    "def preprocessing(text):\n",
    "    text = re.sub('\\\\\\\\n', ' ', text)\n",
    "    text = re.sub('[^가-힣ㄱ-ㅎㅏ-ㅣa-zA-Z]', ' ', text)\n",
    "    return text\n",
    "\n",
    "preprocessed_train_data = []\n",
    "preprocessed_test_data = []\n",
    "\n",
    "for row in train_data:\n",
    "    data = preprocessing(row[1])\n",
    "    preprocessed_train_data.append([data, row[2]])\n",
    "    \n",
    "for row in test_data:\n",
    "    data = preprocessing(row[1])\n",
    "    preprocessed_test_data.append([data, row[2]])\n",
    "    \n",
    "def label_text_split(list_data):\n",
    "\n",
    "    sentences = []\n",
    "    labels = []\n",
    "\n",
    "    for row in list_data:\n",
    "        labels.append(int(row[1]))\n",
    "        sentence = row[0]\n",
    "\n",
    "        sentences.append(sentence)\n",
    "    \n",
    "    return sentences, labels\n",
    "\n",
    "X_train, y_train = label_text_split(preprocessed_train_data)\n",
    "X_test, y_test = label_text_split(preprocessed_test_data)\n",
    "\n",
    "print(len(X_train), len(y_train))\n",
    "print(len(X_test), len(y_test))"
   ]
  },
  {
   "cell_type": "code",
   "execution_count": 10,
   "metadata": {
    "id": "OTkDDxf2g9Bv"
   },
   "outputs": [],
   "source": [
    "train_data = tf.data.Dataset.from_tensor_slices((X_train, y_train))\n",
    "test_data = tf.data.Dataset.from_tensor_slices((X_test, y_test))"
   ]
  },
  {
   "cell_type": "code",
   "execution_count": 11,
   "metadata": {
    "id": "MVM_B4MJg9Bw"
   },
   "outputs": [],
   "source": [
    "vocab_size = 1000\n",
    "oov_tok = \"<OOV>\"\n",
    "\n",
    "tokenizer = Tokenizer(num_words=vocab_size, oov_token=oov_tok)\n",
    "tokenizer.fit_on_texts(X_train)\n",
    "word_index = tokenizer.word_index"
   ]
  },
  {
   "cell_type": "code",
   "execution_count": 12,
   "metadata": {
    "colab": {
     "base_uri": "https://localhost:8080/"
    },
    "id": "F74mUFABg9Bx",
    "outputId": "ac585a34-ab98-46a3-a5bc-5d7dd2633ce0"
   },
   "outputs": [
    {
     "data": {
      "text/plain": [
       "(<tf.Tensor: shape=(1,), dtype=string, numpy=\n",
       " array([b'\\xec\\x95\\x84 \\xeb\\x8d\\x94\\xeb\\xb9\\x99   \\xec\\xa7\\x84\\xec\\xa7\\x9c \\xec\\xa7\\x9c\\xec\\xa6\\x9d\\xeb\\x82\\x98\\xeb\\x84\\xa4\\xec\\x9a\\x94 \\xeb\\xaa\\xa9\\xec\\x86\\x8c\\xeb\\xa6\\xac'],\n",
       "       dtype=object)>,\n",
       " <tf.Tensor: shape=(1,), dtype=int32, numpy=array([0], dtype=int32)>)"
      ]
     },
     "execution_count": 12,
     "metadata": {},
     "output_type": "execute_result"
    }
   ],
   "source": [
    "train_examples_batch, train_labels_batch = next(iter(train_data.batch(1)))\n",
    "train_examples_batch, train_labels_batch"
   ]
  },
  {
   "cell_type": "markdown",
   "metadata": {
    "id": "BnS9z6Z2qBaa"
   },
   "source": [
    "## keras.preprocessing module 을 이용하여 tokenize 및 padding\n",
    "- keras.preprocessing.text.Tokenizer  \n",
    "\n",
    "- keras.preprocessing.sequence.pad_sequence"
   ]
  },
  {
   "cell_type": "code",
   "execution_count": 13,
   "metadata": {
    "id": "gzTkP-1RqBab"
   },
   "outputs": [],
   "source": [
    "train_sentences = []\n",
    "train_labels = []\n",
    "\n",
    "test_sentences = []\n",
    "test_labels = []"
   ]
  },
  {
   "cell_type": "code",
   "execution_count": 14,
   "metadata": {
    "id": "wplxqJkSqBah"
   },
   "outputs": [],
   "source": [
    "for sent, label in train_data:\n",
    "    train_sentences.append(sent.numpy().decode('utf-8'))\n",
    "    train_labels.append(label.numpy())"
   ]
  },
  {
   "cell_type": "code",
   "execution_count": 15,
   "metadata": {
    "colab": {
     "base_uri": "https://localhost:8080/"
    },
    "id": "AwcAy3spqBak",
    "outputId": "69576896-db2d-4255-9c79-68c5df737afa"
   },
   "outputs": [
    {
     "name": "stdout",
     "output_type": "stream",
     "text": [
      "0\n",
      "한국 영화 최초로 수간하는 내용이 담긴 영화\n"
     ]
    }
   ],
   "source": [
    "print(train_labels[-1])\n",
    "print(train_sentences[-1])"
   ]
  },
  {
   "cell_type": "code",
   "execution_count": 16,
   "metadata": {
    "id": "gpNI1hILqBao"
   },
   "outputs": [],
   "source": [
    "for sent, label in test_data:\n",
    "    test_sentences.append(sent.numpy().decode('utf-8'))\n",
    "    test_labels.append(label.numpy())"
   ]
  },
  {
   "cell_type": "code",
   "execution_count": 17,
   "metadata": {
    "colab": {
     "base_uri": "https://localhost:8080/"
    },
    "id": "dPxbS4mBqBar",
    "outputId": "624ab7b3-3e2d-4646-9349-f2ada888ea22"
   },
   "outputs": [
    {
     "name": "stdout",
     "output_type": "stream",
     "text": [
      "0\n",
      "마무리는 또 왜이래\n"
     ]
    }
   ],
   "source": [
    "print(test_labels[-1])\n",
    "print(test_sentences[-1])"
   ]
  },
  {
   "cell_type": "markdown",
   "metadata": {
    "id": "cYU9_iKEqBau"
   },
   "source": [
    "## train_labels, test_labels 를 Python list 에서 numpy array 로 변환"
   ]
  },
  {
   "cell_type": "code",
   "execution_count": 18,
   "metadata": {
    "colab": {
     "base_uri": "https://localhost:8080/"
    },
    "id": "hh2ONA0GqBau",
    "outputId": "e7d42d3a-9700-455c-b342-b3458e1532a8"
   },
   "outputs": [
    {
     "name": "stdout",
     "output_type": "stream",
     "text": [
      "(150000,)\n",
      "(50000,)\n"
     ]
    }
   ],
   "source": [
    "train_labels = np.array(train_labels)\n",
    "test_labels = np.array(test_labels)\n",
    "\n",
    "print(train_labels.shape)\n",
    "print(test_labels.shape)"
   ]
  },
  {
   "cell_type": "markdown",
   "metadata": {
    "id": "cbidTe45qBax"
   },
   "source": [
    "## train_sentences, test_sentences text 를 sequence 로 변환 "
   ]
  },
  {
   "cell_type": "code",
   "execution_count": 19,
   "metadata": {
    "id": "NuJGndVkqBay"
   },
   "outputs": [],
   "source": [
    "vocab_size = 10000\n",
    "\n",
    "tokenizer = Tokenizer(num_words = vocab_size, oov_token='<OOV>')\n",
    "tokenizer.fit_on_texts(train_sentences)"
   ]
  },
  {
   "cell_type": "code",
   "execution_count": 20,
   "metadata": {
    "id": "_C3n9R4IqBa1"
   },
   "outputs": [],
   "source": [
    "train_sequences = tokenizer.texts_to_sequences(train_sentences)\n",
    "test_sequences = tokenizer.texts_to_sequences(test_sentences)"
   ]
  },
  {
   "cell_type": "code",
   "execution_count": 21,
   "metadata": {
    "colab": {
     "base_uri": "https://localhost:8080/"
    },
    "id": "GmOUcdlsBSl3",
    "outputId": "be232e07-bbea-4222-9072-e8d952bf8d9c"
   },
   "outputs": [
    {
     "name": "stdout",
     "output_type": "stream",
     "text": [
      "[25, 952, 5, 6729, 1113]\n"
     ]
    }
   ],
   "source": [
    "print(train_sequences[0])"
   ]
  },
  {
   "cell_type": "code",
   "execution_count": 22,
   "metadata": {
    "colab": {
     "base_uri": "https://localhost:8080/",
     "height": 300
    },
    "id": "lTeWFNQnqBa3",
    "outputId": "d3bc48e1-80be-40ce-f859-734faba596d7"
   },
   "outputs": [
    {
     "name": "stdout",
     "output_type": "stream",
     "text": [
      "maximun length : 47\n",
      "average length : 7.845806666666666\n"
     ]
    },
    {
     "data": {
      "image/png": "[encoded data removed]",
      "text/plain": [
       "<Figure size 432x288 with 1 Axes>"
      ]
     },
     "metadata": {
      "needs_background": "light"
     },
     "output_type": "display_data"
    }
   ],
   "source": [
    "import matplotlib.pyplot as plt\n",
    "\n",
    "plt.hist([len(s) for s in train_sequences] \n",
    "         + [len(s) for s in test_sequences], bins=50)\n",
    "\n",
    "print('maximun length : {}'.format(max(len(l) for l in train_sequences)))\n",
    "print('average length : {}'.format(sum(map(len, train_sequences))/len(train_sequences)))"
   ]
  },
  {
   "cell_type": "code",
   "execution_count": 23,
   "metadata": {
    "colab": {
     "base_uri": "https://localhost:8080/"
    },
    "id": "tH7F6F4z3kcg",
    "outputId": "4ff6a3bb-0a80-49df-dc41-9cc1723d6a9a"
   },
   "outputs": [
    {
     "data": {
      "text/plain": [
       "(array([0, 1], dtype=int32), array([75173, 74827]))"
      ]
     },
     "execution_count": 23,
     "metadata": {},
     "output_type": "execute_result"
    }
   ],
   "source": [
    "np.unique(train_labels, return_counts=True)"
   ]
  },
  {
   "cell_type": "code",
   "execution_count": 24,
   "metadata": {
    "id": "xDMrGPr1qBa5"
   },
   "outputs": [],
   "source": [
    "max_length = 30\n",
    "\n",
    "train_padded = pad_sequences(train_sequences,\n",
    "                maxlen=max_length, truncating='post', padding='post')\n",
    "\n",
    "\n",
    "test_padded = pad_sequences(test_sequences,\n",
    "                maxlen=max_length, truncating='post', padding='post')"
   ]
  },
  {
   "cell_type": "code",
   "execution_count": 25,
   "metadata": {
    "colab": {
     "base_uri": "https://localhost:8080/"
    },
    "id": "B3To4CLbqBa9",
    "outputId": "859d18f5-fefa-4adf-a1f5-0dac2bdf8965"
   },
   "outputs": [
    {
     "name": "stdout",
     "output_type": "stream",
     "text": [
      "(150000, 30)\n",
      "(50000, 30)\n"
     ]
    },
    {
     "data": {
      "text/plain": [
       "array([  25,  952,    5, 6729, 1113,    0,    0,    0,    0,    0,    0,\n",
       "          0,    0,    0,    0,    0,    0,    0,    0,    0,    0,    0,\n",
       "          0,    0,    0,    0,    0,    0,    0,    0], dtype=int32)"
      ]
     },
     "execution_count": 25,
     "metadata": {},
     "output_type": "execute_result"
    }
   ],
   "source": [
    "print(train_padded.shape)\n",
    "print(test_padded.shape)\n",
    "train_padded[0]"
   ]
  },
  {
   "cell_type": "markdown",
   "metadata": {
    "id": "J4j0WVzCqBbA"
   },
   "source": [
    "## sequence data 를 sentence 로 reverse conversion"
   ]
  },
  {
   "cell_type": "code",
   "execution_count": 26,
   "metadata": {
    "colab": {
     "base_uri": "https://localhost:8080/"
    },
    "id": "LY7UPgb6qBbB",
    "outputId": "e2e5e15c-7442-41aa-9983-2ff7de6dd53a"
   },
   "outputs": [
    {
     "name": "stdout",
     "output_type": "stream",
     "text": [
      "아 더빙 진짜 짜증나네요 목소리 <pad> <pad> <pad> <pad> <pad> <pad> <pad> <pad> <pad> <pad> <pad> <pad> <pad> <pad> <pad> <pad> <pad> <pad> <pad> <pad> <pad> <pad> <pad> <pad> <pad>\n",
      "\n",
      "아 더빙   진짜 짜증나네요 목소리\n"
     ]
    }
   ],
   "source": [
    "text = train_padded[0]\n",
    "print(' '.join([tokenizer.index_word.get(i, '<pad>') for i in text]))\n",
    "print()\n",
    "print(train_sentences[0])"
   ]
  },
  {
   "cell_type": "markdown",
   "metadata": {
    "id": "wVXJRTjVqBbD"
   },
   "source": [
    "## model define"
   ]
  },
  {
   "cell_type": "code",
   "execution_count": 27,
   "metadata": {
    "colab": {
     "base_uri": "https://localhost:8080/"
    },
    "id": "UjOwdAp2qBbE",
    "outputId": "e8baae3a-ac9f-4ae8-9d02-9d0f6a0282cd"
   },
   "outputs": [
    {
     "name": "stdout",
     "output_type": "stream",
     "text": [
      "Model: \"sequential\"\n",
      "_________________________________________________________________\n",
      " Layer (type)                Output Shape              Param #   \n",
      "=================================================================\n",
      " embedding (Embedding)       (None, None, 100)         1000000   \n",
      "                                                                 \n",
      " bidirectional (Bidirectiona  (None, 128)              84480     \n",
      " l)                                                              \n",
      "                                                                 \n",
      " dense (Dense)               (None, 64)                8256      \n",
      "                                                                 \n",
      " dense_1 (Dense)             (None, 1)                 65        \n",
      "                                                                 \n",
      "=================================================================\n",
      "Total params: 1,092,801\n",
      "Trainable params: 1,092,801\n",
      "Non-trainable params: 0\n",
      "_________________________________________________________________\n"
     ]
    }
   ],
   "source": [
    "model = Sequential([\n",
    "    Embedding(vocab_size, 100),\n",
    "    Bidirectional(tf.keras.layers.LSTM(64)),\n",
    "    Dense(64, activation='relu'),\n",
    "    Dense(1, activation='sigmoid')\n",
    "])\n",
    "\n",
    "model.compile(loss='binary_crossentropy', optimizer='adam', metrics=['accuracy'])\n",
    "model.summary()"
   ]
  },
  {
   "cell_type": "code",
   "execution_count": 28,
   "metadata": {
    "colab": {
     "base_uri": "https://localhost:8080/"
    },
    "id": "aLFmPzmsqBbG",
    "outputId": "339588c2-525c-4f81-962e-2c5706635fa2"
   },
   "outputs": [
    {
     "name": "stdout",
     "output_type": "stream",
     "text": [
      "Model: \"sequential\"\n",
      "_________________________________________________________________\n",
      " Layer (type)                Output Shape              Param #   \n",
      "=================================================================\n",
      " embedding (Embedding)       (None, None, 100)         1000000   \n",
      "                                                                 \n",
      " bidirectional (Bidirectiona  (None, 128)              84480     \n",
      " l)                                                              \n",
      "                                                                 \n",
      " dense (Dense)               (None, 64)                8256      \n",
      "                                                                 \n",
      " dense_1 (Dense)             (None, 1)                 65        \n",
      "                                                                 \n",
      "=================================================================\n",
      "Total params: 1,092,801\n",
      "Trainable params: 1,092,801\n",
      "Non-trainable params: 0\n",
      "_________________________________________________________________\n"
     ]
    }
   ],
   "source": [
    "model.summary()"
   ]
  },
  {
   "cell_type": "code",
   "execution_count": 29,
   "metadata": {
    "id": "7Lk9l0hs4z_8"
   },
   "outputs": [],
   "source": [
    "early_stop = tf.keras.callbacks.EarlyStopping(monitor='val_loss',  patience=5)"
   ]
  },
  {
   "cell_type": "code",
   "execution_count": 30,
   "metadata": {
    "colab": {
     "base_uri": "https://localhost:8080/"
    },
    "id": "hP4Mm5hTqBbI",
    "outputId": "711e4228-280f-403c-9130-de2bafb483b2"
   },
   "outputs": [
    {
     "name": "stdout",
     "output_type": "stream",
     "text": [
      "Epoch 1/30\n",
      "1172/1172 [==============================] - 16s 9ms/step - loss: 0.4403 - accuracy: 0.7758 - val_loss: 0.4090 - val_accuracy: 0.7921\n",
      "Epoch 2/30\n",
      "1172/1172 [==============================] - 9s 8ms/step - loss: 0.3720 - accuracy: 0.8154 - val_loss: 0.4063 - val_accuracy: 0.7957\n",
      "Epoch 3/30\n",
      "1172/1172 [==============================] - 9s 8ms/step - loss: 0.3420 - accuracy: 0.8285 - val_loss: 0.4158 - val_accuracy: 0.7987\n",
      "Epoch 4/30\n",
      "1172/1172 [==============================] - 9s 8ms/step - loss: 0.3160 - accuracy: 0.8409 - val_loss: 0.4344 - val_accuracy: 0.7941\n",
      "Epoch 5/30\n",
      "1172/1172 [==============================] - 10s 8ms/step - loss: 0.2907 - accuracy: 0.8527 - val_loss: 0.4783 - val_accuracy: 0.7919\n",
      "1172/1172 [==============================] - 9s 8ms/step - loss: 0.2662 - accuracy: 0.8632 - val_loss: 0.5200 - val_accuracy: 0.7884\n",
      "Epoch 7/30\n",
      "1172/1172 [==============================] - 9s 8ms/step - loss: 0.2422 - accuracy: 0.8743 - val_loss: 0.5792 - val_accuracy: 0.7736\n",
      "72.62166285514832\n"
     ]
    }
   ],
   "source": [
    "import time\n",
    "s = time.time()\n",
    "\n",
    "num_epochs = 30\n",
    "history = model.fit(train_padded, train_labels, \n",
    "                    epochs=num_epochs, batch_size=128,\n",
    "          validation_data=(test_padded, test_labels), \n",
    "                    verbose=1, callbacks=[early_stop])\n",
    "\n",
    "print(time.time() - s)"
   ]
  },
  {
   "cell_type": "code",
   "execution_count": 31,
   "metadata": {
    "colab": {
     "base_uri": "https://localhost:8080/"
    },
    "id": "Sgu3j1Cbg9CA",
    "outputId": "50a4c250-15e4-41d0-e956-fd4ab5e51652"
   },
   "outputs": [
    {
     "name": "stdout",
     "output_type": "stream",
     "text": [
      "loss: 0.579\n",
      "accuracy: 0.774\n"
     ]
    }
   ],
   "source": [
    "results = model.evaluate(test_padded, test_labels, verbose=0)\n",
    "\n",
    "for name, value in zip(model.metrics_names, results):\n",
    "  print(\"%s: %.3f\" % (name, value))"
   ]
  },
  {
   "cell_type": "code",
   "execution_count": 32,
   "metadata": {
    "colab": {
     "base_uri": "https://localhost:8080/",
     "height": 279
    },
    "id": "ZPOjnfwkqBbK",
    "outputId": "fe4c5276-1762-48fd-ada3-0482a30f6291"
   },
   "outputs": [
    {
     "data": {
      "image/png": "[encoded data removed]",
      "text/plain": [
       "<Figure size 864x288 with 2 Axes>"
      ]
     },
     "metadata": {
      "needs_background": "light"
     },
     "output_type": "display_data"
    }
   ],
   "source": [
    "fig, (ax1, ax2) = plt.subplots(1, 2, figsize=(12, 4))\n",
    "\n",
    "ax1.plot(history.history['accuracy'])\n",
    "ax1.plot(history.history['val_accuracy'])\n",
    "ax1.set_xlabel('Epochs')\n",
    "ax1.set_ylabel('accuracy')\n",
    "ax1.legend(['accuarcy', 'val_accuracy'])\n",
    "\n",
    "ax2.plot(history.history['loss'])\n",
    "ax2.plot(history.history['val_loss'])\n",
    "ax2.set_xlabel('Epochs')\n",
    "ax2.set_ylabel('loss')\n",
    "ax2.legend(['loss', 'val_loss'])\n",
    "plt.show()"
   ]
  },
  {
   "cell_type": "code",
   "execution_count": 33,
   "metadata": {
    "id": "1z-r1z0KqBbM"
   },
   "outputs": [],
   "source": [
    "# sample_text = ['다시는 보고 싶지 않은 짜증나는 영화']\n",
    "sample_text = ['권하고 싶지 않은 지루한 영화']\n",
    "# sample_text = ['정말 훌륭한 영화였다']\n",
    "sample_seq = tokenizer.texts_to_sequences(sample_text)\n",
    "sample_padded = pad_sequences(sample_seq, maxlen=max_length, padding='post', truncating='post')"
   ]
  },
  {
   "cell_type": "code",
   "execution_count": 34,
   "metadata": {
    "colab": {
     "base_uri": "https://localhost:8080/"
    },
    "id": "q0ZU4YQ7qBbO",
    "outputId": "bf0617a0-2cf2-4da4-ea84-b8ee0ae0ac47"
   },
   "outputs": [
    {
     "data": {
      "text/plain": [
       "['negative']"
      ]
     },
     "execution_count": 34,
     "metadata": {},
     "output_type": "execute_result"
    }
   ],
   "source": [
    "['positive' if model.predict([sample_padded]) >= 0.5 else 'negative']"
   ]
  },
  {
   "cell_type": "code",
   "execution_count": null,
   "metadata": {
    "id": "ohq4VNX7tEKJ"
   },
   "outputs": [],
   "source": []
  }
 ],
 "metadata": {
  "accelerator": "GPU",
  "colab": {
   "collapsed_sections": [],
   "name": "300_IMDB_korean_movie_reviews.ipynb",
   "provenance": []
  },
  "kernelspec": {
   "display_name": "Python 3",
   "language": "python",
   "name": "python3"
  },
  "language_info": {
   "codemirror_mode": {
    "name": "ipython",
    "version": 3
   },
   "file_extension": ".py",
   "mimetype": "text/x-python",
   "name": "python",
   "nbconvert_exporter": "python",
   "pygments_lexer": "ipython3",
   "version": "3.7.10"
  }
 },
 "nbformat": 4,
 "nbformat_minor": 1
}
