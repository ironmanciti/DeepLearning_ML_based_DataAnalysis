{
 "cells": [
  {
   "cell_type": "markdown",
   "metadata": {
    "id": "SyQuWKAJt3xq"
   },
   "source": [
    "# 220. Highly Imbalanced Fraud Data 의 분류\n",
    "## DNN 이용, Class Weight 조정, OverSampling\n",
    "## ROC 비교\n",
    "\n",
    "- [Credit Card Fraud Detection](https://www.kaggle.com/mlg-ulb/creditcardfraud) - Kaggle\n",
    "\n",
    "\n",
    "- Highly Imbalanced Dataset - dataset는 2013 년 9 월 유럽 카드 소지자 신용 카드 거래로 만들었습니다. 이 dataset는 2 일 동안 발생한 거래를 보여 주며, 284,807 건의 거래 중 492 건의 fraud가 있습니다. 데이터세트는 매우 불균형하며 포지티브 클래스(사기)는 모든 거래의 0.172 %를 차지합니다.\n",
    "\n",
    "\n",
    "- 이 dataset는 PCA 변환의 결과인 숫자 입력 변수만 포함합니다. 안타깝게도 기밀 유지 문제로 인해 데이터에 대한 원래 feature와 추가 background 정보를 제공할 수 없습니다. 특성 V1, V2, ... V28은 PCA로 얻은 principal component이며 PCA로 변환되지 않은 유일한 기능은 'Time' 과 'Amount' 입니다. '시간' 특성은 각 트랜잭션과 데이터 세트의 첫 번째 트랜잭션 사이에 경과된 시간(초) 입니다. 'Amount' 특성은 거래금액 입니다.  'Class'는 사기의 경우 1, 그렇지 않으면 0 입니다.\n",
    "\n",
    "\n",
    "- 클래스 불균형 비율이 주어지면 Area Under the Precision-Recall Curve (AUPRC)을 사용하여 정확도를 측정하는 것이 좋습니다. 불균형 data 분류에는 confusion matrix 정확도가 의미가 없습니다."
   ]
  },
  {
   "cell_type": "code",
   "execution_count": 1,
   "metadata": {
    "id": "dH4wHxmzt3xy"
   },
   "outputs": [],
   "source": [
    "import tensorflow as tf\n",
    "\n",
    "import matplotlib as mpl\n",
    "import matplotlib.pyplot as plt\n",
    "import numpy as np\n",
    "import pandas as pd\n",
    "import seaborn as sns\n",
    "from sklearn.metrics import confusion_matrix, f1_score\n",
    "from sklearn.metrics import  accuracy_score, precision_score, recall_score, \\\n",
    "                            roc_curve, roc_auc_score\n",
    "\n",
    "from sklearn.model_selection import train_test_split\n",
    "from sklearn.preprocessing import StandardScaler\n",
    "\n",
    "mpl.rcParams['figure.figsize'] = (12, 10)"
   ]
  },
  {
   "cell_type": "markdown",
   "metadata": {
    "id": "IdW269nBt3x2"
   },
   "source": [
    "### Download the Kaggle Credit Card Fraud data set\n",
    "\n",
    "- [kaggle creditcard csv file](https://storage.googleapis.com/download.tensorflow.org/data/creditcard.csv)"
   ]
  },
  {
   "cell_type": "code",
   "execution_count": 2,
   "metadata": {
    "colab": {
     "base_uri": "https://localhost:8080/",
     "height": 225
    },
    "id": "Zo_ucpfIt3x4",
    "outputId": "77cd1f87-2881-49cc-a97b-c254e6baa327"
   },
   "outputs": [
    {
     "data": {
      "text/html": [
       "<div>\n",
       "<style scoped>\n",
       "    .dataframe tbody tr th:only-of-type {\n",
       "        vertical-align: middle;\n",
       "    }\n",
       "\n",
       "    .dataframe tbody tr th {\n",
       "        vertical-align: top;\n",
       "    }\n",
       "\n",
       "    .dataframe thead th {\n",
       "        text-align: right;\n",
       "    }\n",
       "</style>\n",
       "<table border=\"1\" class=\"dataframe\">\n",
       "  <thead>\n",
       "    <tr style=\"text-align: right;\">\n",
       "      <th></th>\n",
       "      <th>Time</th>\n",
       "      <th>V1</th>\n",
       "      <th>V2</th>\n",
       "      <th>V3</th>\n",
       "      <th>V4</th>\n",
       "      <th>V5</th>\n",
       "      <th>V6</th>\n",
       "      <th>V7</th>\n",
       "      <th>V8</th>\n",
       "      <th>V9</th>\n",
       "      <th>...</th>\n",
       "      <th>V21</th>\n",
       "      <th>V22</th>\n",
       "      <th>V23</th>\n",
       "      <th>V24</th>\n",
       "      <th>V25</th>\n",
       "      <th>V26</th>\n",
       "      <th>V27</th>\n",
       "      <th>V28</th>\n",
       "      <th>Amount</th>\n",
       "      <th>Class</th>\n",
       "    </tr>\n",
       "  </thead>\n",
       "  <tbody>\n",
       "    <tr>\n",
       "      <th>0</th>\n",
       "      <td>0.0</td>\n",
       "      <td>-1.359807</td>\n",
       "      <td>-0.072781</td>\n",
       "      <td>2.536347</td>\n",
       "      <td>1.378155</td>\n",
       "      <td>-0.338321</td>\n",
       "      <td>0.462388</td>\n",
       "      <td>0.239599</td>\n",
       "      <td>0.098698</td>\n",
       "      <td>0.363787</td>\n",
       "      <td>...</td>\n",
       "      <td>-0.018307</td>\n",
       "      <td>0.277838</td>\n",
       "      <td>-0.110474</td>\n",
       "      <td>0.066928</td>\n",
       "      <td>0.128539</td>\n",
       "      <td>-0.189115</td>\n",
       "      <td>0.133558</td>\n",
       "      <td>-0.021053</td>\n",
       "      <td>149.62</td>\n",
       "      <td>0</td>\n",
       "    </tr>\n",
       "    <tr>\n",
       "      <th>1</th>\n",
       "      <td>0.0</td>\n",
       "      <td>1.191857</td>\n",
       "      <td>0.266151</td>\n",
       "      <td>0.166480</td>\n",
       "      <td>0.448154</td>\n",
       "      <td>0.060018</td>\n",
       "      <td>-0.082361</td>\n",
       "      <td>-0.078803</td>\n",
       "      <td>0.085102</td>\n",
       "      <td>-0.255425</td>\n",
       "      <td>...</td>\n",
       "      <td>-0.225775</td>\n",
       "      <td>-0.638672</td>\n",
       "      <td>0.101288</td>\n",
       "      <td>-0.339846</td>\n",
       "      <td>0.167170</td>\n",
       "      <td>0.125895</td>\n",
       "      <td>-0.008983</td>\n",
       "      <td>0.014724</td>\n",
       "      <td>2.69</td>\n",
       "      <td>0</td>\n",
       "    </tr>\n",
       "    <tr>\n",
       "      <th>2</th>\n",
       "      <td>1.0</td>\n",
       "      <td>-1.358354</td>\n",
       "      <td>-1.340163</td>\n",
       "      <td>1.773209</td>\n",
       "      <td>0.379780</td>\n",
       "      <td>-0.503198</td>\n",
       "      <td>1.800499</td>\n",
       "      <td>0.791461</td>\n",
       "      <td>0.247676</td>\n",
       "      <td>-1.514654</td>\n",
       "      <td>...</td>\n",
       "      <td>0.247998</td>\n",
       "      <td>0.771679</td>\n",
       "      <td>0.909412</td>\n",
       "      <td>-0.689281</td>\n",
       "      <td>-0.327642</td>\n",
       "      <td>-0.139097</td>\n",
       "      <td>-0.055353</td>\n",
       "      <td>-0.059752</td>\n",
       "      <td>378.66</td>\n",
       "      <td>0</td>\n",
       "    </tr>\n",
       "    <tr>\n",
       "      <th>3</th>\n",
       "      <td>1.0</td>\n",
       "      <td>-0.966272</td>\n",
       "      <td>-0.185226</td>\n",
       "      <td>1.792993</td>\n",
       "      <td>-0.863291</td>\n",
       "      <td>-0.010309</td>\n",
       "      <td>1.247203</td>\n",
       "      <td>0.237609</td>\n",
       "      <td>0.377436</td>\n",
       "      <td>-1.387024</td>\n",
       "      <td>...</td>\n",
       "      <td>-0.108300</td>\n",
       "      <td>0.005274</td>\n",
       "      <td>-0.190321</td>\n",
       "      <td>-1.175575</td>\n",
       "      <td>0.647376</td>\n",
       "      <td>-0.221929</td>\n",
       "      <td>0.062723</td>\n",
       "      <td>0.061458</td>\n",
       "      <td>123.50</td>\n",
       "      <td>0</td>\n",
       "    </tr>\n",
       "    <tr>\n",
       "      <th>4</th>\n",
       "      <td>2.0</td>\n",
       "      <td>-1.158233</td>\n",
       "      <td>0.877737</td>\n",
       "      <td>1.548718</td>\n",
       "      <td>0.403034</td>\n",
       "      <td>-0.407193</td>\n",
       "      <td>0.095921</td>\n",
       "      <td>0.592941</td>\n",
       "      <td>-0.270533</td>\n",
       "      <td>0.817739</td>\n",
       "      <td>...</td>\n",
       "      <td>-0.009431</td>\n",
       "      <td>0.798278</td>\n",
       "      <td>-0.137458</td>\n",
       "      <td>0.141267</td>\n",
       "      <td>-0.206010</td>\n",
       "      <td>0.502292</td>\n",
       "      <td>0.219422</td>\n",
       "      <td>0.215153</td>\n",
       "      <td>69.99</td>\n",
       "      <td>0</td>\n",
       "    </tr>\n",
       "  </tbody>\n",
       "</table>\n",
       "<p>5 rows × 31 columns</p>\n",
       "</div>"
      ],
      "text/plain": [
       "   Time        V1        V2        V3        V4        V5        V6        V7  \\\n",
       "0   0.0 -1.359807 -0.072781  2.536347  1.378155 -0.338321  0.462388  0.239599   \n",
       "1   0.0  1.191857  0.266151  0.166480  0.448154  0.060018 -0.082361 -0.078803   \n",
       "2   1.0 -1.358354 -1.340163  1.773209  0.379780 -0.503198  1.800499  0.791461   \n",
       "3   1.0 -0.966272 -0.185226  1.792993 -0.863291 -0.010309  1.247203  0.237609   \n",
       "4   2.0 -1.158233  0.877737  1.548718  0.403034 -0.407193  0.095921  0.592941   \n",
       "\n",
       "         V8        V9  ...       V21       V22       V23       V24       V25  \\\n",
       "0  0.098698  0.363787  ... -0.018307  0.277838 -0.110474  0.066928  0.128539   \n",
       "1  0.085102 -0.255425  ... -0.225775 -0.638672  0.101288 -0.339846  0.167170   \n",
       "2  0.247676 -1.514654  ...  0.247998  0.771679  0.909412 -0.689281 -0.327642   \n",
       "3  0.377436 -1.387024  ... -0.108300  0.005274 -0.190321 -1.175575  0.647376   \n",
       "4 -0.270533  0.817739  ... -0.009431  0.798278 -0.137458  0.141267 -0.206010   \n",
       "\n",
       "        V26       V27       V28  Amount  Class  \n",
       "0 -0.189115  0.133558 -0.021053  149.62      0  \n",
       "1  0.125895 -0.008983  0.014724    2.69      0  \n",
       "2 -0.139097 -0.055353 -0.059752  378.66      0  \n",
       "3 -0.221929  0.062723  0.061458  123.50      0  \n",
       "4  0.502292  0.219422  0.215153   69.99      0  \n",
       "\n",
       "[5 rows x 31 columns]"
      ]
     },
     "execution_count": 2,
     "metadata": {},
     "output_type": "execute_result"
    }
   ],
   "source": [
    "df = pd.read_csv('https://storage.googleapis.com/download.tensorflow.org/data/creditcard.csv')\n",
    "\n",
    "df.head()"
   ]
  },
  {
   "cell_type": "code",
   "execution_count": 3,
   "metadata": {
    "colab": {
     "base_uri": "https://localhost:8080/",
     "height": 319
    },
    "id": "5V8JNJZVt3x7",
    "outputId": "b6c18214-2d9e-4cfa-8619-487589d8c40a"
   },
   "outputs": [
    {
     "data": {
      "text/html": [
       "<div>\n",
       "<style scoped>\n",
       "    .dataframe tbody tr th:only-of-type {\n",
       "        vertical-align: middle;\n",
       "    }\n",
       "\n",
       "    .dataframe tbody tr th {\n",
       "        vertical-align: top;\n",
       "    }\n",
       "\n",
       "    .dataframe thead th {\n",
       "        text-align: right;\n",
       "    }\n",
       "</style>\n",
       "<table border=\"1\" class=\"dataframe\">\n",
       "  <thead>\n",
       "    <tr style=\"text-align: right;\">\n",
       "      <th></th>\n",
       "      <th>Time</th>\n",
       "      <th>V1</th>\n",
       "      <th>V2</th>\n",
       "      <th>V27</th>\n",
       "      <th>V28</th>\n",
       "      <th>Amount</th>\n",
       "      <th>Class</th>\n",
       "    </tr>\n",
       "  </thead>\n",
       "  <tbody>\n",
       "    <tr>\n",
       "      <th>count</th>\n",
       "      <td>284807.000000</td>\n",
       "      <td>2.848070e+05</td>\n",
       "      <td>2.848070e+05</td>\n",
       "      <td>2.848070e+05</td>\n",
       "      <td>2.848070e+05</td>\n",
       "      <td>284807.000000</td>\n",
       "      <td>284807.000000</td>\n",
       "    </tr>\n",
       "    <tr>\n",
       "      <th>mean</th>\n",
       "      <td>94813.859575</td>\n",
       "      <td>3.918649e-15</td>\n",
       "      <td>5.682686e-16</td>\n",
       "      <td>-3.662252e-16</td>\n",
       "      <td>-1.217809e-16</td>\n",
       "      <td>88.349619</td>\n",
       "      <td>0.001727</td>\n",
       "    </tr>\n",
       "    <tr>\n",
       "      <th>std</th>\n",
       "      <td>47488.145955</td>\n",
       "      <td>1.958696e+00</td>\n",
       "      <td>1.651309e+00</td>\n",
       "      <td>4.036325e-01</td>\n",
       "      <td>3.300833e-01</td>\n",
       "      <td>250.120109</td>\n",
       "      <td>0.041527</td>\n",
       "    </tr>\n",
       "    <tr>\n",
       "      <th>min</th>\n",
       "      <td>0.000000</td>\n",
       "      <td>-5.640751e+01</td>\n",
       "      <td>-7.271573e+01</td>\n",
       "      <td>-2.256568e+01</td>\n",
       "      <td>-1.543008e+01</td>\n",
       "      <td>0.000000</td>\n",
       "      <td>0.000000</td>\n",
       "    </tr>\n",
       "    <tr>\n",
       "      <th>25%</th>\n",
       "      <td>54201.500000</td>\n",
       "      <td>-9.203734e-01</td>\n",
       "      <td>-5.985499e-01</td>\n",
       "      <td>-7.083953e-02</td>\n",
       "      <td>-5.295979e-02</td>\n",
       "      <td>5.600000</td>\n",
       "      <td>0.000000</td>\n",
       "    </tr>\n",
       "    <tr>\n",
       "      <th>50%</th>\n",
       "      <td>84692.000000</td>\n",
       "      <td>1.810880e-02</td>\n",
       "      <td>6.548556e-02</td>\n",
       "      <td>1.342146e-03</td>\n",
       "      <td>1.124383e-02</td>\n",
       "      <td>22.000000</td>\n",
       "      <td>0.000000</td>\n",
       "    </tr>\n",
       "    <tr>\n",
       "      <th>75%</th>\n",
       "      <td>139320.500000</td>\n",
       "      <td>1.315642e+00</td>\n",
       "      <td>8.037239e-01</td>\n",
       "      <td>9.104512e-02</td>\n",
       "      <td>7.827995e-02</td>\n",
       "      <td>77.165000</td>\n",
       "      <td>0.000000</td>\n",
       "    </tr>\n",
       "    <tr>\n",
       "      <th>max</th>\n",
       "      <td>172792.000000</td>\n",
       "      <td>2.454930e+00</td>\n",
       "      <td>2.205773e+01</td>\n",
       "      <td>3.161220e+01</td>\n",
       "      <td>3.384781e+01</td>\n",
       "      <td>25691.160000</td>\n",
       "      <td>1.000000</td>\n",
       "    </tr>\n",
       "  </tbody>\n",
       "</table>\n",
       "</div>"
      ],
      "text/plain": [
       "                Time            V1            V2           V27           V28  \\\n",
       "count  284807.000000  2.848070e+05  2.848070e+05  2.848070e+05  2.848070e+05   \n",
       "mean    94813.859575  3.918649e-15  5.682686e-16 -3.662252e-16 -1.217809e-16   \n",
       "std     47488.145955  1.958696e+00  1.651309e+00  4.036325e-01  3.300833e-01   \n",
       "min         0.000000 -5.640751e+01 -7.271573e+01 -2.256568e+01 -1.543008e+01   \n",
       "25%     54201.500000 -9.203734e-01 -5.985499e-01 -7.083953e-02 -5.295979e-02   \n",
       "50%     84692.000000  1.810880e-02  6.548556e-02  1.342146e-03  1.124383e-02   \n",
       "75%    139320.500000  1.315642e+00  8.037239e-01  9.104512e-02  7.827995e-02   \n",
       "max    172792.000000  2.454930e+00  2.205773e+01  3.161220e+01  3.384781e+01   \n",
       "\n",
       "              Amount          Class  \n",
       "count  284807.000000  284807.000000  \n",
       "mean       88.349619       0.001727  \n",
       "std       250.120109       0.041527  \n",
       "min         0.000000       0.000000  \n",
       "25%         5.600000       0.000000  \n",
       "50%        22.000000       0.000000  \n",
       "75%        77.165000       0.000000  \n",
       "max     25691.160000       1.000000  "
      ]
     },
     "execution_count": 3,
     "metadata": {},
     "output_type": "execute_result"
    }
   ],
   "source": [
    "df[['Time', 'V1', 'V2', 'V27', 'V28', 'Amount', 'Class']].describe()"
   ]
  },
  {
   "cell_type": "markdown",
   "metadata": {
    "id": "738aexZRt3x-"
   },
   "source": [
    "### 클래스 레이블 불균형 조사"
   ]
  },
  {
   "cell_type": "code",
   "execution_count": 4,
   "metadata": {
    "colab": {
     "base_uri": "https://localhost:8080/"
    },
    "id": "2nnddVRjGIpU",
    "outputId": "4e828529-e5fb-482d-b6ba-37e63f6f000b"
   },
   "outputs": [
    {
     "data": {
      "text/plain": [
       "0    284315\n",
       "1       492\n",
       "Name: Class, dtype: int64"
      ]
     },
     "execution_count": 4,
     "metadata": {},
     "output_type": "execute_result"
    }
   ],
   "source": [
    "df['Class'].value_counts()"
   ]
  },
  {
   "cell_type": "code",
   "execution_count": 5,
   "metadata": {
    "colab": {
     "base_uri": "https://localhost:8080/"
    },
    "id": "k_Q_Zwbkt3x_",
    "outputId": "2521c35e-71a3-451e-c5cc-3f92d50b11c3"
   },
   "outputs": [
    {
     "name": "stdout",
     "output_type": "stream",
     "text": [
      "Total = 284,807\n",
      "Fraud = 0.17%\n",
      "Normal = 99.83%\n"
     ]
    }
   ],
   "source": [
    "fraud = (df['Class'] == 1).sum()\n",
    "normal = (df['Class'] == 0).sum()\n",
    "\n",
    "total = fraud + normal\n",
    "\n",
    "print(f\"Total = {total:,}\")\n",
    "print(f\"Fraud = {fraud/total*100:,.2f}%\")\n",
    "print(f\"Normal = {normal/total*100:,.2f}%\")"
   ]
  },
  {
   "cell_type": "markdown",
   "metadata": {
    "id": "USH9Dhvjt3yG"
   },
   "source": [
    "### Clean, split and normalize the data"
   ]
  },
  {
   "cell_type": "code",
   "execution_count": 6,
   "metadata": {},
   "outputs": [
    {
     "data": {
      "text/html": [
       "<div>\n",
       "<style scoped>\n",
       "    .dataframe tbody tr th:only-of-type {\n",
       "        vertical-align: middle;\n",
       "    }\n",
       "\n",
       "    .dataframe tbody tr th {\n",
       "        vertical-align: top;\n",
       "    }\n",
       "\n",
       "    .dataframe thead th {\n",
       "        text-align: right;\n",
       "    }\n",
       "</style>\n",
       "<table border=\"1\" class=\"dataframe\">\n",
       "  <thead>\n",
       "    <tr style=\"text-align: right;\">\n",
       "      <th></th>\n",
       "      <th>Time</th>\n",
       "      <th>V1</th>\n",
       "      <th>V2</th>\n",
       "      <th>V3</th>\n",
       "      <th>V4</th>\n",
       "      <th>V5</th>\n",
       "      <th>V6</th>\n",
       "      <th>V7</th>\n",
       "      <th>V8</th>\n",
       "      <th>V9</th>\n",
       "      <th>...</th>\n",
       "      <th>V21</th>\n",
       "      <th>V22</th>\n",
       "      <th>V23</th>\n",
       "      <th>V24</th>\n",
       "      <th>V25</th>\n",
       "      <th>V26</th>\n",
       "      <th>V27</th>\n",
       "      <th>V28</th>\n",
       "      <th>Class</th>\n",
       "      <th>Amount</th>\n",
       "    </tr>\n",
       "  </thead>\n",
       "  <tbody>\n",
       "    <tr>\n",
       "      <th>0</th>\n",
       "      <td>0.000000</td>\n",
       "      <td>-1.359807</td>\n",
       "      <td>-0.072781</td>\n",
       "      <td>2.536347</td>\n",
       "      <td>1.378155</td>\n",
       "      <td>-0.338321</td>\n",
       "      <td>0.462388</td>\n",
       "      <td>0.239599</td>\n",
       "      <td>0.098698</td>\n",
       "      <td>0.363787</td>\n",
       "      <td>...</td>\n",
       "      <td>-0.018307</td>\n",
       "      <td>0.277838</td>\n",
       "      <td>-0.110474</td>\n",
       "      <td>0.066928</td>\n",
       "      <td>0.128539</td>\n",
       "      <td>-0.189115</td>\n",
       "      <td>0.133558</td>\n",
       "      <td>-0.021053</td>\n",
       "      <td>0</td>\n",
       "      <td>5.008105</td>\n",
       "    </tr>\n",
       "    <tr>\n",
       "      <th>1</th>\n",
       "      <td>0.000000</td>\n",
       "      <td>1.191857</td>\n",
       "      <td>0.266151</td>\n",
       "      <td>0.166480</td>\n",
       "      <td>0.448154</td>\n",
       "      <td>0.060018</td>\n",
       "      <td>-0.082361</td>\n",
       "      <td>-0.078803</td>\n",
       "      <td>0.085102</td>\n",
       "      <td>-0.255425</td>\n",
       "      <td>...</td>\n",
       "      <td>-0.225775</td>\n",
       "      <td>-0.638672</td>\n",
       "      <td>0.101288</td>\n",
       "      <td>-0.339846</td>\n",
       "      <td>0.167170</td>\n",
       "      <td>0.125895</td>\n",
       "      <td>-0.008983</td>\n",
       "      <td>0.014724</td>\n",
       "      <td>0</td>\n",
       "      <td>0.989913</td>\n",
       "    </tr>\n",
       "    <tr>\n",
       "      <th>2</th>\n",
       "      <td>0.000278</td>\n",
       "      <td>-1.358354</td>\n",
       "      <td>-1.340163</td>\n",
       "      <td>1.773209</td>\n",
       "      <td>0.379780</td>\n",
       "      <td>-0.503198</td>\n",
       "      <td>1.800499</td>\n",
       "      <td>0.791461</td>\n",
       "      <td>0.247676</td>\n",
       "      <td>-1.514654</td>\n",
       "      <td>...</td>\n",
       "      <td>0.247998</td>\n",
       "      <td>0.771679</td>\n",
       "      <td>0.909412</td>\n",
       "      <td>-0.689281</td>\n",
       "      <td>-0.327642</td>\n",
       "      <td>-0.139097</td>\n",
       "      <td>-0.055353</td>\n",
       "      <td>-0.059752</td>\n",
       "      <td>0</td>\n",
       "      <td>5.936641</td>\n",
       "    </tr>\n",
       "    <tr>\n",
       "      <th>3</th>\n",
       "      <td>0.000278</td>\n",
       "      <td>-0.966272</td>\n",
       "      <td>-0.185226</td>\n",
       "      <td>1.792993</td>\n",
       "      <td>-0.863291</td>\n",
       "      <td>-0.010309</td>\n",
       "      <td>1.247203</td>\n",
       "      <td>0.237609</td>\n",
       "      <td>0.377436</td>\n",
       "      <td>-1.387024</td>\n",
       "      <td>...</td>\n",
       "      <td>-0.108300</td>\n",
       "      <td>0.005274</td>\n",
       "      <td>-0.190321</td>\n",
       "      <td>-1.175575</td>\n",
       "      <td>0.647376</td>\n",
       "      <td>-0.221929</td>\n",
       "      <td>0.062723</td>\n",
       "      <td>0.061458</td>\n",
       "      <td>0</td>\n",
       "      <td>4.816249</td>\n",
       "    </tr>\n",
       "    <tr>\n",
       "      <th>4</th>\n",
       "      <td>0.000556</td>\n",
       "      <td>-1.158233</td>\n",
       "      <td>0.877737</td>\n",
       "      <td>1.548718</td>\n",
       "      <td>0.403034</td>\n",
       "      <td>-0.407193</td>\n",
       "      <td>0.095921</td>\n",
       "      <td>0.592941</td>\n",
       "      <td>-0.270533</td>\n",
       "      <td>0.817739</td>\n",
       "      <td>...</td>\n",
       "      <td>-0.009431</td>\n",
       "      <td>0.798278</td>\n",
       "      <td>-0.137458</td>\n",
       "      <td>0.141267</td>\n",
       "      <td>-0.206010</td>\n",
       "      <td>0.502292</td>\n",
       "      <td>0.219422</td>\n",
       "      <td>0.215153</td>\n",
       "      <td>0</td>\n",
       "      <td>4.248367</td>\n",
       "    </tr>\n",
       "  </tbody>\n",
       "</table>\n",
       "<p>5 rows × 31 columns</p>\n",
       "</div>"
      ],
      "text/plain": [
       "       Time        V1        V2        V3        V4        V5        V6  \\\n",
       "0  0.000000 -1.359807 -0.072781  2.536347  1.378155 -0.338321  0.462388   \n",
       "1  0.000000  1.191857  0.266151  0.166480  0.448154  0.060018 -0.082361   \n",
       "2  0.000278 -1.358354 -1.340163  1.773209  0.379780 -0.503198  1.800499   \n",
       "3  0.000278 -0.966272 -0.185226  1.792993 -0.863291 -0.010309  1.247203   \n",
       "4  0.000556 -1.158233  0.877737  1.548718  0.403034 -0.407193  0.095921   \n",
       "\n",
       "         V7        V8        V9  ...       V21       V22       V23       V24  \\\n",
       "0  0.239599  0.098698  0.363787  ... -0.018307  0.277838 -0.110474  0.066928   \n",
       "1 -0.078803  0.085102 -0.255425  ... -0.225775 -0.638672  0.101288 -0.339846   \n",
       "2  0.791461  0.247676 -1.514654  ...  0.247998  0.771679  0.909412 -0.689281   \n",
       "3  0.237609  0.377436 -1.387024  ... -0.108300  0.005274 -0.190321 -1.175575   \n",
       "4  0.592941 -0.270533  0.817739  ... -0.009431  0.798278 -0.137458  0.141267   \n",
       "\n",
       "        V25       V26       V27       V28  Class    Amount  \n",
       "0  0.128539 -0.189115  0.133558 -0.021053      0  5.008105  \n",
       "1  0.167170  0.125895 -0.008983  0.014724      0  0.989913  \n",
       "2 -0.327642 -0.139097 -0.055353 -0.059752      0  5.936641  \n",
       "3  0.647376 -0.221929  0.062723  0.061458      0  4.816249  \n",
       "4 -0.206010  0.502292  0.219422  0.215153      0  4.248367  \n",
       "\n",
       "[5 rows x 31 columns]"
      ]
     },
     "execution_count": 6,
     "metadata": {},
     "output_type": "execute_result"
    }
   ],
   "source": [
    "cleaned_df = df.copy()\n",
    "\n",
    "# Time 을 일중 시간으로 변환\n",
    "cleaned_df.loc[:, \"Time\"] = cleaned_df.loc[:, \"Time\"].apply(lambda x : x / 3600 % 24) \n",
    "\n",
    "# Amount column 은 편차가 크므로 log-scale 로 변환\n",
    "eps=0.001      # 0 => 0.1¢\n",
    "cleaned_df['Amount'] = np.log(cleaned_df.pop('Amount') + eps)\n",
    "\n",
    "cleaned_df.head()"
   ]
  },
  {
   "cell_type": "code",
   "execution_count": 7,
   "metadata": {
    "colab": {
     "base_uri": "https://localhost:8080/"
    },
    "id": "EdHm44M2GIpW",
    "outputId": "aa97468d-b398-4d1a-a413-ea177cd9f37b"
   },
   "outputs": [
    {
     "data": {
      "text/plain": [
       "count    284807.000000\n",
       "mean          2.942089\n",
       "std           2.023685\n",
       "min          -6.907755\n",
       "25%           1.722945\n",
       "50%           3.091088\n",
       "75%           4.345959\n",
       "max          10.153902\n",
       "Name: Amount, dtype: float64"
      ]
     },
     "execution_count": 7,
     "metadata": {},
     "output_type": "execute_result"
    }
   ],
   "source": [
    "cleaned_df['Amount'].describe()"
   ]
  },
  {
   "cell_type": "code",
   "execution_count": 8,
   "metadata": {
    "id": "4IEMWwojt3yO"
   },
   "outputs": [
    {
     "data": {
      "text/plain": [
       "array([0, 0, 0, ..., 0, 0, 0])"
      ]
     },
     "execution_count": 8,
     "metadata": {},
     "output_type": "execute_result"
    }
   ],
   "source": [
    "labels = np.array(cleaned_df.pop('Class'))\n",
    "labels"
   ]
  },
  {
   "cell_type": "code",
   "execution_count": 9,
   "metadata": {
    "colab": {
     "base_uri": "https://localhost:8080/"
    },
    "id": "_hqAVRiWt3yV",
    "outputId": "6db09c65-c78f-4ba5-d373-b6ce8cac54b7"
   },
   "outputs": [
    {
     "data": {
      "text/plain": [
       "(284807, 30)"
      ]
     },
     "execution_count": 9,
     "metadata": {},
     "output_type": "execute_result"
    }
   ],
   "source": [
    "X = cleaned_df.values\n",
    "X.shape"
   ]
  },
  {
   "cell_type": "code",
   "execution_count": 10,
   "metadata": {
    "colab": {
     "base_uri": "https://localhost:8080/"
    },
    "id": "RLiKtnt7t3ya",
    "outputId": "896da316-72f9-468b-865d-ba9535d66123"
   },
   "outputs": [
    {
     "data": {
      "text/plain": [
       "((227845, 30), (56962, 30), (227845,), (56962,))"
      ]
     },
     "execution_count": 10,
     "metadata": {},
     "output_type": "execute_result"
    }
   ],
   "source": [
    "X_train, X_test, y_train, y_test = train_test_split(X, labels, \n",
    "                                        test_size=0.2, random_state=0)\n",
    "\n",
    "X_train.shape, X_test.shape, y_train.shape, y_test.shape"
   ]
  },
  {
   "cell_type": "code",
   "execution_count": 11,
   "metadata": {
    "id": "QwUNis6Zt3yc"
   },
   "outputs": [],
   "source": [
    "sc = StandardScaler()\n",
    "X_train = sc.fit_transform(X_train)\n",
    "X_test  = sc.transform(X_test)"
   ]
  },
  {
   "cell_type": "markdown",
   "metadata": {
    "id": "V7qJCSiht3yi"
   },
   "source": [
    "### metrics 정의\n",
    "\n",
    "- Accuracy 로 예측하면 항상 99.8%+ 정확성을 달성하므로, 다양한 metrics 활용하여 측정"
   ]
  },
  {
   "cell_type": "code",
   "execution_count": 12,
   "metadata": {
    "id": "zmRaL5sDt3yj"
   },
   "outputs": [],
   "source": [
    "METRICS = [\n",
    "      tf.keras.metrics.TruePositives(name='tp'),\n",
    "      tf.keras.metrics.FalsePositives(name='fp'),\n",
    "      tf.keras.metrics.TrueNegatives(name='tn'),\n",
    "      tf.keras.metrics.FalseNegatives(name='fn'), \n",
    "      tf.keras.metrics.BinaryAccuracy(name='accuracy'),\n",
    "      tf.keras.metrics.Precision(name='precision'),\n",
    "      tf.keras.metrics.Recall(name='recall'),\n",
    "      tf.keras.metrics.AUC(name='auc'),\n",
    "]"
   ]
  },
  {
   "cell_type": "markdown",
   "metadata": {
    "id": "ejjpZM9Kt3ym"
   },
   "source": [
    "## Simple NN model 정의 - 이진 분류 모델"
   ]
  },
  {
   "cell_type": "code",
   "execution_count": 13,
   "metadata": {
    "id": "IbbI4SZat3yn"
   },
   "outputs": [],
   "source": [
    "def make_model(metrics = METRICS):\n",
    "    \n",
    "    model = tf.keras.Sequential([\n",
    "      tf.keras.layers.Dense(32, activation='relu', \n",
    "                            input_shape=(X_train.shape[-1],)),\n",
    "      tf.keras.layers.Dropout(0.2),\n",
    "      tf.keras.layers.Dense(16, activation='relu'),\n",
    "      tf.keras.layers.Dropout(0.2),\n",
    "      tf.keras.layers.Dense(1, activation='sigmoid'),\n",
    "  ])\n",
    "\n",
    "    model.compile(\n",
    "      optimizer = tf.keras.optimizers.Adam(learning_rate=1e-3),\n",
    "      loss = 'binary_crossentropy',\n",
    "      metrics=metrics)\n",
    "\n",
    "    return model"
   ]
  },
  {
   "cell_type": "markdown",
   "metadata": {
    "id": "YuB7VrmAt3yr"
   },
   "source": [
    "## Baseline model build"
   ]
  },
  {
   "cell_type": "code",
   "execution_count": 14,
   "metadata": {
    "id": "gTRT9eKnt3ys"
   },
   "outputs": [],
   "source": [
    "EPOCHS = 100\n",
    "BATCH_SIZE = 2048\n",
    "\n",
    "early_stopping = tf.keras.callbacks.EarlyStopping(\n",
    "    monitor='val_auc', \n",
    "    verbose=1,\n",
    "    patience=10, # no of epochs of no improvement          \n",
    "    mode='max',  #val_auc 가 10 번 연속 증가 안하면 stop           \n",
    "    restore_best_weights=True)  # epoch 의 best weight 저장"
   ]
  },
  {
   "cell_type": "code",
   "execution_count": 15,
   "metadata": {
    "colab": {
     "base_uri": "https://localhost:8080/"
    },
    "id": "i3qmzy34t3yw",
    "outputId": "685ee0cf-6f5b-4703-9b6f-1ecaeb36e5c2",
    "scrolled": true
   },
   "outputs": [
    {
     "name": "stdout",
     "output_type": "stream",
     "text": [
      "Model: \"sequential\"\n",
      "_________________________________________________________________\n",
      " Layer (type)                Output Shape              Param #   \n",
      "=================================================================\n",
      " dense (Dense)               (None, 32)                992       \n",
      "                                                                 \n",
      " dropout (Dropout)           (None, 32)                0         \n",
      "                                                                 \n",
      " dense_1 (Dense)             (None, 16)                528       \n",
      "                                                                 \n",
      " dropout_1 (Dropout)         (None, 16)                0         \n",
      "                                                                 \n",
      " dense_2 (Dense)             (None, 1)                 17        \n",
      "                                                                 \n",
      "=================================================================\n",
      "Total params: 1,537\n",
      "Trainable params: 1,537\n",
      "Non-trainable params: 0\n",
      "_________________________________________________________________\n"
     ]
    }
   ],
   "source": [
    "model = make_model()\n",
    "model.summary()"
   ]
  },
  {
   "cell_type": "markdown",
   "metadata": {
    "id": "B-Ftgdtct3zb"
   },
   "source": [
    "## Train the model"
   ]
  },
  {
   "cell_type": "code",
   "execution_count": 16,
   "metadata": {
    "colab": {
     "base_uri": "https://localhost:8080/"
    },
    "id": "qyxi6P6Pt3zd",
    "outputId": "50a898e3-e427-47f9-9cea-57974d61b914",
    "scrolled": true
   },
   "outputs": [
    {
     "name": "stdout",
     "output_type": "stream",
     "text": [
      "Epoch 1/100\n",
      "112/112 [==============================] - 2s 7ms/step - loss: 0.2853 - tp: 60.0000 - fp: 18025.0000 - tn: 209429.0000 - fn: 331.0000 - accuracy: 0.9194 - precision: 0.0033 - recall: 0.1535 - auc: 0.3427 - val_loss: 0.0471 - val_tp: 0.0000e+00 - val_fp: 0.0000e+00 - val_tn: 56861.0000 - val_fn: 101.0000 - val_accuracy: 0.9982 - val_precision: 0.0000e+00 - val_recall: 0.0000e+00 - val_auc: 0.3638\n",
      "Epoch 2/100\n",
      "112/112 [==============================] - 0s 2ms/step - loss: 0.0366 - tp: 61.0000 - fp: 19.0000 - tn: 227435.0000 - fn: 330.0000 - accuracy: 0.9985 - precision: 0.7625 - recall: 0.1560 - auc: 0.6559 - val_loss: 0.0099 - val_tp: 41.0000 - val_fp: 7.0000 - val_tn: 56854.0000 - val_fn: 60.0000 - val_accuracy: 0.9988 - val_precision: 0.8542 - val_recall: 0.4059 - val_auc: 0.8864\n",
      "Epoch 3/100\n",
      "112/112 [==============================] - 0s 2ms/step - loss: 0.0152 - tp: 157.0000 - fp: 26.0000 - tn: 227428.0000 - fn: 234.0000 - accuracy: 0.9989 - precision: 0.8579 - recall: 0.4015 - auc: 0.8374 - val_loss: 0.0058 - val_tp: 65.0000 - val_fp: 8.0000 - val_tn: 56853.0000 - val_fn: 36.0000 - val_accuracy: 0.9992 - val_precision: 0.8904 - val_recall: 0.6436 - val_auc: 0.9138\n",
      "Epoch 4/100\n",
      "112/112 [==============================] - 0s 2ms/step - loss: 0.0101 - tp: 167.0000 - fp: 30.0000 - tn: 227424.0000 - fn: 224.0000 - accuracy: 0.9989 - precision: 0.8477 - recall: 0.4271 - auc: 0.8810 - val_loss: 0.0046 - val_tp: 71.0000 - val_fp: 9.0000 - val_tn: 56852.0000 - val_fn: 30.0000 - val_accuracy: 0.9993 - val_precision: 0.8875 - val_recall: 0.7030 - val_auc: 0.9238\n",
      "Epoch 5/100\n",
      "112/112 [==============================] - 0s 2ms/step - loss: 0.0077 - tp: 206.0000 - fp: 40.0000 - tn: 227414.0000 - fn: 185.0000 - accuracy: 0.9990 - precision: 0.8374 - recall: 0.5269 - auc: 0.9010 - val_loss: 0.0041 - val_tp: 75.0000 - val_fp: 10.0000 - val_tn: 56851.0000 - val_fn: 26.0000 - val_accuracy: 0.9994 - val_precision: 0.8824 - val_recall: 0.7426 - val_auc: 0.9199\n",
      "Epoch 6/100\n",
      "112/112 [==============================] - 0s 2ms/step - loss: 0.0065 - tp: 215.0000 - fp: 34.0000 - tn: 227420.0000 - fn: 176.0000 - accuracy: 0.9991 - precision: 0.8635 - recall: 0.5499 - auc: 0.9112 - val_loss: 0.0039 - val_tp: 77.0000 - val_fp: 11.0000 - val_tn: 56850.0000 - val_fn: 24.0000 - val_accuracy: 0.9994 - val_precision: 0.8750 - val_recall: 0.7624 - val_auc: 0.9202\n",
      "Epoch 7/100\n",
      "112/112 [==============================] - 0s 2ms/step - loss: 0.0060 - tp: 222.0000 - fp: 35.0000 - tn: 227419.0000 - fn: 169.0000 - accuracy: 0.9991 - precision: 0.8638 - recall: 0.5678 - auc: 0.9144 - val_loss: 0.0036 - val_tp: 78.0000 - val_fp: 11.0000 - val_tn: 56850.0000 - val_fn: 23.0000 - val_accuracy: 0.9994 - val_precision: 0.8764 - val_recall: 0.7723 - val_auc: 0.9251\n",
      "Epoch 8/100\n",
      "112/112 [==============================] - 0s 3ms/step - loss: 0.0054 - tp: 229.0000 - fp: 31.0000 - tn: 227423.0000 - fn: 162.0000 - accuracy: 0.9992 - precision: 0.8808 - recall: 0.5857 - auc: 0.9148 - val_loss: 0.0035 - val_tp: 77.0000 - val_fp: 11.0000 - val_tn: 56850.0000 - val_fn: 24.0000 - val_accuracy: 0.9994 - val_precision: 0.8750 - val_recall: 0.7624 - val_auc: 0.9252\n",
      "Epoch 9/100\n",
      "112/112 [==============================] - 0s 2ms/step - loss: 0.0050 - tp: 242.0000 - fp: 35.0000 - tn: 227419.0000 - fn: 149.0000 - accuracy: 0.9992 - precision: 0.8736 - recall: 0.6189 - auc: 0.9172 - val_loss: 0.0034 - val_tp: 78.0000 - val_fp: 11.0000 - val_tn: 56850.0000 - val_fn: 23.0000 - val_accuracy: 0.9994 - val_precision: 0.8764 - val_recall: 0.7723 - val_auc: 0.9301\n",
      "Epoch 10/100\n",
      "112/112 [==============================] - 0s 2ms/step - loss: 0.0047 - tp: 249.0000 - fp: 35.0000 - tn: 227419.0000 - fn: 142.0000 - accuracy: 0.9992 - precision: 0.8768 - recall: 0.6368 - auc: 0.9308 - val_loss: 0.0034 - val_tp: 79.0000 - val_fp: 11.0000 - val_tn: 56850.0000 - val_fn: 22.0000 - val_accuracy: 0.9994 - val_precision: 0.8778 - val_recall: 0.7822 - val_auc: 0.9302\n",
      "Epoch 11/100\n",
      "112/112 [==============================] - 0s 2ms/step - loss: 0.0044 - tp: 255.0000 - fp: 36.0000 - tn: 227418.0000 - fn: 136.0000 - accuracy: 0.9992 - precision: 0.8763 - recall: 0.6522 - auc: 0.9301 - val_loss: 0.0033 - val_tp: 79.0000 - val_fp: 11.0000 - val_tn: 56850.0000 - val_fn: 22.0000 - val_accuracy: 0.9994 - val_precision: 0.8778 - val_recall: 0.7822 - val_auc: 0.9352\n",
      "Epoch 12/100\n",
      "112/112 [==============================] - 0s 3ms/step - loss: 0.0044 - tp: 273.0000 - fp: 41.0000 - tn: 227413.0000 - fn: 118.0000 - accuracy: 0.9993 - precision: 0.8694 - recall: 0.6982 - auc: 0.9367 - val_loss: 0.0033 - val_tp: 79.0000 - val_fp: 11.0000 - val_tn: 56850.0000 - val_fn: 22.0000 - val_accuracy: 0.9994 - val_precision: 0.8778 - val_recall: 0.7822 - val_auc: 0.9353\n",
      "Epoch 13/100\n",
      "112/112 [==============================] - 0s 2ms/step - loss: 0.0041 - tp: 277.0000 - fp: 42.0000 - tn: 227412.0000 - fn: 114.0000 - accuracy: 0.9993 - precision: 0.8683 - recall: 0.7084 - auc: 0.9345 - val_loss: 0.0032 - val_tp: 79.0000 - val_fp: 11.0000 - val_tn: 56850.0000 - val_fn: 22.0000 - val_accuracy: 0.9994 - val_precision: 0.8778 - val_recall: 0.7822 - val_auc: 0.9353\n",
      "Epoch 14/100\n",
      "112/112 [==============================] - 0s 2ms/step - loss: 0.0040 - tp: 280.0000 - fp: 46.0000 - tn: 227408.0000 - fn: 111.0000 - accuracy: 0.9993 - precision: 0.8589 - recall: 0.7161 - auc: 0.9389 - val_loss: 0.0032 - val_tp: 80.0000 - val_fp: 12.0000 - val_tn: 56849.0000 - val_fn: 21.0000 - val_accuracy: 0.9994 - val_precision: 0.8696 - val_recall: 0.7921 - val_auc: 0.9353\n",
      "Epoch 15/100\n",
      "112/112 [==============================] - 0s 3ms/step - loss: 0.0040 - tp: 276.0000 - fp: 46.0000 - tn: 227408.0000 - fn: 115.0000 - accuracy: 0.9993 - precision: 0.8571 - recall: 0.7059 - auc: 0.9362 - val_loss: 0.0032 - val_tp: 80.0000 - val_fp: 12.0000 - val_tn: 56849.0000 - val_fn: 21.0000 - val_accuracy: 0.9994 - val_precision: 0.8696 - val_recall: 0.7921 - val_auc: 0.9403\n",
      "Epoch 16/100\n",
      "112/112 [==============================] - 0s 3ms/step - loss: 0.0038 - tp: 287.0000 - fp: 51.0000 - tn: 227403.0000 - fn: 104.0000 - accuracy: 0.9993 - precision: 0.8491 - recall: 0.7340 - auc: 0.9444 - val_loss: 0.0032 - val_tp: 79.0000 - val_fp: 11.0000 - val_tn: 56850.0000 - val_fn: 22.0000 - val_accuracy: 0.9994 - val_precision: 0.8778 - val_recall: 0.7822 - val_auc: 0.9403\n",
      "Epoch 17/100\n",
      "112/112 [==============================] - 0s 3ms/step - loss: 0.0039 - tp: 278.0000 - fp: 47.0000 - tn: 227407.0000 - fn: 113.0000 - accuracy: 0.9993 - precision: 0.8554 - recall: 0.7110 - auc: 0.9378 - val_loss: 0.0032 - val_tp: 79.0000 - val_fp: 13.0000 - val_tn: 56848.0000 - val_fn: 22.0000 - val_accuracy: 0.9994 - val_precision: 0.8587 - val_recall: 0.7822 - val_auc: 0.9403\n",
      "Epoch 18/100\n",
      "112/112 [==============================] - 0s 2ms/step - loss: 0.0037 - tp: 288.0000 - fp: 46.0000 - tn: 227408.0000 - fn: 103.0000 - accuracy: 0.9993 - precision: 0.8623 - recall: 0.7366 - auc: 0.9393 - val_loss: 0.0031 - val_tp: 81.0000 - val_fp: 13.0000 - val_tn: 56848.0000 - val_fn: 20.0000 - val_accuracy: 0.9994 - val_precision: 0.8617 - val_recall: 0.8020 - val_auc: 0.9403\n",
      "Epoch 19/100\n",
      "112/112 [==============================] - 0s 2ms/step - loss: 0.0037 - tp: 289.0000 - fp: 50.0000 - tn: 227404.0000 - fn: 102.0000 - accuracy: 0.9993 - precision: 0.8525 - recall: 0.7391 - auc: 0.9420 - val_loss: 0.0031 - val_tp: 81.0000 - val_fp: 13.0000 - val_tn: 56848.0000 - val_fn: 20.0000 - val_accuracy: 0.9994 - val_precision: 0.8617 - val_recall: 0.8020 - val_auc: 0.9403\n",
      "Epoch 20/100\n",
      "112/112 [==============================] - 0s 2ms/step - loss: 0.0035 - tp: 290.0000 - fp: 46.0000 - tn: 227408.0000 - fn: 101.0000 - accuracy: 0.9994 - precision: 0.8631 - recall: 0.7417 - auc: 0.9485 - val_loss: 0.0031 - val_tp: 82.0000 - val_fp: 13.0000 - val_tn: 56848.0000 - val_fn: 19.0000 - val_accuracy: 0.9994 - val_precision: 0.8632 - val_recall: 0.8119 - val_auc: 0.9452\n",
      "Epoch 21/100\n",
      "112/112 [==============================] - 0s 2ms/step - loss: 0.0036 - tp: 292.0000 - fp: 50.0000 - tn: 227404.0000 - fn: 99.0000 - accuracy: 0.9993 - precision: 0.8538 - recall: 0.7468 - auc: 0.9484 - val_loss: 0.0031 - val_tp: 82.0000 - val_fp: 14.0000 - val_tn: 56847.0000 - val_fn: 19.0000 - val_accuracy: 0.9994 - val_precision: 0.8542 - val_recall: 0.8119 - val_auc: 0.9403\n"
     ]
    },
    {
     "name": "stdout",
     "output_type": "stream",
     "text": [
      "Epoch 22/100\n",
      "112/112 [==============================] - 0s 3ms/step - loss: 0.0035 - tp: 298.0000 - fp: 48.0000 - tn: 227406.0000 - fn: 93.0000 - accuracy: 0.9994 - precision: 0.8613 - recall: 0.7621 - auc: 0.9410 - val_loss: 0.0031 - val_tp: 82.0000 - val_fp: 14.0000 - val_tn: 56847.0000 - val_fn: 19.0000 - val_accuracy: 0.9994 - val_precision: 0.8542 - val_recall: 0.8119 - val_auc: 0.9452\n",
      "Epoch 23/100\n",
      "112/112 [==============================] - 0s 3ms/step - loss: 0.0035 - tp: 294.0000 - fp: 47.0000 - tn: 227407.0000 - fn: 97.0000 - accuracy: 0.9994 - precision: 0.8622 - recall: 0.7519 - auc: 0.9486 - val_loss: 0.0031 - val_tp: 81.0000 - val_fp: 14.0000 - val_tn: 56847.0000 - val_fn: 20.0000 - val_accuracy: 0.9994 - val_precision: 0.8526 - val_recall: 0.8020 - val_auc: 0.9403\n",
      "Epoch 24/100\n",
      "112/112 [==============================] - 0s 2ms/step - loss: 0.0033 - tp: 288.0000 - fp: 43.0000 - tn: 227411.0000 - fn: 103.0000 - accuracy: 0.9994 - precision: 0.8701 - recall: 0.7366 - auc: 0.9462 - val_loss: 0.0031 - val_tp: 81.0000 - val_fp: 14.0000 - val_tn: 56847.0000 - val_fn: 20.0000 - val_accuracy: 0.9994 - val_precision: 0.8526 - val_recall: 0.8020 - val_auc: 0.9452\n",
      "Epoch 25/100\n",
      "112/112 [==============================] - 0s 2ms/step - loss: 0.0034 - tp: 295.0000 - fp: 46.0000 - tn: 227408.0000 - fn: 96.0000 - accuracy: 0.9994 - precision: 0.8651 - recall: 0.7545 - auc: 0.9449 - val_loss: 0.0031 - val_tp: 81.0000 - val_fp: 14.0000 - val_tn: 56847.0000 - val_fn: 20.0000 - val_accuracy: 0.9994 - val_precision: 0.8526 - val_recall: 0.8020 - val_auc: 0.9403\n",
      "Epoch 26/100\n",
      "112/112 [==============================] - 0s 2ms/step - loss: 0.0033 - tp: 289.0000 - fp: 49.0000 - tn: 227405.0000 - fn: 102.0000 - accuracy: 0.9993 - precision: 0.8550 - recall: 0.7391 - auc: 0.9514 - val_loss: 0.0031 - val_tp: 82.0000 - val_fp: 15.0000 - val_tn: 56846.0000 - val_fn: 19.0000 - val_accuracy: 0.9994 - val_precision: 0.8454 - val_recall: 0.8119 - val_auc: 0.9403\n",
      "Epoch 27/100\n",
      "112/112 [==============================] - 0s 3ms/step - loss: 0.0032 - tp: 289.0000 - fp: 45.0000 - tn: 227409.0000 - fn: 102.0000 - accuracy: 0.9994 - precision: 0.8653 - recall: 0.7391 - auc: 0.9603 - val_loss: 0.0031 - val_tp: 80.0000 - val_fp: 15.0000 - val_tn: 56846.0000 - val_fn: 21.0000 - val_accuracy: 0.9994 - val_precision: 0.8421 - val_recall: 0.7921 - val_auc: 0.9403\n",
      "Epoch 28/100\n",
      "112/112 [==============================] - 0s 2ms/step - loss: 0.0032 - tp: 297.0000 - fp: 50.0000 - tn: 227404.0000 - fn: 94.0000 - accuracy: 0.9994 - precision: 0.8559 - recall: 0.7596 - auc: 0.9540 - val_loss: 0.0031 - val_tp: 81.0000 - val_fp: 15.0000 - val_tn: 56846.0000 - val_fn: 20.0000 - val_accuracy: 0.9994 - val_precision: 0.8438 - val_recall: 0.8020 - val_auc: 0.9452\n",
      "Epoch 29/100\n",
      "112/112 [==============================] - 0s 2ms/step - loss: 0.0031 - tp: 294.0000 - fp: 51.0000 - tn: 227403.0000 - fn: 97.0000 - accuracy: 0.9994 - precision: 0.8522 - recall: 0.7519 - auc: 0.9593 - val_loss: 0.0032 - val_tp: 81.0000 - val_fp: 15.0000 - val_tn: 56846.0000 - val_fn: 20.0000 - val_accuracy: 0.9994 - val_precision: 0.8438 - val_recall: 0.8020 - val_auc: 0.9354\n",
      "Epoch 30/100\n",
      "112/112 [==============================] - 0s 2ms/step - loss: 0.0030 - tp: 298.0000 - fp: 50.0000 - tn: 227404.0000 - fn: 93.0000 - accuracy: 0.9994 - precision: 0.8563 - recall: 0.7621 - auc: 0.9530 - val_loss: 0.0031 - val_tp: 80.0000 - val_fp: 15.0000 - val_tn: 56846.0000 - val_fn: 21.0000 - val_accuracy: 0.9994 - val_precision: 0.8421 - val_recall: 0.7921 - val_auc: 0.9452\n",
      "Epoch 31/100\n",
      "112/112 [==============================] - 0s 2ms/step - loss: 0.0032 - tp: 285.0000 - fp: 45.0000 - tn: 227409.0000 - fn: 106.0000 - accuracy: 0.9993 - precision: 0.8636 - recall: 0.7289 - auc: 0.9553 - val_loss: 0.0031 - val_tp: 79.0000 - val_fp: 15.0000 - val_tn: 56846.0000 - val_fn: 22.0000 - val_accuracy: 0.9994 - val_precision: 0.8404 - val_recall: 0.7822 - val_auc: 0.9452\n",
      "Epoch 32/100\n",
      "112/112 [==============================] - 0s 2ms/step - loss: 0.0030 - tp: 302.0000 - fp: 48.0000 - tn: 227406.0000 - fn: 89.0000 - accuracy: 0.9994 - precision: 0.8629 - recall: 0.7724 - auc: 0.9555 - val_loss: 0.0031 - val_tp: 79.0000 - val_fp: 14.0000 - val_tn: 56847.0000 - val_fn: 22.0000 - val_accuracy: 0.9994 - val_precision: 0.8495 - val_recall: 0.7822 - val_auc: 0.9403\n",
      "Epoch 33/100\n",
      "112/112 [==============================] - 0s 2ms/step - loss: 0.0030 - tp: 298.0000 - fp: 47.0000 - tn: 227407.0000 - fn: 93.0000 - accuracy: 0.9994 - precision: 0.8638 - recall: 0.7621 - auc: 0.9542 - val_loss: 0.0031 - val_tp: 79.0000 - val_fp: 14.0000 - val_tn: 56847.0000 - val_fn: 22.0000 - val_accuracy: 0.9994 - val_precision: 0.8495 - val_recall: 0.7822 - val_auc: 0.9403\n",
      "Epoch 34/100\n",
      "112/112 [==============================] - 0s 2ms/step - loss: 0.0030 - tp: 300.0000 - fp: 49.0000 - tn: 227405.0000 - fn: 91.0000 - accuracy: 0.9994 - precision: 0.8596 - recall: 0.7673 - auc: 0.9542 - val_loss: 0.0031 - val_tp: 80.0000 - val_fp: 15.0000 - val_tn: 56846.0000 - val_fn: 21.0000 - val_accuracy: 0.9994 - val_precision: 0.8421 - val_recall: 0.7921 - val_auc: 0.9403\n",
      "Epoch 35/100\n",
      "112/112 [==============================] - 0s 2ms/step - loss: 0.0029 - tp: 293.0000 - fp: 44.0000 - tn: 227410.0000 - fn: 98.0000 - accuracy: 0.9994 - precision: 0.8694 - recall: 0.7494 - auc: 0.9568 - val_loss: 0.0031 - val_tp: 80.0000 - val_fp: 14.0000 - val_tn: 56847.0000 - val_fn: 21.0000 - val_accuracy: 0.9994 - val_precision: 0.8511 - val_recall: 0.7921 - val_auc: 0.9403\n",
      "Epoch 36/100\n",
      "112/112 [==============================] - 0s 3ms/step - loss: 0.0028 - tp: 298.0000 - fp: 44.0000 - tn: 227410.0000 - fn: 93.0000 - accuracy: 0.9994 - precision: 0.8713 - recall: 0.7621 - auc: 0.9633 - val_loss: 0.0031 - val_tp: 81.0000 - val_fp: 15.0000 - val_tn: 56846.0000 - val_fn: 20.0000 - val_accuracy: 0.9994 - val_precision: 0.8438 - val_recall: 0.8020 - val_auc: 0.9403\n",
      "Epoch 37/100\n",
      "112/112 [==============================] - 0s 2ms/step - loss: 0.0028 - tp: 301.0000 - fp: 46.0000 - tn: 227408.0000 - fn: 90.0000 - accuracy: 0.9994 - precision: 0.8674 - recall: 0.7698 - auc: 0.9632 - val_loss: 0.0031 - val_tp: 80.0000 - val_fp: 13.0000 - val_tn: 56848.0000 - val_fn: 21.0000 - val_accuracy: 0.9994 - val_precision: 0.8602 - val_recall: 0.7921 - val_auc: 0.9403\n",
      "Epoch 38/100\n",
      "112/112 [==============================] - 0s 2ms/step - loss: 0.0028 - tp: 299.0000 - fp: 43.0000 - tn: 227411.0000 - fn: 92.0000 - accuracy: 0.9994 - precision: 0.8743 - recall: 0.7647 - auc: 0.9596 - val_loss: 0.0031 - val_tp: 80.0000 - val_fp: 13.0000 - val_tn: 56848.0000 - val_fn: 21.0000 - val_accuracy: 0.9994 - val_precision: 0.8602 - val_recall: 0.7921 - val_auc: 0.9403\n",
      "Epoch 39/100\n",
      "112/112 [==============================] - 0s 2ms/step - loss: 0.0028 - tp: 295.0000 - fp: 47.0000 - tn: 227407.0000 - fn: 96.0000 - accuracy: 0.9994 - precision: 0.8626 - recall: 0.7545 - auc: 0.9633 - val_loss: 0.0031 - val_tp: 79.0000 - val_fp: 13.0000 - val_tn: 56848.0000 - val_fn: 22.0000 - val_accuracy: 0.9994 - val_precision: 0.8587 - val_recall: 0.7822 - val_auc: 0.9403\n",
      "Epoch 40/100\n",
      "102/112 [==========================>...] - ETA: 0s - loss: 0.0027 - tp: 271.0000 - fp: 39.0000 - tn: 208500.0000 - fn: 86.0000 - accuracy: 0.9994 - precision: 0.8742 - recall: 0.7591 - auc: 0.9656Restoring model weights from the end of the best epoch: 30.\n",
      "112/112 [==============================] - 0s 2ms/step - loss: 0.0028 - tp: 296.0000 - fp: 43.0000 - tn: 227411.0000 - fn: 95.0000 - accuracy: 0.9994 - precision: 0.8732 - recall: 0.7570 - auc: 0.9634 - val_loss: 0.0030 - val_tp: 79.0000 - val_fp: 13.0000 - val_tn: 56848.0000 - val_fn: 22.0000 - val_accuracy: 0.9994 - val_precision: 0.8587 - val_recall: 0.7822 - val_auc: 0.9403\n",
      "Epoch 00040: early stopping\n"
     ]
    }
   ],
   "source": [
    "model = make_model()\n",
    "baseline_history = model.fit(X_train, y_train, batch_size=BATCH_SIZE,\n",
    "                             epochs=EPOCHS, \n",
    "                        callbacks=[early_stopping], \n",
    "                             validation_data=(X_test, y_test))"
   ]
  },
  {
   "cell_type": "code",
   "execution_count": 17,
   "metadata": {},
   "outputs": [
    {
     "data": {
      "text/plain": [
       "0.9993855357170105"
      ]
     },
     "execution_count": 17,
     "metadata": {},
     "output_type": "execute_result"
    }
   ],
   "source": [
    "baseline_history.history['val_accuracy'][-1]"
   ]
  },
  {
   "cell_type": "markdown",
   "metadata": {
    "id": "EEf7OlXQt3zf"
   },
   "source": [
    "## Plot trainig history"
   ]
  },
  {
   "cell_type": "code",
   "execution_count": 18,
   "metadata": {
    "id": "OnYt_2T3t3zg"
   },
   "outputs": [],
   "source": [
    "def plot_metrics(history):\n",
    "    metrics = ['loss', 'auc', 'precision', 'recall']\n",
    "    \n",
    "    plt.figure(figsize=(12, 8))\n",
    "    for i, metric in enumerate(metrics):\n",
    "        name = metric.capitalize()\n",
    "        plt.subplot(2, 2, i+1)\n",
    "        plt.plot(history.history[metric], label='Train')\n",
    "        plt.plot(history.history['val_' + metric], label='Val')\n",
    "        plt.title(metric)\n",
    "        plt.xlabel('Epoch')\n",
    "        plt.ylabel(name)\n",
    "        if metric == 'loss':\n",
    "            plt.ylim([0, plt.ylim()[1]])\n",
    "        elif metric == 'auc':\n",
    "            plt.ylim([0.8, 1])\n",
    "        else:\n",
    "            plt.ylim([0, 1])\n",
    "        plt.legend()\n",
    "    plt.tight_layout()"
   ]
  },
  {
   "cell_type": "code",
   "execution_count": 19,
   "metadata": {
    "colab": {
     "base_uri": "https://localhost:8080/",
     "height": 585
    },
    "id": "8H3Omag9t3zj",
    "outputId": "e4e7b06f-05d4-44dc-80c8-63c7a6d00225"
   },
   "outputs": [
    {
     "data": {
      "image/png": "[encoded data removed]",
      "text/plain": [
       "<Figure size 864x576 with 4 Axes>"
      ]
     },
     "metadata": {
      "needs_background": "light"
     },
     "output_type": "display_data"
    }
   ],
   "source": [
    "plot_metrics(baseline_history)"
   ]
  },
  {
   "cell_type": "markdown",
   "metadata": {
    "id": "PROwAK95t3zl"
   },
   "source": [
    "## Evaluate Metric\n",
    "\n",
    "- confusion matrix 를 이용하여 metrics 요약"
   ]
  },
  {
   "cell_type": "code",
   "execution_count": 20,
   "metadata": {
    "colab": {
     "base_uri": "https://localhost:8080/"
    },
    "id": "ZSXfIygjGIpe",
    "outputId": "32f14f0f-3a47-421c-eb6a-c9b391b58298"
   },
   "outputs": [
    {
     "data": {
      "text/plain": [
       "(56962, 1)"
      ]
     },
     "execution_count": 20,
     "metadata": {},
     "output_type": "execute_result"
    }
   ],
   "source": [
    "predictions_baseline  = model.predict(X_test, batch_size=BATCH_SIZE)\n",
    "\n",
    "predictions_baseline.shape"
   ]
  },
  {
   "cell_type": "code",
   "execution_count": 21,
   "metadata": {
    "id": "GKBFC56Nt3zq"
   },
   "outputs": [],
   "source": [
    "def plot_cm(labels, pred_proba, threshold=0.5):\n",
    "    \n",
    "    y_predict = pred_proba > threshold\n",
    "    \n",
    "    cm = confusion_matrix(y_test, y_predict)\n",
    "    \n",
    "    print(\"confution matrix\\n\", cm)\n",
    "    print()\n",
    "    print(\"f1 score\\n\", f1_score(y_test, y_predict))\n",
    "    print()\n",
    "    print(\"Accuracy: {:.5f}\".format(accuracy_score(y_test, y_predict)))\n",
    "    print(\"Precision: {:.5f}\".format(precision_score(y_test, y_predict)))\n",
    "    print(\"Recall: {:.5f}\".format(recall_score(y_test, y_predict)))\n",
    "    \n",
    "    plt.figure(figsize=(5,5))\n",
    "\n",
    "    sns.heatmap(cm, annot=True, fmt=\"d\")\n",
    "    plt.title('Confusion matrix @>{:.2f} '.format(threshold))\n",
    "    plt.ylabel('Actual label')\n",
    "    plt.xlabel('Predicted label')"
   ]
  },
  {
   "cell_type": "markdown",
   "metadata": {
    "id": "LWD-EIM7t3zt"
   },
   "source": [
    "### Test dataset 으로 evaluate 하고, confusion matrix 를 그린다"
   ]
  },
  {
   "cell_type": "code",
   "execution_count": 22,
   "metadata": {
    "colab": {
     "base_uri": "https://localhost:8080/",
     "height": 440
    },
    "id": "Y3nVjXCUt3zu",
    "outputId": "fabb6530-d1c9-40c9-d67b-faaeaafedd7e"
   },
   "outputs": [
    {
     "name": "stdout",
     "output_type": "stream",
     "text": [
      "confution matrix\n",
      " [[56846    15]\n",
      " [   21    80]]\n",
      "\n",
      "f1 score\n",
      " 0.8163265306122449\n",
      "\n",
      "Accuracy: 0.99937\n",
      "Precision: 0.84211\n",
      "Recall: 0.79208\n"
     ]
    },
    {
     "data": {
      "image/png": "[encoded data removed]",
      "text/plain": [
       "<Figure size 360x360 with 2 Axes>"
      ]
     },
     "metadata": {
      "needs_background": "light"
     },
     "output_type": "display_data"
    }
   ],
   "source": [
    "plot_cm(y_test, predictions_baseline, threshold=0.5)"
   ]
  },
  {
   "cell_type": "markdown",
   "metadata": {
    "id": "8F2krKGSt3zx"
   },
   "source": [
    "## Plot ROC"
   ]
  },
  {
   "cell_type": "code",
   "execution_count": 23,
   "metadata": {
    "id": "gAeL0U1et3zy"
   },
   "outputs": [],
   "source": [
    "def plot_roc(name, labels, predictions, **kwargs):\n",
    "    \n",
    "    fp, tp, _ = roc_curve(labels, predictions)\n",
    "    auc = roc_auc_score(y_test, predictions)\n",
    "    \n",
    "    plt.plot(100*fp, 100*tp, label=f\"auc of {name}={auc:.5f}\", linewidth=2, **kwargs)\n",
    "    plt.xlabel('FP [%]')\n",
    "    plt.ylabel('TP [%]')\n",
    "    plt.xlim([-0.5,20])\n",
    "    plt.ylim([80,100.5])\n",
    "    plt.grid(True)\n",
    "    ax = plt.gca()\n",
    "    ax.set_aspect('equal')\n",
    "    fig = plt.gcf()\n",
    "    fig.set_size_inches(8, 6)"
   ]
  },
  {
   "cell_type": "code",
   "execution_count": 24,
   "metadata": {
    "colab": {
     "base_uri": "https://localhost:8080/",
     "height": 406
    },
    "id": "_-fDmxMTt3z0",
    "outputId": "d31d7e5b-546e-4b74-9288-ebe04f30dbcd"
   },
   "outputs": [
    {
     "data": {
      "text/plain": [
       "<matplotlib.legend.Legend at 0x7fb0bf7a82d0>"
      ]
     },
     "execution_count": 24,
     "metadata": {},
     "output_type": "execute_result"
    },
    {
     "data": {
      "image/png": "[encoded data removed]",
      "text/plain": [
       "<Figure size 576x432 with 1 Axes>"
      ]
     },
     "metadata": {
      "needs_background": "light"
     },
     "output_type": "display_data"
    }
   ],
   "source": [
    "plot_roc(\"Test Baseline\", y_test, predictions_baseline, color='blue', linestyle='--')\n",
    "plt.legend(loc='lower right')"
   ]
  },
  {
   "cell_type": "markdown",
   "metadata": {
    "id": "_d83CAb9t3z5"
   },
   "source": [
    "정밀도가 비교적 높은 것처럼 보이지만 리콜 및 ROC 곡선 아래 면적 (AUC)은 원하는만큼 높지 않습니다. 분류기는 종종 정밀도와 재현율을 모두 극대화하려고 할 때 어려움에 직면합니다. 특히 불균형 데이터 세트로 작업 할 때는 더욱 그렇습니다. "
   ]
  },
  {
   "cell_type": "markdown",
   "metadata": {
    "id": "-P-iJJ1pt3z5"
   },
   "source": [
    "## Class Weight 조정\n",
    "\n",
    "사용할 positive 샘플이 많지 않기 때문에 가용한 적은 수의 sample 에 classifier 가 더 비중을 두도록 할 수 있다. \n",
    "\n",
    "step1 - 레이블 및 관련 가중치로 dictionary 정의 \n",
    "```\n",
    "class_weight = {0: 1.,\n",
    "                1: 50.,\n",
    "                2: 2.}\n",
    "```                \n",
    "step2 - dictionary를 매개 변수로 공급:  \n",
    "```\n",
    "    model.fit(X_train, Y_train, nb_epoch=5, batch_size=32, class_weight=class_weight)\n",
    "```\n",
    "\n",
    "- class 1 하나를 50 개의 classs 0 로 취급 $\\rightarrow$ loss function 계산 시 class_weight 에 지정된 대로 가중 평균"
   ]
  },
  {
   "cell_type": "code",
   "execution_count": 25,
   "metadata": {},
   "outputs": [
    {
     "data": {
      "text/plain": [
       "(284315, 492, 284807)"
      ]
     },
     "execution_count": 25,
     "metadata": {},
     "output_type": "execute_result"
    }
   ],
   "source": [
    "normal, fraud, total"
   ]
  },
  {
   "cell_type": "code",
   "execution_count": 26,
   "metadata": {
    "colab": {
     "base_uri": "https://localhost:8080/"
    },
    "id": "8VevE6hHt3z6",
    "outputId": "d8f19e43-42a8-4db7-ade0-7031c685c343"
   },
   "outputs": [
    {
     "name": "stdout",
     "output_type": "stream",
     "text": [
      "Weight for class 0: 0.50\n",
      "Weight for class 1: 289.44\n"
     ]
    }
   ],
   "source": [
    "# total/2 로 scale 하면 loss를 비슷한 크기로 유지하는 데 도움이됩니다.\n",
    "# 모든 example의 가중치 합계는 동일하게 유지됩니다.\n",
    "\n",
    "weight_for_0 = (1 / normal)*(total) / 2.0 \n",
    "weight_for_1 = (1 / fraud)*(total) / 2.0\n",
    "\n",
    "class_weight = {0: weight_for_0, 1: weight_for_1}\n",
    "\n",
    "print('Weight for class 0: {:.2f}'.format(weight_for_0))\n",
    "print('Weight for class 1: {:.2f}'.format(weight_for_1))"
   ]
  },
  {
   "cell_type": "markdown",
   "metadata": {},
   "source": [
    "class_weight  \n",
    "\n",
    "    학습 클래스의 샘플에 대한 모델 손실에 적용할 가중치에 대한 사전 매핑 클래스 인덱스(정수). 이는 모델이 과소 표현된 클래스의 샘플에 \"더 많은주의를 기울이도록\"지시하는 데 유용."
   ]
  },
  {
   "cell_type": "code",
   "execution_count": 27,
   "metadata": {
    "colab": {
     "base_uri": "https://localhost:8080/"
    },
    "id": "Am_veDXSt3z9",
    "outputId": "ec4394d4-b43b-4096-c253-27cd3e36af29",
    "scrolled": true
   },
   "outputs": [
    {
     "name": "stdout",
     "output_type": "stream",
     "text": [
      "Epoch 1/100\n",
      "112/112 [==============================] - 2s 7ms/step - loss: 0.7624 - tp: 333.0000 - fp: 49153.0000 - tn: 235162.0000 - fn: 159.0000 - accuracy: 0.8269 - precision: 0.0067 - recall: 0.6768 - auc: 0.7898 - val_loss: 0.4514 - val_tp: 91.0000 - val_fp: 7101.0000 - val_tn: 49760.0000 - val_fn: 10.0000 - val_accuracy: 0.8752 - val_precision: 0.0127 - val_recall: 0.9010 - val_auc: 0.9450\n",
      "Epoch 2/100\n",
      "112/112 [==============================] - 0s 2ms/step - loss: 0.3138 - tp: 344.0000 - fp: 26894.0000 - tn: 200560.0000 - fn: 47.0000 - accuracy: 0.8818 - precision: 0.0126 - recall: 0.8798 - auc: 0.9405 - val_loss: 0.2730 - val_tp: 90.0000 - val_fp: 2067.0000 - val_tn: 54794.0000 - val_fn: 11.0000 - val_accuracy: 0.9635 - val_precision: 0.0417 - val_recall: 0.8911 - val_auc: 0.9547\n",
      "Epoch 3/100\n",
      "112/112 [==============================] - 0s 2ms/step - loss: 0.2891 - tp: 333.0000 - fp: 14703.0000 - tn: 212751.0000 - fn: 58.0000 - accuracy: 0.9352 - precision: 0.0221 - recall: 0.8517 - auc: 0.9369 - val_loss: 0.2115 - val_tp: 91.0000 - val_fp: 1734.0000 - val_tn: 55127.0000 - val_fn: 10.0000 - val_accuracy: 0.9694 - val_precision: 0.0499 - val_recall: 0.9010 - val_auc: 0.9643\n",
      "Epoch 4/100\n",
      "112/112 [==============================] - 0s 2ms/step - loss: 0.2320 - tp: 341.0000 - fp: 11210.0000 - tn: 216244.0000 - fn: 50.0000 - accuracy: 0.9506 - precision: 0.0295 - recall: 0.8721 - auc: 0.9591 - val_loss: 0.1725 - val_tp: 91.0000 - val_fp: 1534.0000 - val_tn: 55327.0000 - val_fn: 10.0000 - val_accuracy: 0.9729 - val_precision: 0.0560 - val_recall: 0.9010 - val_auc: 0.9686\n",
      "Epoch 5/100\n",
      "112/112 [==============================] - 0s 2ms/step - loss: 0.1978 - tp: 357.0000 - fp: 9240.0000 - tn: 218214.0000 - fn: 34.0000 - accuracy: 0.9593 - precision: 0.0372 - recall: 0.9130 - auc: 0.9701 - val_loss: 0.1486 - val_tp: 91.0000 - val_fp: 1447.0000 - val_tn: 55414.0000 - val_fn: 10.0000 - val_accuracy: 0.9744 - val_precision: 0.0592 - val_recall: 0.9010 - val_auc: 0.9723\n",
      "Epoch 6/100\n",
      "112/112 [==============================] - 0s 2ms/step - loss: 0.2037 - tp: 346.0000 - fp: 8652.0000 - tn: 218802.0000 - fn: 45.0000 - accuracy: 0.9618 - precision: 0.0385 - recall: 0.8849 - auc: 0.9674 - val_loss: 0.1369 - val_tp: 92.0000 - val_fp: 1467.0000 - val_tn: 55394.0000 - val_fn: 9.0000 - val_accuracy: 0.9741 - val_precision: 0.0590 - val_recall: 0.9109 - val_auc: 0.9765\n",
      "Epoch 7/100\n",
      "112/112 [==============================] - 0s 2ms/step - loss: 0.1800 - tp: 355.0000 - fp: 8481.0000 - tn: 218973.0000 - fn: 36.0000 - accuracy: 0.9626 - precision: 0.0402 - recall: 0.9079 - auc: 0.9743 - val_loss: 0.1226 - val_tp: 91.0000 - val_fp: 1393.0000 - val_tn: 55468.0000 - val_fn: 10.0000 - val_accuracy: 0.9754 - val_precision: 0.0613 - val_recall: 0.9010 - val_auc: 0.9788\n",
      "Epoch 8/100\n",
      "112/112 [==============================] - 0s 2ms/step - loss: 0.1737 - tp: 350.0000 - fp: 7514.0000 - tn: 219940.0000 - fn: 41.0000 - accuracy: 0.9668 - precision: 0.0445 - recall: 0.8951 - auc: 0.9779 - val_loss: 0.1242 - val_tp: 93.0000 - val_fp: 1577.0000 - val_tn: 55284.0000 - val_fn: 8.0000 - val_accuracy: 0.9722 - val_precision: 0.0557 - val_recall: 0.9208 - val_auc: 0.9807\n",
      "Epoch 9/100\n",
      "112/112 [==============================] - 0s 2ms/step - loss: 0.1656 - tp: 355.0000 - fp: 8460.0000 - tn: 218994.0000 - fn: 36.0000 - accuracy: 0.9627 - precision: 0.0403 - recall: 0.9079 - auc: 0.9806 - val_loss: 0.1108 - val_tp: 93.0000 - val_fp: 1477.0000 - val_tn: 55384.0000 - val_fn: 8.0000 - val_accuracy: 0.9739 - val_precision: 0.0592 - val_recall: 0.9208 - val_auc: 0.9808\n",
      "Epoch 10/100\n",
      "112/112 [==============================] - 0s 2ms/step - loss: 0.1610 - tp: 355.0000 - fp: 8431.0000 - tn: 219023.0000 - fn: 36.0000 - accuracy: 0.9628 - precision: 0.0404 - recall: 0.9079 - auc: 0.9817 - val_loss: 0.1093 - val_tp: 93.0000 - val_fp: 1595.0000 - val_tn: 55266.0000 - val_fn: 8.0000 - val_accuracy: 0.9719 - val_precision: 0.0551 - val_recall: 0.9208 - val_auc: 0.9822\n",
      "Epoch 11/100\n",
      "112/112 [==============================] - 0s 2ms/step - loss: 0.1524 - tp: 361.0000 - fp: 7987.0000 - tn: 219467.0000 - fn: 30.0000 - accuracy: 0.9648 - precision: 0.0432 - recall: 0.9233 - auc: 0.9832 - val_loss: 0.1005 - val_tp: 93.0000 - val_fp: 1389.0000 - val_tn: 55472.0000 - val_fn: 8.0000 - val_accuracy: 0.9755 - val_precision: 0.0628 - val_recall: 0.9208 - val_auc: 0.9827\n",
      "Epoch 12/100\n",
      "112/112 [==============================] - 0s 2ms/step - loss: 0.1496 - tp: 359.0000 - fp: 7261.0000 - tn: 220193.0000 - fn: 32.0000 - accuracy: 0.9680 - precision: 0.0471 - recall: 0.9182 - auc: 0.9836 - val_loss: 0.1022 - val_tp: 93.0000 - val_fp: 1508.0000 - val_tn: 55353.0000 - val_fn: 8.0000 - val_accuracy: 0.9734 - val_precision: 0.0581 - val_recall: 0.9208 - val_auc: 0.9821\n",
      "Epoch 13/100\n",
      "112/112 [==============================] - 0s 2ms/step - loss: 0.1401 - tp: 363.0000 - fp: 8155.0000 - tn: 219299.0000 - fn: 28.0000 - accuracy: 0.9641 - precision: 0.0426 - recall: 0.9284 - auc: 0.9871 - val_loss: 0.0903 - val_tp: 93.0000 - val_fp: 1312.0000 - val_tn: 55549.0000 - val_fn: 8.0000 - val_accuracy: 0.9768 - val_precision: 0.0662 - val_recall: 0.9208 - val_auc: 0.9847\n",
      "Epoch 14/100\n",
      "112/112 [==============================] - 0s 2ms/step - loss: 0.1494 - tp: 357.0000 - fp: 7258.0000 - tn: 220196.0000 - fn: 34.0000 - accuracy: 0.9680 - precision: 0.0469 - recall: 0.9130 - auc: 0.9836 - val_loss: 0.0969 - val_tp: 93.0000 - val_fp: 1432.0000 - val_tn: 55429.0000 - val_fn: 8.0000 - val_accuracy: 0.9747 - val_precision: 0.0610 - val_recall: 0.9208 - val_auc: 0.9847\n",
      "Epoch 15/100\n",
      "112/112 [==============================] - 0s 2ms/step - loss: 0.1431 - tp: 360.0000 - fp: 7323.0000 - tn: 220131.0000 - fn: 31.0000 - accuracy: 0.9677 - precision: 0.0469 - recall: 0.9207 - auc: 0.9850 - val_loss: 0.0865 - val_tp: 93.0000 - val_fp: 1273.0000 - val_tn: 55588.0000 - val_fn: 8.0000 - val_accuracy: 0.9775 - val_precision: 0.0681 - val_recall: 0.9208 - val_auc: 0.9854\n",
      "Epoch 16/100\n",
      "112/112 [==============================] - 0s 2ms/step - loss: 0.1299 - tp: 360.0000 - fp: 6253.0000 - tn: 221201.0000 - fn: 31.0000 - accuracy: 0.9724 - precision: 0.0544 - recall: 0.9207 - auc: 0.9889 - val_loss: 0.0857 - val_tp: 93.0000 - val_fp: 1316.0000 - val_tn: 55545.0000 - val_fn: 8.0000 - val_accuracy: 0.9768 - val_precision: 0.0660 - val_recall: 0.9208 - val_auc: 0.9865\n",
      "Epoch 17/100\n",
      "112/112 [==============================] - 0s 2ms/step - loss: 0.1333 - tp: 359.0000 - fp: 7064.0000 - tn: 220390.0000 - fn: 32.0000 - accuracy: 0.9689 - precision: 0.0484 - recall: 0.9182 - auc: 0.9879 - val_loss: 0.0866 - val_tp: 93.0000 - val_fp: 1426.0000 - val_tn: 55435.0000 - val_fn: 8.0000 - val_accuracy: 0.9748 - val_precision: 0.0612 - val_recall: 0.9208 - val_auc: 0.9869\n",
      "Epoch 18/100\n",
      "112/112 [==============================] - 0s 2ms/step - loss: 0.1255 - tp: 363.0000 - fp: 7611.0000 - tn: 219843.0000 - fn: 28.0000 - accuracy: 0.9665 - precision: 0.0455 - recall: 0.9284 - auc: 0.9903 - val_loss: 0.0865 - val_tp: 93.0000 - val_fp: 1435.0000 - val_tn: 55426.0000 - val_fn: 8.0000 - val_accuracy: 0.9747 - val_precision: 0.0609 - val_recall: 0.9208 - val_auc: 0.9875\n",
      "Epoch 19/100\n",
      "112/112 [==============================] - 0s 2ms/step - loss: 0.1228 - tp: 367.0000 - fp: 6855.0000 - tn: 220599.0000 - fn: 24.0000 - accuracy: 0.9698 - precision: 0.0508 - recall: 0.9386 - auc: 0.9897 - val_loss: 0.0860 - val_tp: 93.0000 - val_fp: 1508.0000 - val_tn: 55353.0000 - val_fn: 8.0000 - val_accuracy: 0.9734 - val_precision: 0.0581 - val_recall: 0.9208 - val_auc: 0.9885\n",
      "Epoch 20/100\n",
      "112/112 [==============================] - 0s 2ms/step - loss: 0.1166 - tp: 366.0000 - fp: 6950.0000 - tn: 220504.0000 - fn: 25.0000 - accuracy: 0.9694 - precision: 0.0500 - recall: 0.9361 - auc: 0.9907 - val_loss: 0.0807 - val_tp: 93.0000 - val_fp: 1388.0000 - val_tn: 55473.0000 - val_fn: 8.0000 - val_accuracy: 0.9755 - val_precision: 0.0628 - val_recall: 0.9208 - val_auc: 0.9881\n",
      "Epoch 21/100\n",
      "112/112 [==============================] - 0s 2ms/step - loss: 0.1220 - tp: 363.0000 - fp: 7316.0000 - tn: 220138.0000 - fn: 28.0000 - accuracy: 0.9678 - precision: 0.0473 - recall: 0.9284 - auc: 0.9902 - val_loss: 0.0807 - val_tp: 94.0000 - val_fp: 1416.0000 - val_tn: 55445.0000 - val_fn: 7.0000 - val_accuracy: 0.9750 - val_precision: 0.0623 - val_recall: 0.9307 - val_auc: 0.9882\n"
     ]
    },
    {
     "name": "stdout",
     "output_type": "stream",
     "text": [
      "Epoch 22/100\n",
      "112/112 [==============================] - 0s 2ms/step - loss: 0.1308 - tp: 362.0000 - fp: 6786.0000 - tn: 220668.0000 - fn: 29.0000 - accuracy: 0.9701 - precision: 0.0506 - recall: 0.9258 - auc: 0.9902 - val_loss: 0.0780 - val_tp: 93.0000 - val_fp: 1320.0000 - val_tn: 55541.0000 - val_fn: 8.0000 - val_accuracy: 0.9767 - val_precision: 0.0658 - val_recall: 0.9208 - val_auc: 0.9873\n",
      "Epoch 23/100\n",
      "112/112 [==============================] - 0s 2ms/step - loss: 0.1170 - tp: 364.0000 - fp: 6569.0000 - tn: 220885.0000 - fn: 27.0000 - accuracy: 0.9711 - precision: 0.0525 - recall: 0.9309 - auc: 0.9914 - val_loss: 0.0821 - val_tp: 93.0000 - val_fp: 1488.0000 - val_tn: 55373.0000 - val_fn: 8.0000 - val_accuracy: 0.9737 - val_precision: 0.0588 - val_recall: 0.9208 - val_auc: 0.9872\n",
      "Epoch 24/100\n",
      "112/112 [==============================] - 0s 2ms/step - loss: 0.1140 - tp: 372.0000 - fp: 7002.0000 - tn: 220452.0000 - fn: 19.0000 - accuracy: 0.9692 - precision: 0.0504 - recall: 0.9514 - auc: 0.9910 - val_loss: 0.0813 - val_tp: 94.0000 - val_fp: 1509.0000 - val_tn: 55352.0000 - val_fn: 7.0000 - val_accuracy: 0.9734 - val_precision: 0.0586 - val_recall: 0.9307 - val_auc: 0.9879\n",
      "Epoch 25/100\n",
      "112/112 [==============================] - 0s 2ms/step - loss: 0.1082 - tp: 373.0000 - fp: 7314.0000 - tn: 220140.0000 - fn: 18.0000 - accuracy: 0.9678 - precision: 0.0485 - recall: 0.9540 - auc: 0.9929 - val_loss: 0.0807 - val_tp: 94.0000 - val_fp: 1539.0000 - val_tn: 55322.0000 - val_fn: 7.0000 - val_accuracy: 0.9729 - val_precision: 0.0576 - val_recall: 0.9307 - val_auc: 0.9869\n",
      "Epoch 26/100\n",
      "112/112 [==============================] - 0s 2ms/step - loss: 0.1053 - tp: 371.0000 - fp: 7450.0000 - tn: 220004.0000 - fn: 20.0000 - accuracy: 0.9672 - precision: 0.0474 - recall: 0.9488 - auc: 0.9933 - val_loss: 0.0694 - val_tp: 94.0000 - val_fp: 1187.0000 - val_tn: 55674.0000 - val_fn: 7.0000 - val_accuracy: 0.9790 - val_precision: 0.0734 - val_recall: 0.9307 - val_auc: 0.9868\n",
      "Epoch 27/100\n",
      "112/112 [==============================] - 0s 2ms/step - loss: 0.0983 - tp: 370.0000 - fp: 6416.0000 - tn: 221038.0000 - fn: 21.0000 - accuracy: 0.9717 - precision: 0.0545 - recall: 0.9463 - auc: 0.9940 - val_loss: 0.0660 - val_tp: 94.0000 - val_fp: 1180.0000 - val_tn: 55681.0000 - val_fn: 7.0000 - val_accuracy: 0.9792 - val_precision: 0.0738 - val_recall: 0.9307 - val_auc: 0.9874\n",
      "Epoch 28/100\n",
      "112/112 [==============================] - 0s 2ms/step - loss: 0.0959 - tp: 373.0000 - fp: 6132.0000 - tn: 221322.0000 - fn: 18.0000 - accuracy: 0.9730 - precision: 0.0573 - recall: 0.9540 - auc: 0.9944 - val_loss: 0.0710 - val_tp: 94.0000 - val_fp: 1342.0000 - val_tn: 55519.0000 - val_fn: 7.0000 - val_accuracy: 0.9763 - val_precision: 0.0655 - val_recall: 0.9307 - val_auc: 0.9887\n",
      "Epoch 29/100\n",
      "112/112 [==============================] - 0s 2ms/step - loss: 0.0948 - tp: 372.0000 - fp: 6493.0000 - tn: 220961.0000 - fn: 19.0000 - accuracy: 0.9714 - precision: 0.0542 - recall: 0.9514 - auc: 0.9941 - val_loss: 0.0611 - val_tp: 93.0000 - val_fp: 1085.0000 - val_tn: 55776.0000 - val_fn: 8.0000 - val_accuracy: 0.9808 - val_precision: 0.0789 - val_recall: 0.9208 - val_auc: 0.9874\n",
      "Epoch 30/100\n",
      "112/112 [==============================] - 0s 2ms/step - loss: 0.0980 - tp: 368.0000 - fp: 5762.0000 - tn: 221692.0000 - fn: 23.0000 - accuracy: 0.9746 - precision: 0.0600 - recall: 0.9412 - auc: 0.9938 - val_loss: 0.0634 - val_tp: 94.0000 - val_fp: 1154.0000 - val_tn: 55707.0000 - val_fn: 7.0000 - val_accuracy: 0.9796 - val_precision: 0.0753 - val_recall: 0.9307 - val_auc: 0.9876\n",
      "Epoch 31/100\n",
      "112/112 [==============================] - 0s 2ms/step - loss: 0.0852 - tp: 375.0000 - fp: 5984.0000 - tn: 221470.0000 - fn: 16.0000 - accuracy: 0.9737 - precision: 0.0590 - recall: 0.9591 - auc: 0.9960 - val_loss: 0.0633 - val_tp: 94.0000 - val_fp: 1179.0000 - val_tn: 55682.0000 - val_fn: 7.0000 - val_accuracy: 0.9792 - val_precision: 0.0738 - val_recall: 0.9307 - val_auc: 0.9842\n",
      "Epoch 32/100\n",
      "112/112 [==============================] - 0s 2ms/step - loss: 0.0930 - tp: 371.0000 - fp: 6554.0000 - tn: 220900.0000 - fn: 20.0000 - accuracy: 0.9711 - precision: 0.0536 - recall: 0.9488 - auc: 0.9949 - val_loss: 0.0611 - val_tp: 94.0000 - val_fp: 1131.0000 - val_tn: 55730.0000 - val_fn: 7.0000 - val_accuracy: 0.9800 - val_precision: 0.0767 - val_recall: 0.9307 - val_auc: 0.9847\n",
      "Epoch 33/100\n",
      "112/112 [==============================] - 0s 2ms/step - loss: 0.0937 - tp: 371.0000 - fp: 6364.0000 - tn: 221090.0000 - fn: 20.0000 - accuracy: 0.9720 - precision: 0.0551 - recall: 0.9488 - auc: 0.9948 - val_loss: 0.0677 - val_tp: 93.0000 - val_fp: 1289.0000 - val_tn: 55572.0000 - val_fn: 8.0000 - val_accuracy: 0.9772 - val_precision: 0.0673 - val_recall: 0.9208 - val_auc: 0.9842\n",
      "Epoch 34/100\n",
      "112/112 [==============================] - 0s 2ms/step - loss: 0.0839 - tp: 376.0000 - fp: 6326.0000 - tn: 221128.0000 - fn: 15.0000 - accuracy: 0.9722 - precision: 0.0561 - recall: 0.9616 - auc: 0.9959 - val_loss: 0.0561 - val_tp: 93.0000 - val_fp: 1007.0000 - val_tn: 55854.0000 - val_fn: 8.0000 - val_accuracy: 0.9822 - val_precision: 0.0845 - val_recall: 0.9208 - val_auc: 0.9811\n",
      "Epoch 35/100\n",
      "112/112 [==============================] - 0s 2ms/step - loss: 0.0843 - tp: 375.0000 - fp: 6227.0000 - tn: 221227.0000 - fn: 16.0000 - accuracy: 0.9726 - precision: 0.0568 - recall: 0.9591 - auc: 0.9958 - val_loss: 0.0577 - val_tp: 93.0000 - val_fp: 1079.0000 - val_tn: 55782.0000 - val_fn: 8.0000 - val_accuracy: 0.9809 - val_precision: 0.0794 - val_recall: 0.9208 - val_auc: 0.9812\n",
      "Epoch 36/100\n",
      "112/112 [==============================] - 0s 2ms/step - loss: 0.0889 - tp: 371.0000 - fp: 6781.0000 - tn: 220673.0000 - fn: 20.0000 - accuracy: 0.9702 - precision: 0.0519 - recall: 0.9488 - auc: 0.9953 - val_loss: 0.0577 - val_tp: 93.0000 - val_fp: 1110.0000 - val_tn: 55751.0000 - val_fn: 8.0000 - val_accuracy: 0.9804 - val_precision: 0.0773 - val_recall: 0.9208 - val_auc: 0.9814\n",
      "Epoch 37/100\n",
      "112/112 [==============================] - 0s 2ms/step - loss: 0.0790 - tp: 375.0000 - fp: 5742.0000 - tn: 221712.0000 - fn: 16.0000 - accuracy: 0.9747 - precision: 0.0613 - recall: 0.9591 - auc: 0.9965 - val_loss: 0.0562 - val_tp: 93.0000 - val_fp: 1047.0000 - val_tn: 55814.0000 - val_fn: 8.0000 - val_accuracy: 0.9815 - val_precision: 0.0816 - val_recall: 0.9208 - val_auc: 0.9817\n",
      "Epoch 38/100\n",
      "104/112 [==========================>...] - ETA: 0s - loss: 0.0799 - tp: 356.0000 - fp: 5349.0000 - tn: 207274.0000 - fn: 13.0000 - accuracy: 0.9748 - precision: 0.0624 - recall: 0.9648 - auc: 0.9964Restoring model weights from the end of the best epoch: 28.\n",
      "112/112 [==============================] - 0s 2ms/step - loss: 0.0794 - tp: 377.0000 - fp: 5740.0000 - tn: 221714.0000 - fn: 14.0000 - accuracy: 0.9747 - precision: 0.0616 - recall: 0.9642 - auc: 0.9965 - val_loss: 0.0530 - val_tp: 93.0000 - val_fp: 975.0000 - val_tn: 55886.0000 - val_fn: 8.0000 - val_accuracy: 0.9827 - val_precision: 0.0871 - val_recall: 0.9208 - val_auc: 0.9854\n",
      "Epoch 00038: early stopping\n"
     ]
    }
   ],
   "source": [
    "weighted_model = make_model()\n",
    "\n",
    "weighted_history = weighted_model.fit(X_train, y_train, \n",
    "                                    batch_size=BATCH_SIZE,\n",
    "                                    epochs=EPOCHS, \n",
    "                                    callbacks = [early_stopping], \n",
    "                                    validation_data=(X_test, y_test),\n",
    "                                    class_weight=class_weight) "
   ]
  },
  {
   "cell_type": "code",
   "execution_count": 28,
   "metadata": {
    "colab": {
     "base_uri": "https://localhost:8080/",
     "height": 585
    },
    "id": "N5iUrVe6t30B",
    "outputId": "73ab4843-065b-489b-bd35-ce02d1e499fd"
   },
   "outputs": [
    {
     "data": {
      "image/png": "[encoded data removed]",
      "text/plain": [
       "<Figure size 864x576 with 4 Axes>"
      ]
     },
     "metadata": {
      "needs_background": "light"
     },
     "output_type": "display_data"
    }
   ],
   "source": [
    "plot_metrics(weighted_history)"
   ]
  },
  {
   "cell_type": "code",
   "execution_count": 29,
   "metadata": {
    "id": "ErH9Ehhct30D"
   },
   "outputs": [],
   "source": [
    "predictions_weighted = weighted_model.predict(X_test, batch_size=BATCH_SIZE)"
   ]
  },
  {
   "cell_type": "code",
   "execution_count": 30,
   "metadata": {
    "colab": {
     "base_uri": "https://localhost:8080/",
     "height": 619
    },
    "id": "59NLR77Kt30E",
    "outputId": "67696d4f-c3b8-44b9-8dfe-2b977c2d25d1"
   },
   "outputs": [
    {
     "name": "stdout",
     "output_type": "stream",
     "text": [
      "loss :  0.07103399187326431\n",
      "tp :  94.0\n",
      "fp :  1342.0\n",
      "tn :  55519.0\n",
      "fn :  7.0\n",
      "accuracy :  0.9763175249099731\n",
      "precision :  0.06545960903167725\n",
      "recall :  0.9306930899620056\n",
      "auc :  0.9886809587478638\n",
      "\n",
      "confution matrix\n",
      " [[55519  1342]\n",
      " [    7    94]]\n",
      "\n",
      "f1 score\n",
      " 0.12231620039037085\n",
      "\n",
      "Accuracy: 0.97632\n",
      "Precision: 0.06546\n",
      "Recall: 0.93069\n"
     ]
    },
    {
     "data": {
      "image/png": "[encoded data removed]",
      "text/plain": [
       "<Figure size 360x360 with 2 Axes>"
      ]
     },
     "metadata": {
      "needs_background": "light"
     },
     "output_type": "display_data"
    }
   ],
   "source": [
    "weighted_results = weighted_model.evaluate(X_test, y_test,\n",
    "                                           batch_size=BATCH_SIZE, verbose=0)\n",
    "\n",
    "for name, value in zip(weighted_model.metrics_names, weighted_results):\n",
    "    print(name, ': ', value)\n",
    "    \n",
    "print()\n",
    "\n",
    "plot_cm(y_test, predictions_weighted, threshold=0.5)"
   ]
  },
  {
   "cell_type": "markdown",
   "metadata": {
    "id": "FF42Tjcdt30K"
   },
   "source": [
    "## Plot the ROC"
   ]
  },
  {
   "cell_type": "code",
   "execution_count": 31,
   "metadata": {
    "colab": {
     "base_uri": "https://localhost:8080/",
     "height": 406
    },
    "id": "DmZ5bpDEt30N",
    "outputId": "827d1526-1fec-4da4-cc93-0e74b6b38657"
   },
   "outputs": [
    {
     "data": {
      "text/plain": [
       "<matplotlib.legend.Legend at 0x7fb0beb7c3d0>"
      ]
     },
     "execution_count": 31,
     "metadata": {},
     "output_type": "execute_result"
    },
    {
     "data": {
      "image/png": "[encoded data removed]",
      "text/plain": [
       "<Figure size 576x432 with 1 Axes>"
      ]
     },
     "metadata": {
      "needs_background": "light"
     },
     "output_type": "display_data"
    }
   ],
   "source": [
    "plot_roc(\"Baseline ROC\", y_test, predictions_baseline, color='blue', linestyle='--')\n",
    "\n",
    "plot_roc(\"Weighted ROC\", y_test, predictions_weighted, color='red', linestyle='--')\n",
    "\n",
    "plt.legend(loc='lower right')"
   ]
  },
  {
   "cell_type": "code",
   "execution_count": null,
   "metadata": {
    "id": "rcbHFEtjGzxD"
   },
   "outputs": [],
   "source": []
  }
 ],
 "metadata": {
  "accelerator": "GPU",
  "colab": {
   "collapsed_sections": [],
   "machine_shape": "hm",
   "name": "120_DNN_Highly_Imbalanced_Data_fraud_detection.ipynb",
   "provenance": []
  },
  "kernelspec": {
   "display_name": "Python 3",
   "language": "python",
   "name": "python3"
  },
  "language_info": {
   "codemirror_mode": {
    "name": "ipython",
    "version": 3
   },
   "file_extension": ".py",
   "mimetype": "text/x-python",
   "name": "python",
   "nbconvert_exporter": "python",
   "pygments_lexer": "ipython3",
   "version": "3.7.10"
  }
 },
 "nbformat": 4,
 "nbformat_minor": 1
}
